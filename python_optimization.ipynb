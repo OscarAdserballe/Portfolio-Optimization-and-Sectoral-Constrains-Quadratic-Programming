{
 "cells": [
  {
   "cell_type": "markdown",
   "metadata": {},
   "source": [
    "Taking in, Covariance matrix, mu and number of points to sample\n",
    "\n",
    "Objective function is literally just the portfolio's variance which we are minimising for each target return. Taken together, then, the set of all solutions for the set of target returns results in the efficient frontiers<br>\n",
    "    <center>$\\sigma_p^2 = w^T C w$</center>\n",
    "\n",
    "Cannot, alas, use Lagrangian Optimisation, as we're using range-bounded constraints, rather than strict ones -> using Quadratic Programmming that takes 2nd order Taylor Series multivariate approximation letting $f'(x_0)=0$ and optimises accordingly.\n",
    "\n",
    "### Constraints\n",
    "\n",
    "Weights bounded by"
   ]
  },
  {
   "cell_type": "code",
   "execution_count": 30,
   "metadata": {},
   "outputs": [],
   "source": [
    "import numpy as np\n",
    "import pandas as pd\n",
    "import matplotlib.pyplot as plt\n",
    "import seaborn as sns\n",
    "from scipy.optimize import minimize # Least Squares approach to Quadratic Programming\n",
    "from numpy.linalg import inv  \n",
    "from numpy.linalg import pinv  \n",
    "from sklearn.decomposition import PCA"
   ]
  },
  {
   "cell_type": "code",
   "execution_count": 15,
   "metadata": {},
   "outputs": [],
   "source": [
    "import yfinance as yf\n",
    "\n",
    "# if it works, it works\n",
    "# Fetch S&P 500 company list and sectors from Wikipedia\n",
    "table = pd.read_html('https://en.wikipedia.org/wiki/List_of_S%26P_500_companies')\n",
    "ticker_data = table[0]\n",
    "tickers = ticker_data['Symbol'].tolist()\n",
    "ticker_to_sector = {row['Symbol']: row['GICS Sector'] for index, row in ticker_data.iterrows()}\n",
    "# Fetch historical data for the latest year\n",
    "data = yf.download(tickers, start='2022-01-01', end='2023-01-01')['Adj Close']\n",
    "\n",
    "data.to_csv(\"data\")\n",
    "sector_df = pd.DataFrame(list(ticker_to_sector.items()), columns=['Ticker', 'Sector'])\n",
    "sector_df.to_csv(\"Sectors\")"
   ]
  },
  {
   "cell_type": "code",
   "execution_count": 50,
   "metadata": {},
   "outputs": [],
   "source": [
    "returns = data.pct_change()\n",
    "returns = returns.iloc[1:]  #removing first zero-row\n",
    "# annualising\n",
    "Mu = returns.mean() * returns.shape[0]\n",
    "cov_matrix = returns.cov() * returns.shape[0]\n",
    "# getting corr matrix\n",
    "std_dev = np.sqrt(np.diag(cov_matrix))\n",
    "std_matrix = np.outer(std_dev, std_dev)\n",
    "corr_matrix = cov_matrix / std_matrix"
   ]
  },
  {
   "cell_type": "code",
   "execution_count": 24,
   "metadata": {},
   "outputs": [
    {
     "data": {
      "text/html": [
       "<div>\n",
       "<style scoped>\n",
       "    .dataframe tbody tr th:only-of-type {\n",
       "        vertical-align: middle;\n",
       "    }\n",
       "\n",
       "    .dataframe tbody tr th {\n",
       "        vertical-align: top;\n",
       "    }\n",
       "\n",
       "    .dataframe thead th {\n",
       "        text-align: right;\n",
       "    }\n",
       "</style>\n",
       "<table border=\"1\" class=\"dataframe\">\n",
       "  <thead>\n",
       "    <tr style=\"text-align: right;\">\n",
       "      <th></th>\n",
       "      <th>A</th>\n",
       "      <th>AAL</th>\n",
       "      <th>AAPL</th>\n",
       "      <th>ABBV</th>\n",
       "      <th>ABC</th>\n",
       "      <th>ABT</th>\n",
       "      <th>ACGL</th>\n",
       "      <th>ACN</th>\n",
       "      <th>ADBE</th>\n",
       "      <th>ADI</th>\n",
       "      <th>...</th>\n",
       "      <th>WYNN</th>\n",
       "      <th>XEL</th>\n",
       "      <th>XOM</th>\n",
       "      <th>XRAY</th>\n",
       "      <th>XYL</th>\n",
       "      <th>YUM</th>\n",
       "      <th>ZBH</th>\n",
       "      <th>ZBRA</th>\n",
       "      <th>ZION</th>\n",
       "      <th>ZTS</th>\n",
       "    </tr>\n",
       "  </thead>\n",
       "  <tbody>\n",
       "    <tr>\n",
       "      <th>A</th>\n",
       "      <td>0.124187</td>\n",
       "      <td>0.080526</td>\n",
       "      <td>0.082022</td>\n",
       "      <td>0.025705</td>\n",
       "      <td>0.028760</td>\n",
       "      <td>0.065081</td>\n",
       "      <td>0.038034</td>\n",
       "      <td>0.083327</td>\n",
       "      <td>0.102514</td>\n",
       "      <td>0.085288</td>\n",
       "      <td>...</td>\n",
       "      <td>0.084333</td>\n",
       "      <td>0.030382</td>\n",
       "      <td>0.030034</td>\n",
       "      <td>0.059762</td>\n",
       "      <td>0.079552</td>\n",
       "      <td>0.048374</td>\n",
       "      <td>0.058969</td>\n",
       "      <td>0.099227</td>\n",
       "      <td>0.065002</td>\n",
       "      <td>0.080266</td>\n",
       "    </tr>\n",
       "    <tr>\n",
       "      <th>AAL</th>\n",
       "      <td>0.080526</td>\n",
       "      <td>0.314124</td>\n",
       "      <td>0.115114</td>\n",
       "      <td>0.018880</td>\n",
       "      <td>0.040184</td>\n",
       "      <td>0.068185</td>\n",
       "      <td>0.069188</td>\n",
       "      <td>0.100526</td>\n",
       "      <td>0.118786</td>\n",
       "      <td>0.123698</td>\n",
       "      <td>...</td>\n",
       "      <td>0.178233</td>\n",
       "      <td>0.027127</td>\n",
       "      <td>0.022951</td>\n",
       "      <td>0.068121</td>\n",
       "      <td>0.101748</td>\n",
       "      <td>0.072170</td>\n",
       "      <td>0.084284</td>\n",
       "      <td>0.133304</td>\n",
       "      <td>0.117818</td>\n",
       "      <td>0.069799</td>\n",
       "    </tr>\n",
       "    <tr>\n",
       "      <th>AAPL</th>\n",
       "      <td>0.082022</td>\n",
       "      <td>0.115114</td>\n",
       "      <td>0.126240</td>\n",
       "      <td>0.018879</td>\n",
       "      <td>0.033796</td>\n",
       "      <td>0.059149</td>\n",
       "      <td>0.040440</td>\n",
       "      <td>0.093104</td>\n",
       "      <td>0.113906</td>\n",
       "      <td>0.098685</td>\n",
       "      <td>...</td>\n",
       "      <td>0.104884</td>\n",
       "      <td>0.035362</td>\n",
       "      <td>0.033745</td>\n",
       "      <td>0.057517</td>\n",
       "      <td>0.077447</td>\n",
       "      <td>0.049308</td>\n",
       "      <td>0.060869</td>\n",
       "      <td>0.117573</td>\n",
       "      <td>0.075732</td>\n",
       "      <td>0.075549</td>\n",
       "    </tr>\n",
       "    <tr>\n",
       "      <th>ABBV</th>\n",
       "      <td>0.025705</td>\n",
       "      <td>0.018880</td>\n",
       "      <td>0.018879</td>\n",
       "      <td>0.049907</td>\n",
       "      <td>0.024650</td>\n",
       "      <td>0.027310</td>\n",
       "      <td>0.014405</td>\n",
       "      <td>0.025059</td>\n",
       "      <td>0.018461</td>\n",
       "      <td>0.024075</td>\n",
       "      <td>...</td>\n",
       "      <td>0.010024</td>\n",
       "      <td>0.019093</td>\n",
       "      <td>0.014064</td>\n",
       "      <td>0.024744</td>\n",
       "      <td>0.021425</td>\n",
       "      <td>0.013413</td>\n",
       "      <td>0.021889</td>\n",
       "      <td>0.018358</td>\n",
       "      <td>0.022398</td>\n",
       "      <td>0.028411</td>\n",
       "    </tr>\n",
       "    <tr>\n",
       "      <th>ABC</th>\n",
       "      <td>0.028760</td>\n",
       "      <td>0.040184</td>\n",
       "      <td>0.033796</td>\n",
       "      <td>0.024650</td>\n",
       "      <td>0.055395</td>\n",
       "      <td>0.028607</td>\n",
       "      <td>0.029922</td>\n",
       "      <td>0.031801</td>\n",
       "      <td>0.023580</td>\n",
       "      <td>0.029464</td>\n",
       "      <td>...</td>\n",
       "      <td>0.024241</td>\n",
       "      <td>0.024157</td>\n",
       "      <td>0.023840</td>\n",
       "      <td>0.021162</td>\n",
       "      <td>0.026936</td>\n",
       "      <td>0.020785</td>\n",
       "      <td>0.025951</td>\n",
       "      <td>0.029921</td>\n",
       "      <td>0.029724</td>\n",
       "      <td>0.023286</td>\n",
       "    </tr>\n",
       "    <tr>\n",
       "      <th>...</th>\n",
       "      <td>...</td>\n",
       "      <td>...</td>\n",
       "      <td>...</td>\n",
       "      <td>...</td>\n",
       "      <td>...</td>\n",
       "      <td>...</td>\n",
       "      <td>...</td>\n",
       "      <td>...</td>\n",
       "      <td>...</td>\n",
       "      <td>...</td>\n",
       "      <td>...</td>\n",
       "      <td>...</td>\n",
       "      <td>...</td>\n",
       "      <td>...</td>\n",
       "      <td>...</td>\n",
       "      <td>...</td>\n",
       "      <td>...</td>\n",
       "      <td>...</td>\n",
       "      <td>...</td>\n",
       "      <td>...</td>\n",
       "      <td>...</td>\n",
       "    </tr>\n",
       "    <tr>\n",
       "      <th>YUM</th>\n",
       "      <td>0.048374</td>\n",
       "      <td>0.072170</td>\n",
       "      <td>0.049308</td>\n",
       "      <td>0.013413</td>\n",
       "      <td>0.020785</td>\n",
       "      <td>0.037134</td>\n",
       "      <td>0.029571</td>\n",
       "      <td>0.048042</td>\n",
       "      <td>0.051905</td>\n",
       "      <td>0.055240</td>\n",
       "      <td>...</td>\n",
       "      <td>0.066552</td>\n",
       "      <td>0.021981</td>\n",
       "      <td>0.017091</td>\n",
       "      <td>0.031309</td>\n",
       "      <td>0.048809</td>\n",
       "      <td>0.057659</td>\n",
       "      <td>0.037517</td>\n",
       "      <td>0.064767</td>\n",
       "      <td>0.040924</td>\n",
       "      <td>0.039733</td>\n",
       "    </tr>\n",
       "    <tr>\n",
       "      <th>ZBH</th>\n",
       "      <td>0.058969</td>\n",
       "      <td>0.084284</td>\n",
       "      <td>0.060869</td>\n",
       "      <td>0.021889</td>\n",
       "      <td>0.025951</td>\n",
       "      <td>0.050423</td>\n",
       "      <td>0.036802</td>\n",
       "      <td>0.063729</td>\n",
       "      <td>0.068613</td>\n",
       "      <td>0.063137</td>\n",
       "      <td>...</td>\n",
       "      <td>0.067919</td>\n",
       "      <td>0.026097</td>\n",
       "      <td>0.023835</td>\n",
       "      <td>0.057952</td>\n",
       "      <td>0.063669</td>\n",
       "      <td>0.037517</td>\n",
       "      <td>0.092584</td>\n",
       "      <td>0.071939</td>\n",
       "      <td>0.061480</td>\n",
       "      <td>0.052219</td>\n",
       "    </tr>\n",
       "    <tr>\n",
       "      <th>ZBRA</th>\n",
       "      <td>0.099227</td>\n",
       "      <td>0.133304</td>\n",
       "      <td>0.117573</td>\n",
       "      <td>0.018358</td>\n",
       "      <td>0.029921</td>\n",
       "      <td>0.071898</td>\n",
       "      <td>0.054954</td>\n",
       "      <td>0.108839</td>\n",
       "      <td>0.134659</td>\n",
       "      <td>0.116515</td>\n",
       "      <td>...</td>\n",
       "      <td>0.130710</td>\n",
       "      <td>0.031354</td>\n",
       "      <td>0.038880</td>\n",
       "      <td>0.073279</td>\n",
       "      <td>0.089026</td>\n",
       "      <td>0.064767</td>\n",
       "      <td>0.071939</td>\n",
       "      <td>0.214276</td>\n",
       "      <td>0.094844</td>\n",
       "      <td>0.086938</td>\n",
       "    </tr>\n",
       "    <tr>\n",
       "      <th>ZION</th>\n",
       "      <td>0.065002</td>\n",
       "      <td>0.117818</td>\n",
       "      <td>0.075732</td>\n",
       "      <td>0.022398</td>\n",
       "      <td>0.029724</td>\n",
       "      <td>0.057892</td>\n",
       "      <td>0.052078</td>\n",
       "      <td>0.074379</td>\n",
       "      <td>0.071309</td>\n",
       "      <td>0.077459</td>\n",
       "      <td>...</td>\n",
       "      <td>0.108861</td>\n",
       "      <td>0.029923</td>\n",
       "      <td>0.038688</td>\n",
       "      <td>0.061640</td>\n",
       "      <td>0.070730</td>\n",
       "      <td>0.040924</td>\n",
       "      <td>0.061480</td>\n",
       "      <td>0.094844</td>\n",
       "      <td>0.143775</td>\n",
       "      <td>0.056933</td>\n",
       "    </tr>\n",
       "    <tr>\n",
       "      <th>ZTS</th>\n",
       "      <td>0.080266</td>\n",
       "      <td>0.069799</td>\n",
       "      <td>0.075549</td>\n",
       "      <td>0.028411</td>\n",
       "      <td>0.023286</td>\n",
       "      <td>0.059845</td>\n",
       "      <td>0.032467</td>\n",
       "      <td>0.075956</td>\n",
       "      <td>0.091220</td>\n",
       "      <td>0.071716</td>\n",
       "      <td>...</td>\n",
       "      <td>0.070427</td>\n",
       "      <td>0.029657</td>\n",
       "      <td>0.017168</td>\n",
       "      <td>0.060081</td>\n",
       "      <td>0.061525</td>\n",
       "      <td>0.039733</td>\n",
       "      <td>0.052219</td>\n",
       "      <td>0.086938</td>\n",
       "      <td>0.056933</td>\n",
       "      <td>0.100904</td>\n",
       "    </tr>\n",
       "  </tbody>\n",
       "</table>\n",
       "<p>503 rows × 503 columns</p>\n",
       "</div>"
      ],
      "text/plain": [
       "             A       AAL      AAPL      ABBV       ABC       ABT      ACGL  \\\n",
       "A     0.124187  0.080526  0.082022  0.025705  0.028760  0.065081  0.038034   \n",
       "AAL   0.080526  0.314124  0.115114  0.018880  0.040184  0.068185  0.069188   \n",
       "AAPL  0.082022  0.115114  0.126240  0.018879  0.033796  0.059149  0.040440   \n",
       "ABBV  0.025705  0.018880  0.018879  0.049907  0.024650  0.027310  0.014405   \n",
       "ABC   0.028760  0.040184  0.033796  0.024650  0.055395  0.028607  0.029922   \n",
       "...        ...       ...       ...       ...       ...       ...       ...   \n",
       "YUM   0.048374  0.072170  0.049308  0.013413  0.020785  0.037134  0.029571   \n",
       "ZBH   0.058969  0.084284  0.060869  0.021889  0.025951  0.050423  0.036802   \n",
       "ZBRA  0.099227  0.133304  0.117573  0.018358  0.029921  0.071898  0.054954   \n",
       "ZION  0.065002  0.117818  0.075732  0.022398  0.029724  0.057892  0.052078   \n",
       "ZTS   0.080266  0.069799  0.075549  0.028411  0.023286  0.059845  0.032467   \n",
       "\n",
       "           ACN      ADBE       ADI  ...      WYNN       XEL       XOM  \\\n",
       "A     0.083327  0.102514  0.085288  ...  0.084333  0.030382  0.030034   \n",
       "AAL   0.100526  0.118786  0.123698  ...  0.178233  0.027127  0.022951   \n",
       "AAPL  0.093104  0.113906  0.098685  ...  0.104884  0.035362  0.033745   \n",
       "ABBV  0.025059  0.018461  0.024075  ...  0.010024  0.019093  0.014064   \n",
       "ABC   0.031801  0.023580  0.029464  ...  0.024241  0.024157  0.023840   \n",
       "...        ...       ...       ...  ...       ...       ...       ...   \n",
       "YUM   0.048042  0.051905  0.055240  ...  0.066552  0.021981  0.017091   \n",
       "ZBH   0.063729  0.068613  0.063137  ...  0.067919  0.026097  0.023835   \n",
       "ZBRA  0.108839  0.134659  0.116515  ...  0.130710  0.031354  0.038880   \n",
       "ZION  0.074379  0.071309  0.077459  ...  0.108861  0.029923  0.038688   \n",
       "ZTS   0.075956  0.091220  0.071716  ...  0.070427  0.029657  0.017168   \n",
       "\n",
       "          XRAY       XYL       YUM       ZBH      ZBRA      ZION       ZTS  \n",
       "A     0.059762  0.079552  0.048374  0.058969  0.099227  0.065002  0.080266  \n",
       "AAL   0.068121  0.101748  0.072170  0.084284  0.133304  0.117818  0.069799  \n",
       "AAPL  0.057517  0.077447  0.049308  0.060869  0.117573  0.075732  0.075549  \n",
       "ABBV  0.024744  0.021425  0.013413  0.021889  0.018358  0.022398  0.028411  \n",
       "ABC   0.021162  0.026936  0.020785  0.025951  0.029921  0.029724  0.023286  \n",
       "...        ...       ...       ...       ...       ...       ...       ...  \n",
       "YUM   0.031309  0.048809  0.057659  0.037517  0.064767  0.040924  0.039733  \n",
       "ZBH   0.057952  0.063669  0.037517  0.092584  0.071939  0.061480  0.052219  \n",
       "ZBRA  0.073279  0.089026  0.064767  0.071939  0.214276  0.094844  0.086938  \n",
       "ZION  0.061640  0.070730  0.040924  0.061480  0.094844  0.143775  0.056933  \n",
       "ZTS   0.060081  0.061525  0.039733  0.052219  0.086938  0.056933  0.100904  \n",
       "\n",
       "[503 rows x 503 columns]"
      ]
     },
     "execution_count": 24,
     "metadata": {},
     "output_type": "execute_result"
    }
   ],
   "source": [
    "cov_matrix"
   ]
  },
  {
   "cell_type": "code",
   "execution_count": 25,
   "metadata": {},
   "outputs": [],
   "source": [
    "# collecting all data in one df\n",
    "stock_df = pd.DataFrame({\n",
    "    'Risk': std_dev,  \n",
    "    'Return': Mu,  \n",
    "    'Ticker': tickers,\n",
    "    'Sector' : sector_list\n",
    "})"
   ]
  },
  {
   "cell_type": "code",
   "execution_count": 26,
   "metadata": {},
   "outputs": [
    {
     "data": {
      "application/vnd.plotly.v1+json": {
       "config": {
        "plotlyServerURL": "https://plot.ly"
       },
       "data": [
        {
         "customdata": [
          [
           "MMM"
          ],
          [
           "AOS"
          ],
          [
           "ABT"
          ],
          [
           "ABBV"
          ],
          [
           "ACN"
          ],
          [
           "ATVI"
          ],
          [
           "ADM"
          ],
          [
           "ADBE"
          ],
          [
           "ADP"
          ],
          [
           "AES"
          ],
          [
           "AFL"
          ],
          [
           "A"
          ],
          [
           "APD"
          ],
          [
           "AKAM"
          ],
          [
           "ALK"
          ],
          [
           "ALB"
          ],
          [
           "ARE"
          ],
          [
           "ALGN"
          ],
          [
           "ALLE"
          ],
          [
           "LNT"
          ],
          [
           "ALL"
          ],
          [
           "GOOGL"
          ],
          [
           "GOOG"
          ],
          [
           "MO"
          ],
          [
           "AMZN"
          ],
          [
           "AMCR"
          ],
          [
           "AMD"
          ],
          [
           "AEE"
          ],
          [
           "AAL"
          ],
          [
           "AEP"
          ],
          [
           "AXP"
          ],
          [
           "AIG"
          ],
          [
           "AMT"
          ],
          [
           "AWK"
          ],
          [
           "AMP"
          ],
          [
           "ABC"
          ],
          [
           "AME"
          ],
          [
           "AMGN"
          ],
          [
           "APH"
          ],
          [
           "ADI"
          ],
          [
           "ANSS"
          ],
          [
           "AON"
          ],
          [
           "APA"
          ],
          [
           "AAPL"
          ],
          [
           "AMAT"
          ],
          [
           "APTV"
          ],
          [
           "ACGL"
          ],
          [
           "ANET"
          ],
          [
           "AJG"
          ],
          [
           "AIZ"
          ],
          [
           "T"
          ],
          [
           "ATO"
          ],
          [
           "ADSK"
          ],
          [
           "AZO"
          ],
          [
           "AVB"
          ],
          [
           "AVY"
          ],
          [
           "AXON"
          ],
          [
           "BKR"
          ],
          [
           "BALL"
          ],
          [
           "BAC"
          ],
          [
           "BBWI"
          ],
          [
           "BAX"
          ],
          [
           "BDX"
          ],
          [
           "WRB"
          ],
          [
           "BRK.B"
          ],
          [
           "BBY"
          ],
          [
           "BIO"
          ],
          [
           "TECH"
          ],
          [
           "BIIB"
          ],
          [
           "BLK"
          ],
          [
           "BK"
          ],
          [
           "BA"
          ],
          [
           "BKNG"
          ],
          [
           "BWA"
          ],
          [
           "BXP"
          ],
          [
           "BSX"
          ],
          [
           "BMY"
          ],
          [
           "AVGO"
          ],
          [
           "BR"
          ],
          [
           "BRO"
          ],
          [
           "BF.B"
          ],
          [
           "BG"
          ],
          [
           "CHRW"
          ],
          [
           "CDNS"
          ],
          [
           "CZR"
          ],
          [
           "CPT"
          ],
          [
           "CPB"
          ],
          [
           "COF"
          ],
          [
           "CAH"
          ],
          [
           "KMX"
          ],
          [
           "CCL"
          ],
          [
           "CARR"
          ],
          [
           "CTLT"
          ],
          [
           "CAT"
          ],
          [
           "CBOE"
          ],
          [
           "CBRE"
          ],
          [
           "CDW"
          ],
          [
           "CE"
          ],
          [
           "CNC"
          ],
          [
           "CNP"
          ],
          [
           "CDAY"
          ],
          [
           "CF"
          ],
          [
           "CRL"
          ],
          [
           "SCHW"
          ],
          [
           "CHTR"
          ],
          [
           "CVX"
          ],
          [
           "CMG"
          ],
          [
           "CB"
          ],
          [
           "CHD"
          ],
          [
           "CI"
          ],
          [
           "CINF"
          ],
          [
           "CTAS"
          ],
          [
           "CSCO"
          ],
          [
           "C"
          ],
          [
           "CFG"
          ],
          [
           "CLX"
          ],
          [
           "CME"
          ],
          [
           "CMS"
          ],
          [
           "KO"
          ],
          [
           "CTSH"
          ],
          [
           "CL"
          ],
          [
           "CMCSA"
          ],
          [
           "CMA"
          ],
          [
           "CAG"
          ],
          [
           "COP"
          ],
          [
           "ED"
          ],
          [
           "STZ"
          ],
          [
           "CEG"
          ],
          [
           "COO"
          ],
          [
           "CPRT"
          ],
          [
           "GLW"
          ],
          [
           "CTVA"
          ],
          [
           "CSGP"
          ],
          [
           "COST"
          ],
          [
           "CTRA"
          ],
          [
           "CCI"
          ],
          [
           "CSX"
          ],
          [
           "CMI"
          ],
          [
           "CVS"
          ],
          [
           "DHI"
          ],
          [
           "DHR"
          ],
          [
           "DRI"
          ],
          [
           "DVA"
          ],
          [
           "DE"
          ],
          [
           "DAL"
          ],
          [
           "XRAY"
          ],
          [
           "DVN"
          ],
          [
           "DXCM"
          ],
          [
           "FANG"
          ],
          [
           "DLR"
          ],
          [
           "DFS"
          ],
          [
           "DIS"
          ],
          [
           "DG"
          ],
          [
           "DLTR"
          ],
          [
           "D"
          ],
          [
           "DPZ"
          ],
          [
           "DOV"
          ],
          [
           "DOW"
          ],
          [
           "DTE"
          ],
          [
           "DUK"
          ],
          [
           "DD"
          ],
          [
           "DXC"
          ],
          [
           "EMN"
          ],
          [
           "ETN"
          ],
          [
           "EBAY"
          ],
          [
           "ECL"
          ],
          [
           "EIX"
          ],
          [
           "EW"
          ],
          [
           "EA"
          ],
          [
           "ELV"
          ],
          [
           "LLY"
          ],
          [
           "EMR"
          ],
          [
           "ENPH"
          ],
          [
           "ETR"
          ],
          [
           "EOG"
          ],
          [
           "EPAM"
          ],
          [
           "EQT"
          ],
          [
           "EFX"
          ],
          [
           "EQIX"
          ],
          [
           "EQR"
          ],
          [
           "ESS"
          ],
          [
           "EL"
          ],
          [
           "ETSY"
          ],
          [
           "EG"
          ],
          [
           "EVRG"
          ],
          [
           "ES"
          ],
          [
           "EXC"
          ],
          [
           "EXPE"
          ],
          [
           "EXPD"
          ],
          [
           "EXR"
          ],
          [
           "XOM"
          ],
          [
           "FFIV"
          ],
          [
           "FDS"
          ],
          [
           "FICO"
          ],
          [
           "FAST"
          ],
          [
           "FRT"
          ],
          [
           "FDX"
          ],
          [
           "FITB"
          ],
          [
           "FSLR"
          ],
          [
           "FE"
          ],
          [
           "FIS"
          ],
          [
           "FI"
          ],
          [
           "FLT"
          ],
          [
           "FMC"
          ],
          [
           "F"
          ],
          [
           "FTNT"
          ],
          [
           "FTV"
          ],
          [
           "FOXA"
          ],
          [
           "FOX"
          ],
          [
           "BEN"
          ],
          [
           "FCX"
          ],
          [
           "GRMN"
          ],
          [
           "IT"
          ],
          [
           "GEHC"
          ],
          [
           "GEN"
          ],
          [
           "GNRC"
          ],
          [
           "GD"
          ],
          [
           "GE"
          ],
          [
           "GIS"
          ],
          [
           "GM"
          ],
          [
           "GPC"
          ],
          [
           "GILD"
          ],
          [
           "GL"
          ],
          [
           "GPN"
          ],
          [
           "GS"
          ],
          [
           "HAL"
          ],
          [
           "HIG"
          ],
          [
           "HAS"
          ],
          [
           "HCA"
          ],
          [
           "PEAK"
          ],
          [
           "HSIC"
          ],
          [
           "HSY"
          ],
          [
           "HES"
          ],
          [
           "HPE"
          ],
          [
           "HLT"
          ],
          [
           "HOLX"
          ],
          [
           "HD"
          ],
          [
           "HON"
          ],
          [
           "HRL"
          ],
          [
           "HST"
          ],
          [
           "HWM"
          ],
          [
           "HPQ"
          ],
          [
           "HUM"
          ],
          [
           "HBAN"
          ],
          [
           "HII"
          ],
          [
           "IBM"
          ],
          [
           "IEX"
          ],
          [
           "IDXX"
          ],
          [
           "ITW"
          ],
          [
           "ILMN"
          ],
          [
           "INCY"
          ],
          [
           "IR"
          ],
          [
           "PODD"
          ],
          [
           "INTC"
          ],
          [
           "ICE"
          ],
          [
           "IFF"
          ],
          [
           "IP"
          ],
          [
           "IPG"
          ],
          [
           "INTU"
          ],
          [
           "ISRG"
          ],
          [
           "IVZ"
          ],
          [
           "INVH"
          ],
          [
           "IQV"
          ],
          [
           "IRM"
          ],
          [
           "JBHT"
          ],
          [
           "JKHY"
          ],
          [
           "J"
          ],
          [
           "JNJ"
          ],
          [
           "JCI"
          ],
          [
           "JPM"
          ],
          [
           "JNPR"
          ],
          [
           "K"
          ],
          [
           "KVUE"
          ],
          [
           "KDP"
          ],
          [
           "KEY"
          ],
          [
           "KEYS"
          ],
          [
           "KMB"
          ],
          [
           "KIM"
          ],
          [
           "KMI"
          ],
          [
           "KLAC"
          ],
          [
           "KHC"
          ],
          [
           "KR"
          ],
          [
           "LHX"
          ],
          [
           "LH"
          ],
          [
           "LRCX"
          ],
          [
           "LW"
          ],
          [
           "LVS"
          ],
          [
           "LDOS"
          ],
          [
           "LEN"
          ],
          [
           "LNC"
          ],
          [
           "LIN"
          ],
          [
           "LYV"
          ],
          [
           "LKQ"
          ],
          [
           "LMT"
          ],
          [
           "L"
          ],
          [
           "LOW"
          ],
          [
           "LYB"
          ],
          [
           "MTB"
          ],
          [
           "MRO"
          ],
          [
           "MPC"
          ],
          [
           "MKTX"
          ],
          [
           "MAR"
          ],
          [
           "MMC"
          ],
          [
           "MLM"
          ],
          [
           "MAS"
          ],
          [
           "MA"
          ],
          [
           "MTCH"
          ],
          [
           "MKC"
          ],
          [
           "MCD"
          ],
          [
           "MCK"
          ],
          [
           "MDT"
          ],
          [
           "MRK"
          ],
          [
           "META"
          ],
          [
           "MET"
          ],
          [
           "MTD"
          ],
          [
           "MGM"
          ],
          [
           "MCHP"
          ],
          [
           "MU"
          ],
          [
           "MSFT"
          ],
          [
           "MAA"
          ],
          [
           "MRNA"
          ],
          [
           "MHK"
          ],
          [
           "MOH"
          ],
          [
           "TAP"
          ],
          [
           "MDLZ"
          ],
          [
           "MPWR"
          ],
          [
           "MNST"
          ],
          [
           "MCO"
          ],
          [
           "MS"
          ],
          [
           "MOS"
          ],
          [
           "MSI"
          ],
          [
           "MSCI"
          ],
          [
           "NDAQ"
          ],
          [
           "NTAP"
          ],
          [
           "NFLX"
          ],
          [
           "NWL"
          ],
          [
           "NEM"
          ],
          [
           "NWSA"
          ],
          [
           "NWS"
          ],
          [
           "NEE"
          ],
          [
           "NKE"
          ],
          [
           "NI"
          ],
          [
           "NDSN"
          ],
          [
           "NSC"
          ],
          [
           "NTRS"
          ],
          [
           "NOC"
          ],
          [
           "NCLH"
          ],
          [
           "NRG"
          ],
          [
           "NUE"
          ],
          [
           "NVDA"
          ],
          [
           "NVR"
          ],
          [
           "NXPI"
          ],
          [
           "ORLY"
          ],
          [
           "OXY"
          ],
          [
           "ODFL"
          ],
          [
           "OMC"
          ],
          [
           "ON"
          ],
          [
           "OKE"
          ],
          [
           "ORCL"
          ],
          [
           "OGN"
          ],
          [
           "OTIS"
          ],
          [
           "PCAR"
          ],
          [
           "PKG"
          ],
          [
           "PANW"
          ],
          [
           "PARA"
          ],
          [
           "PH"
          ],
          [
           "PAYX"
          ],
          [
           "PAYC"
          ],
          [
           "PYPL"
          ],
          [
           "PNR"
          ],
          [
           "PEP"
          ],
          [
           "PFE"
          ],
          [
           "PCG"
          ],
          [
           "PM"
          ],
          [
           "PSX"
          ],
          [
           "PNW"
          ],
          [
           "PXD"
          ],
          [
           "PNC"
          ],
          [
           "POOL"
          ],
          [
           "PPG"
          ],
          [
           "PPL"
          ],
          [
           "PFG"
          ],
          [
           "PG"
          ],
          [
           "PGR"
          ],
          [
           "PLD"
          ],
          [
           "PRU"
          ],
          [
           "PEG"
          ],
          [
           "PTC"
          ],
          [
           "PSA"
          ],
          [
           "PHM"
          ],
          [
           "QRVO"
          ],
          [
           "PWR"
          ],
          [
           "QCOM"
          ],
          [
           "DGX"
          ],
          [
           "RL"
          ],
          [
           "RJF"
          ],
          [
           "RTX"
          ],
          [
           "O"
          ],
          [
           "REG"
          ],
          [
           "REGN"
          ],
          [
           "RF"
          ],
          [
           "RSG"
          ],
          [
           "RMD"
          ],
          [
           "RVTY"
          ],
          [
           "RHI"
          ],
          [
           "ROK"
          ],
          [
           "ROL"
          ],
          [
           "ROP"
          ],
          [
           "ROST"
          ],
          [
           "RCL"
          ],
          [
           "SPGI"
          ],
          [
           "CRM"
          ],
          [
           "SBAC"
          ],
          [
           "SLB"
          ],
          [
           "STX"
          ],
          [
           "SEE"
          ],
          [
           "SRE"
          ],
          [
           "NOW"
          ],
          [
           "SHW"
          ],
          [
           "SPG"
          ],
          [
           "SWKS"
          ],
          [
           "SJM"
          ],
          [
           "SNA"
          ],
          [
           "SEDG"
          ],
          [
           "SO"
          ],
          [
           "LUV"
          ],
          [
           "SWK"
          ],
          [
           "SBUX"
          ],
          [
           "STT"
          ],
          [
           "STLD"
          ],
          [
           "STE"
          ],
          [
           "SYK"
          ],
          [
           "SYF"
          ],
          [
           "SNPS"
          ],
          [
           "SYY"
          ],
          [
           "TMUS"
          ],
          [
           "TROW"
          ],
          [
           "TTWO"
          ],
          [
           "TPR"
          ],
          [
           "TRGP"
          ],
          [
           "TGT"
          ],
          [
           "TEL"
          ],
          [
           "TDY"
          ],
          [
           "TFX"
          ],
          [
           "TER"
          ],
          [
           "TSLA"
          ],
          [
           "TXN"
          ],
          [
           "TXT"
          ],
          [
           "TMO"
          ],
          [
           "TJX"
          ],
          [
           "TSCO"
          ],
          [
           "TT"
          ],
          [
           "TDG"
          ],
          [
           "TRV"
          ],
          [
           "TRMB"
          ],
          [
           "TFC"
          ],
          [
           "TYL"
          ],
          [
           "TSN"
          ],
          [
           "USB"
          ],
          [
           "UDR"
          ],
          [
           "ULTA"
          ],
          [
           "UNP"
          ],
          [
           "UAL"
          ],
          [
           "UPS"
          ],
          [
           "URI"
          ],
          [
           "UNH"
          ],
          [
           "UHS"
          ],
          [
           "VLO"
          ],
          [
           "VTR"
          ],
          [
           "VRSN"
          ],
          [
           "VRSK"
          ],
          [
           "VZ"
          ],
          [
           "VRTX"
          ],
          [
           "VFC"
          ],
          [
           "VTRS"
          ],
          [
           "VICI"
          ],
          [
           "V"
          ],
          [
           "VMC"
          ],
          [
           "WAB"
          ],
          [
           "WBA"
          ],
          [
           "WMT"
          ],
          [
           "WBD"
          ],
          [
           "WM"
          ],
          [
           "WAT"
          ],
          [
           "WEC"
          ],
          [
           "WFC"
          ],
          [
           "WELL"
          ],
          [
           "WST"
          ],
          [
           "WDC"
          ],
          [
           "WRK"
          ],
          [
           "WY"
          ],
          [
           "WHR"
          ],
          [
           "WMB"
          ],
          [
           "WTW"
          ],
          [
           "GWW"
          ],
          [
           "WYNN"
          ],
          [
           "XEL"
          ],
          [
           "XYL"
          ],
          [
           "YUM"
          ],
          [
           "ZBRA"
          ],
          [
           "ZBH"
          ],
          [
           "ZION"
          ],
          [
           "ZTS"
          ]
         ],
         "hovertemplate": "Risk=%{x}<br>Return=%{y}<br>Ticker=%{customdata[0]}<extra></extra>",
         "legendgroup": "",
         "marker": {
          "color": "#636efa",
          "symbol": "circle"
         },
         "mode": "markers",
         "name": "",
         "orientation": "v",
         "showlegend": false,
         "type": "scatter",
         "x": [
          0.35240121569436644,
          0.5604679508782554,
          0.35530258491835753,
          0.22339842769114923,
          0.23536078768358834,
          0.2659157343729488,
          0.2782439052268564,
          0.330180403112457,
          0.4497088070520234,
          0.3668925583674111,
          0.310710776073725,
          0.28217851771766933,
          0.47681968788326806,
          0.21915921673632122,
          0.23382492400649627,
          0.35049752350079055,
          0.23514269816198555,
          0.3259591770108898,
          0.2911780439356054,
          0.26586160382529284,
          0.29805017447973636,
          0.5481484129134835,
          0.5980193945005193,
          0.41002551132912285,
          0.297203929840939,
          0.3199095635549094,
          0.5053639383098096,
          0.2761151353898736,
          0.6080951380569086,
          0.24389294490066796,
          0.21687636447082084,
          0.35427574660792194,
          0.31756329567213615,
          0.49918434579134763,
          0.42874088834488266,
          0.41500839205659873,
          0.27829607426457226,
          0.31153113690845347,
          0.5863506367791812,
          0.28583844159030214,
          0.29623242897028645,
          0.518996593064542,
          0.30650517362514784,
          0.23297827511870775,
          0.2995159062158915,
          0.2687117244962476,
          0.3722436950272494,
          0.3308110596776718,
          0.26875411147582234,
          0.5248830360291901,
          0.35428288381706735,
          0.2950098365264178,
          0.46573097318471146,
          0.3217668929478916,
          0.4122954927948053,
          0.3008767306196626,
          0.6103405396607385,
          0.4525090010317145,
          0.24245126810133813,
          0.378268612618728,
          null,
          0.3324005553267341,
          0.5060447716181798,
          0.4075678666073403,
          0.31372493720192673,
          0.42373696253423904,
          0.4503958412180543,
          0.3671346123584149,
          0.1965891325614517,
          0.29872291750065305,
          null,
          0.32389689905763824,
          0.2715359809185427,
          0.3808732005603683,
          0.2975805446304019,
          0.3312475308075109,
          0.2449120767525583,
          0.2712502088411348,
          0.33467336587390845,
          0.335066477811656,
          0.22894631963870082,
          0.25388786019491943,
          0.3415643136757204,
          0.3050415805726608,
          0.7668377334541598,
          0.5726603021782819,
          0.4068850157704361,
          0.31018777219960236,
          0.40466041589257845,
          0.4727381888589388,
          0.49276381399570207,
          0.35250065688036136,
          0.24480710696297744,
          0.33977167877319503,
          0.4059220655372944,
          0.26248563744491343,
          0.3231899929816281,
          0.20126279424400334,
          0.3208433771999804,
          0.3681123762074432,
          0.29714893163611905,
          0.24937721475905145,
          0.40916025042139864,
          0.28127612620901987,
          0.2313941554288673,
          0.3252484293661943,
          0.2296069107609092,
          0.4230512280612204,
          0.34143053449344507,
          0.42709748918926266,
          0.31307156254614305,
          0.23815756392682685,
          0.3389996748226765,
          0.264127072146308,
          0.45241501059634465,
          0.47122542308230503,
          0.2922584475065049,
          0.44032465785403574,
          0.2829426619509035,
          0.2719630012623066,
          0.536513118854766,
          0.4713170693793908,
          0.34022454489203424,
          0.2820201671746679,
          0.2646071335520736,
          0.3282417510543794,
          0.7000992536102478,
          0.23626558039914264,
          0.45793744432901085,
          0.32980288852450607,
          0.3502198132301714,
          0.3984877573600729,
          0.32878608546089105,
          0.24878183572785448,
          0.4379575336058224,
          0.33830214064792324,
          0.36964467840085585,
          0.3382009479198799,
          0.41431370269950923,
          0.2843394238759484,
          0.3018391509358018,
          0.34349359639541815,
          0.337877136132966,
          0.22112412422327826,
          0.21607935314554486,
          0.4422432173500388,
          0.5382083092365897,
          0.5171200410643542,
          0.5460802751390068,
          0.26122585976524376,
          0.38118826281424345,
          0.34599859924636617,
          0.21882216038377184,
          0.38981374337534386,
          0.28804529532971845,
          0.2696686439805155,
          0.42043187116086056,
          0.2744911421871656,
          0.347682966201799,
          0.2688017020681496,
          0.7255882355232103,
          0.4475962255896704,
          0.8441854518267996,
          0.35670533638121,
          0.2694434746060615,
          0.5762203838951272,
          0.23914539961372663,
          0.2645113828546335,
          0.2794667968337355,
          0.244987179605723,
          0.7696243767736236,
          0.23236322046988533,
          0.39308560251800834,
          0.25773647634250424,
          0.31421509410039605,
          0.520040286897647,
          0.335196836529732,
          0.4883529747410204,
          0.46891754422097104,
          0.28522953424689856,
          0.5374638211569241,
          0.2913963366492222,
          0.4264860457697095,
          0.23293189235466497,
          0.3704310257955641,
          0.30357044782118575,
          0.5084009091343298,
          0.4506884773939964,
          0.36074185339990367,
          0.3448840129013471,
          0.2855094676758244,
          0.30768843883054725,
          0.3197008790229595,
          0.2808478300411136,
          0.5169080378002114,
          0.5383541282462683,
          0.2961542534175392,
          0.23486935402477077,
          0.34803476917231724,
          0.30416959205190985,
          0.3450137364250132,
          0.2532223088323163,
          0.2237149896807792,
          0.2454529200735043,
          0.31864508848577294,
          0.43796860710922736,
          0.6988388439623375,
          0.3869094450340722,
          0.38573220033446237,
          0.24388088984977122,
          0.39672140215443774,
          0.3112569103693872,
          0.2933925959408514,
          0.28419187466797996,
          0.5100959179051977,
          0.33818766772219233,
          0.33681504388036304,
          0.41764856425116603,
          0.31228024984567515,
          0.4463457751134858,
          0.25797714813532224,
          0.26675006724156125,
          0.3675829951304012,
          0.27001325263765946,
          0.24896979207747674,
          0.34603011837575914,
          0.42061840596419064,
          0.2114429039859276,
          0.25885248542213685,
          0.3953708166703191,
          0.2101580011488511,
          0.32441711096495085,
          0.3340296147193815,
          0.23751621975869516,
          0.28111801301198763,
          0.42759616405003265,
          0.2584910307416491,
          0.32708802543258103,
          0.5541099829670165,
          0.2649242639597381,
          0.3807259143434597,
          0.4787423384041638,
          0.29871930844868233,
          0.29210710787819416,
          0.34301514016658236,
          0.36869023635175796,
          0.344662399727451,
          0.350498185367281,
          0.43843464723669684,
          0.3582383066880783,
          0.259367129646067,
          0.4381637756570269,
          0.29046644105922903,
          0.34283058120215437,
          0.32316170848006803,
          0.24980768777765824,
          0.1737106947355149,
          0.30179116371620834,
          0.29735031332431555,
          0.2210960092983557,
          0.21109768197476006,
          0.3537014353632489,
          0.3325696972775803,
          0.2531452192923847,
          0.3057853153878484,
          0.4872586957323186,
          0.21872262500507966,
          0.2718856136165922,
          0.5147236008021947,
          0.19643159807612723,
          0.332559096647388,
          null,
          0.23380605231631796,
          0.2480392590501485,
          0.43478288438800533,
          0.2845239740770287,
          0.3012044109028459,
          0.29491427404468734,
          0.3418813371079,
          0.27148529388444176,
          0.26377819121082124,
          0.5652936363720936,
          0.2442341258019713,
          0.33254933276268644,
          0.5410612517980252,
          0.3739638456283095,
          0.5684746228130563,
          0.2939924822174179,
          0.34377462228749445,
          0.4408540363740619,
          0.32191489943064316,
          0.2673148128594337,
          0.37072461471119517,
          0.3562680789031025,
          0.1974907991890744,
          0.46522288503925147,
          0.23963386337770726,
          0.3488303872623412,
          0.2063077107155005,
          0.2507473813331183,
          0.2519117285317055,
          0.6412283136569722,
          0.4804363529342139,
          0.4652415194100741,
          0.25914543131421597,
          0.3806420796051793,
          0.3251541350976306,
          0.25457586437700386,
          0.27215624424522517,
          0.29615618431600327,
          0.24818626353960618,
          0.29402081737440566,
          0.5400439199143646,
          0.3609251194764706,
          0.6130142339117707,
          0.19890489750329676,
          0.7217403357953819,
          0.5189737805000214,
          0.32135646758286707,
          0.3959374854480913,
          0.35241624887687323,
          0.3026013591513235,
          0.3538118319896267,
          0.630463094563841,
          0.36993104104249536,
          0.47160896546438835,
          0.7448976994470848,
          0.2712147845306757,
          0.26585050990272646,
          0.30999594441932354,
          0.3806195126308637,
          0.6992130990767539,
          0.2509227918715524,
          0.4217667019065967,
          0.3131893246981721,
          0.5560697927971551,
          0.36238992269075626,
          0.2894151668291829,
          0.33695409220355654,
          0.3431685790935425,
          0.468490934476947,
          0.6303799503949178,
          0.3601712388067002,
          0.41489255439432626,
          0.36365733684956375,
          0.35904021413398823,
          0.45765738500639846,
          0.2217776543960322,
          0.4195488625218592,
          0.31744447440407,
          0.34236198955513825,
          0.33001364542464323,
          0.6116217187245835,
          0.3046286995691448,
          0.29241188067480917,
          0.26518214340266333,
          0.5487095388239523,
          0.48403919905040776,
          0.5627321357221073,
          0.5335211447266952,
          0.2848056549475732,
          0.26143774137834686,
          0.35530644474704076,
          0.27212405146935786,
          0.2388683757214023,
          0.194201809538726,
          0.26599888173584935,
          0.3118976714114353,
          0.21906529770372782,
          0.25669851150408385,
          0.31083514647383226,
          0.43802490796809535,
          0.29740722775159106,
          0.3424935549701489,
          0.24847968953805294,
          0.3023614435287473,
          0.3321735617514401,
          0.24599180898490638,
          0.565086785233418,
          0.4323606306603547,
          0.35239391468384174,
          0.23365216693301707,
          0.29300419527376137,
          0.28630554886061294,
          0.3900842597226671,
          0.39132079121564994,
          0.3893180816553651,
          0.4051075328158339,
          0.5851732502346068,
          0.46645750270789105,
          0.4653181816548422,
          0.674535507888599,
          0.2949602492345788,
          0.33627265895798786,
          0.3594389604238723,
          0.3589271905217812,
          0.33928433700992094,
          0.44777524802371366,
          0.33001205656153926,
          0.3684555765652249,
          0.2969938237563028,
          0.25800943534585175,
          0.45033429020990984,
          0.2219131068655859,
          0.25934334740251247,
          0.3784722479292299,
          0.32762326936773184,
          0.35798581352152037,
          0.36208326879645253,
          0.7081715379614478,
          0.33521414513239906,
          0.3527877792757613,
          0.23484822687661475,
          0.4939185704552227,
          0.2603851222697416,
          0.42247169569092063,
          0.22712907712729363,
          0.3256858622452378,
          0.30422646144988974,
          0.23844030429683422,
          0.326956135576073,
          0.4510776520570611,
          0.40267125050983,
          0.4212304487159229,
          0.2330037132379216,
          0.4290267063416077,
          0.4288108547834423,
          0.4369040340075845,
          0.312657403856952,
          0.28706992619267724,
          0.2718472700346931,
          0.28405996577285625,
          0.3439698628971018,
          0.29701712000793573,
          0.41027400064642255,
          0.3321288634864284,
          0.5235637931264202,
          0.32167745441339596,
          0.3497249335920967,
          0.4607495025526615,
          0.32975025305918987,
          0.32068404230013925,
          0.2938646175966856,
          0.4895600581137898,
          0.4094319952814156,
          0.42095295707301905,
          0.4245803791889836,
          0.22761386742063838,
          0.3528409798846181,
          0.6507246764402965,
          0.2713157170129447,
          0.3041451747709014,
          0.4389351018222882,
          0.3196474133662734,
          0.33383464168245836,
          0.41411592350671167,
          0.5420650382295613,
          0.2770500881448993,
          0.3950029702215738,
          0.3676433031867557,
          0.24324305527025394,
          0.2606501961608357,
          0.31693975697012494,
          0.41109130431594687,
          0.2896133434480572,
          0.3082183729644847,
          0.44136669787208777,
          0.2660084702184953,
          0.44739554441729723,
          0.30937525480932415,
          0.27909134652282286,
          0.3447010331791377,
          0.31613596695453827,
          0.310066250207995,
          0.4244820148561778,
          0.22561808172347486,
          0.3239173023521456,
          0.33642810136739787,
          0.3001511708924267,
          0.6267409975052204,
          0.4748029720865358,
          0.22997586117223734,
          0.2814370767810283,
          0.3345652113343473,
          0.3900591507762331,
          0.21438630817016827,
          0.28706971474903115,
          0.26663522474495993,
          0.2486971951426515,
          0.3615297833824886,
          0.4199535849501701,
          0.24816330497250666,
          0.30930875281912046,
          0.5807303208390114,
          0.22833252783894428,
          0.34834160324350205,
          0.3626278510263284,
          0.350015672677355,
          0.24012297273719188,
          0.30427605535787683,
          0.46289927630799477,
          0.3791770224859108,
          0.31765366469105
         ],
         "xaxis": "x",
         "y": [
          0.023461538143819016,
          -0.2312267900438848,
          -0.26837506605489336,
          0.2401280589593644,
          0.2630218809594017,
          -0.1841598070856787,
          0.3815332954664671,
          -0.3544112263100675,
          -0.41390667005688375,
          0.008767451118543823,
          0.38060146961979957,
          0.037315587386958504,
          -0.30534219954099884,
          0.05390675997321237,
          0.13017031597831508,
          0.25395558558521947,
          0.26403053784338804,
          0.17256948521378856,
          -0.16204749254483897,
          0.17012339497775308,
          -0.287321093036634,
          0.07158920804574642,
          -0.9390753785045056,
          -0.14615066906641938,
          0.20826907313866505,
          -0.14324716795164427,
          -0.3591197653799837,
          0.08018920899609183,
          -0.6552486664455165,
          0.008565244090791402,
          0.20158413019847332,
          0.10249436557768166,
          -0.22528495832543105,
          -0.5822844392149344,
          -0.06758370261824143,
          -0.4070734718130625,
          0.06953629514424142,
          -0.31133772354334077,
          0.6985189456633132,
          0.10709051685719406,
          -0.07267369337643281,
          -0.4431608774172221,
          -0.33353972093133577,
          0.11658282290840716,
          0.17281179646521283,
          -0.3783242902625187,
          -0.07030532888015406,
          -0.0816625345401899,
          -0.13577285665257133,
          0.21868152278041342,
          -0.05418087625018042,
          0.23107185688531884,
          0.021372660562183565,
          -0.25791728985292117,
          -0.5011563496527266,
          -0.4694143018026955,
          -0.29999475354925786,
          -0.09555428841740443,
          0.0719340652973216,
          -0.11925534511993785,
          null,
          0.14044087253937276,
          0.23743536507565788,
          -0.47546986073339437,
          -0.17066607253281862,
          -0.1098994269530934,
          0.2919489161758253,
          -0.15737977356724153,
          0.2007151062555953,
          -0.2362423325402413,
          null,
          -0.1284785565735861,
          0.10728936539804723,
          -0.023926680635889985,
          -0.48287370435730526,
          -0.23967533987716638,
          0.194478571473228,
          0.4591319244961818,
          -0.16913904785295975,
          0.22515485225022214,
          0.1839915246359234,
          0.008643129870186894,
          -0.2868617837013443,
          -0.34265945746803816,
          -0.6764510853982907,
          -0.3296776583254354,
          -0.04881237390711546,
          -0.07822369157794873,
          -0.38957831156357936,
          0.872508740739177,
          0.3254064588867992,
          -0.1208550433415102,
          -0.19022121238937173,
          -0.08476142794433916,
          -0.5621912648355636,
          0.3980456884944752,
          -0.021827497391294193,
          -0.026854815808976418,
          -0.13691031041249346,
          -0.1784399913517115,
          -0.3014230541900914,
          -0.215560711097178,
          -0.11515826496866022,
          0.16482060930483133,
          0.03376324801755748,
          0.04494343025054559,
          0.1321826738129056,
          -0.3571696484332453,
          -0.1848993943550441,
          0.6106960053163089,
          -0.15995274002068893,
          0.3211632749375154,
          -0.13060021073206307,
          -0.3921370472206137,
          -0.4053740862579134,
          -0.5445026748980974,
          -0.2075845224462387,
          0.07590091352246253,
          -0.12741024854523442,
          0.11018241721453803,
          -0.8666594004575437,
          0.42847486309659766,
          -0.3734821568221278,
          0.2756916749002044,
          -0.05366478206236103,
          0.49827066499036765,
          -0.5650725340211853,
          -0.18137826710729754,
          -0.09869987307344208,
          -0.08777863836444189,
          0.27706261383504405,
          -0.09242672405891417,
          0.10767445973377343,
          0.0010147770149339097,
          -0.05890832776388799,
          -0.11320986025688118,
          -0.5206616798045894,
          -0.460333024058463,
          0.08613910705867545,
          -0.22021757756046245,
          -0.02615356877205266,
          -0.3973239219731459,
          0.02025563534852126,
          0.0396978135089755,
          0.05695193517700181,
          -0.32821265972569846,
          0.5229383254643893,
          -0.09225410389564248,
          0.007170190953038946,
          -0.05992510079992419,
          -0.38497564892453384,
          -0.3828818946140776,
          0.1715793584298232,
          -0.295885644639334,
          0.2584883395270027,
          0.021037627737602427,
          -0.30216199413487943,
          0.14668665918712198,
          -0.29027914188493087,
          0.10479584977260448,
          0.6218198704465594,
          0.5249821856599831,
          -0.2750979247290487,
          -0.1626616225447305,
          -0.36215447886784013,
          0.6208107282650768,
          -0.00279956538965509,
          -0.44342023376097706,
          -0.011174546751894776,
          0.07604084896805807,
          -0.26630208937211486,
          -0.016589394234165722,
          -0.46240841989287595,
          0.12487642097261065,
          -0.16876466397214052,
          -0.610832908601338,
          -0.30740622716161603,
          -0.4747964413493414,
          0.376264286390953,
          -0.20502821101975066,
          0.07300135409721265,
          -0.12003671668729499,
          -0.28622908278936365,
          0.08226995722197583,
          -0.45570752671612147,
          -0.016783336615131206,
          0.4207375775187988,
          -0.38529100102708136,
          -0.20814809733371475,
          -0.17021562575614935,
          0.18408848465102956,
          -0.14538993955755863,
          -0.15036495529676064,
          -0.2205071351750567,
          0.6573391840689414,
          -0.16178543269772006,
          -0.08720693604160612,
          0.22877682484178097,
          -0.07330186161658248,
          -0.6404653647057862,
          -0.12554180989517738,
          0.2438442092514974,
          0.2744931082904709,
          0.2771288232694412,
          -0.0716532372921147,
          -0.49702263786899836,
          -0.9891210100978232,
          -0.416604613406411,
          -0.42216041608949595,
          0.2836961126183537,
          -0.26719495990846553,
          -0.291339146215597,
          -0.07197038384228771,
          0.13960133792342888,
          0.6391443504502019,
          -0.4228865265112789,
          -0.012620242685130734,
          0.04348244463476558,
          -0.18379305136160295,
          0.7263046515639223,
          0.14249003804470817,
          0.27308828763438053,
          -0.13008650217432838,
          0.05926468339804836,
          0.08707318724278368,
          0.08008738756365574,
          -0.22813046682033167,
          -0.03173717169067625,
          0.06423052940139329,
          0.015338490355828792,
          0.22129138517357738,
          0.15736067732666636,
          0.2566341659502348,
          0.11146126280871937,
          -0.21284812650357332,
          -0.34495855633099926,
          0.03490889675471054,
          -0.26945042986559464,
          -0.4801682248407828,
          0.1173557620647816,
          -0.5877926710559005,
          -0.3632932102897626,
          -0.3481397252858849,
          -0.21476539444589882,
          -0.027873631449546465,
          -0.22160678647846177,
          -0.0712712740841045,
          0.079996450914532,
          -0.20816286947151097,
          0.10707161139534704,
          -0.04133557703818713,
          -0.12429888678227509,
          -0.10099804007112201,
          -0.0784854884164703,
          -0.13770861490991637,
          0.06517339133852407,
          0.07027219469232726,
          -0.029124312971999133,
          -0.11209976835118951,
          0.15478859997870575,
          0.013943666900791296,
          -0.2015312536878625,
          -0.11441688294463859,
          0.19272274958661817,
          -0.06479081544269427,
          -0.012016711087666332,
          0.0112242033565092,
          0.19909990967954383,
          -0.5959137811723784,
          0.1186593430601437,
          0.06065358684257938,
          null,
          0.03533556182413877,
          0.1982182887921503,
          -0.09894975636051984,
          -0.18548738893611272,
          0.04811246047322393,
          0.02102359082805827,
          -0.013705111469195952,
          0.3476549343865102,
          0.3775350493508147,
          -0.6100390279282023,
          -0.0373702157746727,
          -0.17506253192567256,
          -0.3852125632487281,
          -0.19752617232119185,
          0.37283920152845085,
          0.39168345393149184,
          0.0388780769164252,
          -0.4539870240473498,
          -0.007374510727069961,
          -0.30285748923253053,
          -0.021400872604425802,
          -0.31228292531319224,
          0.022569071713682498,
          -0.10136748910800186,
          0.4483499042974758,
          -0.2499420022668699,
          0.05525072189551872,
          -0.24915685011929656,
          0.1957387885626618,
          -0.8155594273550975,
          -0.18834467823607337,
          -0.47986218334899555,
          -0.09323467757207127,
          -0.27008748410210337,
          -0.20168695964336925,
          0.035819818754903365,
          -0.31459183818080905,
          0.09411210523775693,
          0.062004643602449845,
          0.08539020727738345,
          0.2441081218329778,
          0.6637645684832187,
          -0.14212884125968717,
          0.4185605571195311,
          -0.013693880412241954,
          0.6208377015364834,
          -0.07822593382886311,
          -0.1595180337289358,
          -0.2621259207312343,
          0.02249859942829957,
          0.003488429724910147,
          -0.9728744556844698,
          -0.0791027929283028,
          -0.5306949223607996,
          -0.31623711690439915,
          -0.045365068038691114,
          -0.009094293497801442,
          -0.02306696736484337,
          -0.1431198971007387,
          -0.4399451657153032,
          0.06105512787971068,
          -0.24201060064977442,
          0.4110515551010141,
          -0.33049229980949946,
          -0.19798394466580682,
          -0.10935510860375952,
          -0.34670470210726023,
          -0.2219486429073697,
          0.2801174294873482,
          -0.523869317522676,
          -0.1571957964372237,
          -0.38821063020977,
          -0.13866923169225398,
          -0.14849974332085836,
          -0.25589009601185997,
          -0.04652530411540379,
          -0.10678141247499795,
          -0.02243850312708595,
          0.2107954493472166,
          0.19119988040632208,
          0.06774901957179402,
          -0.00954558190530952,
          0.2364209227212094,
          -0.039279590732955616,
          0.8638075263920951,
          -0.14647047055400464,
          -0.44758128255182883,
          -0.12491141596355726,
          -0.0858758776555012,
          0.1886252102749002,
          0.34968146162313374,
          -0.2858687908626577,
          -0.015335906124227637,
          0.0887166735602718,
          -0.03324152509871747,
          0.2192764069965102,
          -0.023599233147919563,
          0.27676267492917317,
          -0.01682919725005394,
          -0.09909464729545814,
          0.029243448867034116,
          -0.29620464791357937,
          0.13940535430368217,
          -0.19772815253499887,
          -0.38454458460586816,
          0.16379255317993524,
          0.21983304849726937,
          -0.49463296715570304,
          -0.22442204515101838,
          0.028250449605041972,
          -0.012138929615649552,
          -0.15938031931991392,
          0.4346360383422303,
          0.05039013057150943,
          0.316048930112664,
          0.38526719229784834,
          -0.8300333962252897,
          -0.3965659745174176,
          -0.45612150092724923,
          -0.2650226028327294,
          -0.11291734841165213,
          0.19457383860171595,
          0.04830429288539806,
          -0.30896336635493926,
          0.10974206968077693,
          -0.004401392344480448,
          -0.15814681584068402,
          -0.18923449110317814,
          0.1392517194772529,
          -0.055685440988288315,
          0.14355287726861055,
          -0.009605937880004078,
          0.20544259617209049,
          -0.24219869406067251,
          -0.24144818940433388,
          -0.07544440707487265,
          0.04694838916995481,
          0.25006798514171524,
          -0.2181978345234411,
          -0.28527213945177654,
          0.2035432262454816,
          0.659098187874375,
          0.12878810994111556,
          -0.03474435964207245,
          0.11092664287154097,
          -0.19744276872334687,
          -0.26458072381184794,
          0.24495382035669566,
          -0.20976782807450833,
          0.5794157157171133,
          -0.0828288508843904,
          -0.6335729251774476,
          -0.04659717358112914,
          -0.7805596782990913,
          -0.44721183442432877,
          -0.2381929751232057,
          -0.031974728169166466,
          0.03284823597745312,
          0.06637119665302516,
          0.15377359830334247,
          0.06818299925281968,
          -0.05640195889124122,
          -0.29865234814060715,
          -0.26632012934242855,
          -0.4967580605269554,
          -0.24780487987427566,
          -0.22705306277148196,
          -0.3086019045137579,
          0.12416150632668622,
          -0.10473313596070721,
          0.24443537511993862,
          0.0796335080245274,
          0.4281712169596341,
          -0.4498735599704188,
          -0.44892732291156234,
          0.23249917157250477,
          0.034534911885456876,
          -0.9618745436236226,
          -0.28390206014107844,
          -0.08430602148977573,
          -0.44187840664760647,
          -0.06411636891501382,
          -0.018633955185485163,
          -0.3995895248174234,
          -0.0400392097709964,
          -0.36701366154092163,
          0.14966116104647798,
          0.19393527360047746,
          0.09621588284267091,
          -0.12286895259756216,
          -0.12351303835434957,
          0.15663412670458665,
          -0.18968513050147573,
          -0.009278413684810416,
          -0.8334599341932415,
          0.1629311960269062,
          0.6331375980520311,
          -0.11470495988897533,
          -0.1823167378045345,
          -0.14459536718923283,
          0.3106000493005785,
          -0.05704803247979051,
          -0.1083310661547695,
          -0.20694207504467177,
          0.13687454677432132,
          -0.006105190264487859,
          -0.2601959055611961,
          -0.7838744310473607,
          -0.6239063430924146,
          0.03201862728891003,
          -0.19606120296976637,
          -0.12695175762785116,
          -0.37969631658812664,
          0.002173597185458509,
          0.307707421209084,
          0.03167199151377509,
          0.33694075905539067,
          -0.13884454362847642,
          -0.5471545900210605,
          0.08310046081466071,
          -0.1660336376441408,
          0.1046293606126274,
          0.08493814140985867,
          0.6517502477152504,
          -0.49876432905426016,
          0.01862290586252413,
          -0.01607804573375926,
          0.07124407797119015,
          -0.7133804064234708,
          -0.16848924077112748,
          -0.40970562071940975
         ],
         "yaxis": "y"
        },
        {
         "line": {
          "color": "gray",
          "dash": "dash",
          "width": 2
         },
         "mode": "lines",
         "name": "Zero Return Line",
         "type": "scatter",
         "x": [
          0.1737106947355149,
          0.8441854518267996
         ],
         "y": [
          0,
          0
         ]
        }
       ],
       "layout": {
        "hoverlabel": {
         "bgcolor": "white",
         "font": {
          "family": "Rockwell",
          "size": 16
         }
        },
        "legend": {
         "tracegroupgap": 0
        },
        "margin": {
         "t": 60
        },
        "template": {
         "data": {
          "bar": [
           {
            "error_x": {
             "color": "#2a3f5f"
            },
            "error_y": {
             "color": "#2a3f5f"
            },
            "marker": {
             "line": {
              "color": "#E5ECF6",
              "width": 0.5
             },
             "pattern": {
              "fillmode": "overlay",
              "size": 10,
              "solidity": 0.2
             }
            },
            "type": "bar"
           }
          ],
          "barpolar": [
           {
            "marker": {
             "line": {
              "color": "#E5ECF6",
              "width": 0.5
             },
             "pattern": {
              "fillmode": "overlay",
              "size": 10,
              "solidity": 0.2
             }
            },
            "type": "barpolar"
           }
          ],
          "carpet": [
           {
            "aaxis": {
             "endlinecolor": "#2a3f5f",
             "gridcolor": "white",
             "linecolor": "white",
             "minorgridcolor": "white",
             "startlinecolor": "#2a3f5f"
            },
            "baxis": {
             "endlinecolor": "#2a3f5f",
             "gridcolor": "white",
             "linecolor": "white",
             "minorgridcolor": "white",
             "startlinecolor": "#2a3f5f"
            },
            "type": "carpet"
           }
          ],
          "choropleth": [
           {
            "colorbar": {
             "outlinewidth": 0,
             "ticks": ""
            },
            "type": "choropleth"
           }
          ],
          "contour": [
           {
            "colorbar": {
             "outlinewidth": 0,
             "ticks": ""
            },
            "colorscale": [
             [
              0,
              "#0d0887"
             ],
             [
              0.1111111111111111,
              "#46039f"
             ],
             [
              0.2222222222222222,
              "#7201a8"
             ],
             [
              0.3333333333333333,
              "#9c179e"
             ],
             [
              0.4444444444444444,
              "#bd3786"
             ],
             [
              0.5555555555555556,
              "#d8576b"
             ],
             [
              0.6666666666666666,
              "#ed7953"
             ],
             [
              0.7777777777777778,
              "#fb9f3a"
             ],
             [
              0.8888888888888888,
              "#fdca26"
             ],
             [
              1,
              "#f0f921"
             ]
            ],
            "type": "contour"
           }
          ],
          "contourcarpet": [
           {
            "colorbar": {
             "outlinewidth": 0,
             "ticks": ""
            },
            "type": "contourcarpet"
           }
          ],
          "heatmap": [
           {
            "colorbar": {
             "outlinewidth": 0,
             "ticks": ""
            },
            "colorscale": [
             [
              0,
              "#0d0887"
             ],
             [
              0.1111111111111111,
              "#46039f"
             ],
             [
              0.2222222222222222,
              "#7201a8"
             ],
             [
              0.3333333333333333,
              "#9c179e"
             ],
             [
              0.4444444444444444,
              "#bd3786"
             ],
             [
              0.5555555555555556,
              "#d8576b"
             ],
             [
              0.6666666666666666,
              "#ed7953"
             ],
             [
              0.7777777777777778,
              "#fb9f3a"
             ],
             [
              0.8888888888888888,
              "#fdca26"
             ],
             [
              1,
              "#f0f921"
             ]
            ],
            "type": "heatmap"
           }
          ],
          "heatmapgl": [
           {
            "colorbar": {
             "outlinewidth": 0,
             "ticks": ""
            },
            "colorscale": [
             [
              0,
              "#0d0887"
             ],
             [
              0.1111111111111111,
              "#46039f"
             ],
             [
              0.2222222222222222,
              "#7201a8"
             ],
             [
              0.3333333333333333,
              "#9c179e"
             ],
             [
              0.4444444444444444,
              "#bd3786"
             ],
             [
              0.5555555555555556,
              "#d8576b"
             ],
             [
              0.6666666666666666,
              "#ed7953"
             ],
             [
              0.7777777777777778,
              "#fb9f3a"
             ],
             [
              0.8888888888888888,
              "#fdca26"
             ],
             [
              1,
              "#f0f921"
             ]
            ],
            "type": "heatmapgl"
           }
          ],
          "histogram": [
           {
            "marker": {
             "pattern": {
              "fillmode": "overlay",
              "size": 10,
              "solidity": 0.2
             }
            },
            "type": "histogram"
           }
          ],
          "histogram2d": [
           {
            "colorbar": {
             "outlinewidth": 0,
             "ticks": ""
            },
            "colorscale": [
             [
              0,
              "#0d0887"
             ],
             [
              0.1111111111111111,
              "#46039f"
             ],
             [
              0.2222222222222222,
              "#7201a8"
             ],
             [
              0.3333333333333333,
              "#9c179e"
             ],
             [
              0.4444444444444444,
              "#bd3786"
             ],
             [
              0.5555555555555556,
              "#d8576b"
             ],
             [
              0.6666666666666666,
              "#ed7953"
             ],
             [
              0.7777777777777778,
              "#fb9f3a"
             ],
             [
              0.8888888888888888,
              "#fdca26"
             ],
             [
              1,
              "#f0f921"
             ]
            ],
            "type": "histogram2d"
           }
          ],
          "histogram2dcontour": [
           {
            "colorbar": {
             "outlinewidth": 0,
             "ticks": ""
            },
            "colorscale": [
             [
              0,
              "#0d0887"
             ],
             [
              0.1111111111111111,
              "#46039f"
             ],
             [
              0.2222222222222222,
              "#7201a8"
             ],
             [
              0.3333333333333333,
              "#9c179e"
             ],
             [
              0.4444444444444444,
              "#bd3786"
             ],
             [
              0.5555555555555556,
              "#d8576b"
             ],
             [
              0.6666666666666666,
              "#ed7953"
             ],
             [
              0.7777777777777778,
              "#fb9f3a"
             ],
             [
              0.8888888888888888,
              "#fdca26"
             ],
             [
              1,
              "#f0f921"
             ]
            ],
            "type": "histogram2dcontour"
           }
          ],
          "mesh3d": [
           {
            "colorbar": {
             "outlinewidth": 0,
             "ticks": ""
            },
            "type": "mesh3d"
           }
          ],
          "parcoords": [
           {
            "line": {
             "colorbar": {
              "outlinewidth": 0,
              "ticks": ""
             }
            },
            "type": "parcoords"
           }
          ],
          "pie": [
           {
            "automargin": true,
            "type": "pie"
           }
          ],
          "scatter": [
           {
            "fillpattern": {
             "fillmode": "overlay",
             "size": 10,
             "solidity": 0.2
            },
            "type": "scatter"
           }
          ],
          "scatter3d": [
           {
            "line": {
             "colorbar": {
              "outlinewidth": 0,
              "ticks": ""
             }
            },
            "marker": {
             "colorbar": {
              "outlinewidth": 0,
              "ticks": ""
             }
            },
            "type": "scatter3d"
           }
          ],
          "scattercarpet": [
           {
            "marker": {
             "colorbar": {
              "outlinewidth": 0,
              "ticks": ""
             }
            },
            "type": "scattercarpet"
           }
          ],
          "scattergeo": [
           {
            "marker": {
             "colorbar": {
              "outlinewidth": 0,
              "ticks": ""
             }
            },
            "type": "scattergeo"
           }
          ],
          "scattergl": [
           {
            "marker": {
             "colorbar": {
              "outlinewidth": 0,
              "ticks": ""
             }
            },
            "type": "scattergl"
           }
          ],
          "scattermapbox": [
           {
            "marker": {
             "colorbar": {
              "outlinewidth": 0,
              "ticks": ""
             }
            },
            "type": "scattermapbox"
           }
          ],
          "scatterpolar": [
           {
            "marker": {
             "colorbar": {
              "outlinewidth": 0,
              "ticks": ""
             }
            },
            "type": "scatterpolar"
           }
          ],
          "scatterpolargl": [
           {
            "marker": {
             "colorbar": {
              "outlinewidth": 0,
              "ticks": ""
             }
            },
            "type": "scatterpolargl"
           }
          ],
          "scatterternary": [
           {
            "marker": {
             "colorbar": {
              "outlinewidth": 0,
              "ticks": ""
             }
            },
            "type": "scatterternary"
           }
          ],
          "surface": [
           {
            "colorbar": {
             "outlinewidth": 0,
             "ticks": ""
            },
            "colorscale": [
             [
              0,
              "#0d0887"
             ],
             [
              0.1111111111111111,
              "#46039f"
             ],
             [
              0.2222222222222222,
              "#7201a8"
             ],
             [
              0.3333333333333333,
              "#9c179e"
             ],
             [
              0.4444444444444444,
              "#bd3786"
             ],
             [
              0.5555555555555556,
              "#d8576b"
             ],
             [
              0.6666666666666666,
              "#ed7953"
             ],
             [
              0.7777777777777778,
              "#fb9f3a"
             ],
             [
              0.8888888888888888,
              "#fdca26"
             ],
             [
              1,
              "#f0f921"
             ]
            ],
            "type": "surface"
           }
          ],
          "table": [
           {
            "cells": {
             "fill": {
              "color": "#EBF0F8"
             },
             "line": {
              "color": "white"
             }
            },
            "header": {
             "fill": {
              "color": "#C8D4E3"
             },
             "line": {
              "color": "white"
             }
            },
            "type": "table"
           }
          ]
         },
         "layout": {
          "annotationdefaults": {
           "arrowcolor": "#2a3f5f",
           "arrowhead": 0,
           "arrowwidth": 1
          },
          "autotypenumbers": "strict",
          "coloraxis": {
           "colorbar": {
            "outlinewidth": 0,
            "ticks": ""
           }
          },
          "colorscale": {
           "diverging": [
            [
             0,
             "#8e0152"
            ],
            [
             0.1,
             "#c51b7d"
            ],
            [
             0.2,
             "#de77ae"
            ],
            [
             0.3,
             "#f1b6da"
            ],
            [
             0.4,
             "#fde0ef"
            ],
            [
             0.5,
             "#f7f7f7"
            ],
            [
             0.6,
             "#e6f5d0"
            ],
            [
             0.7,
             "#b8e186"
            ],
            [
             0.8,
             "#7fbc41"
            ],
            [
             0.9,
             "#4d9221"
            ],
            [
             1,
             "#276419"
            ]
           ],
           "sequential": [
            [
             0,
             "#0d0887"
            ],
            [
             0.1111111111111111,
             "#46039f"
            ],
            [
             0.2222222222222222,
             "#7201a8"
            ],
            [
             0.3333333333333333,
             "#9c179e"
            ],
            [
             0.4444444444444444,
             "#bd3786"
            ],
            [
             0.5555555555555556,
             "#d8576b"
            ],
            [
             0.6666666666666666,
             "#ed7953"
            ],
            [
             0.7777777777777778,
             "#fb9f3a"
            ],
            [
             0.8888888888888888,
             "#fdca26"
            ],
            [
             1,
             "#f0f921"
            ]
           ],
           "sequentialminus": [
            [
             0,
             "#0d0887"
            ],
            [
             0.1111111111111111,
             "#46039f"
            ],
            [
             0.2222222222222222,
             "#7201a8"
            ],
            [
             0.3333333333333333,
             "#9c179e"
            ],
            [
             0.4444444444444444,
             "#bd3786"
            ],
            [
             0.5555555555555556,
             "#d8576b"
            ],
            [
             0.6666666666666666,
             "#ed7953"
            ],
            [
             0.7777777777777778,
             "#fb9f3a"
            ],
            [
             0.8888888888888888,
             "#fdca26"
            ],
            [
             1,
             "#f0f921"
            ]
           ]
          },
          "colorway": [
           "#636efa",
           "#EF553B",
           "#00cc96",
           "#ab63fa",
           "#FFA15A",
           "#19d3f3",
           "#FF6692",
           "#B6E880",
           "#FF97FF",
           "#FECB52"
          ],
          "font": {
           "color": "#2a3f5f"
          },
          "geo": {
           "bgcolor": "white",
           "lakecolor": "white",
           "landcolor": "#E5ECF6",
           "showlakes": true,
           "showland": true,
           "subunitcolor": "white"
          },
          "hoverlabel": {
           "align": "left"
          },
          "hovermode": "closest",
          "mapbox": {
           "style": "light"
          },
          "paper_bgcolor": "white",
          "plot_bgcolor": "#E5ECF6",
          "polar": {
           "angularaxis": {
            "gridcolor": "white",
            "linecolor": "white",
            "ticks": ""
           },
           "bgcolor": "#E5ECF6",
           "radialaxis": {
            "gridcolor": "white",
            "linecolor": "white",
            "ticks": ""
           }
          },
          "scene": {
           "xaxis": {
            "backgroundcolor": "#E5ECF6",
            "gridcolor": "white",
            "gridwidth": 2,
            "linecolor": "white",
            "showbackground": true,
            "ticks": "",
            "zerolinecolor": "white"
           },
           "yaxis": {
            "backgroundcolor": "#E5ECF6",
            "gridcolor": "white",
            "gridwidth": 2,
            "linecolor": "white",
            "showbackground": true,
            "ticks": "",
            "zerolinecolor": "white"
           },
           "zaxis": {
            "backgroundcolor": "#E5ECF6",
            "gridcolor": "white",
            "gridwidth": 2,
            "linecolor": "white",
            "showbackground": true,
            "ticks": "",
            "zerolinecolor": "white"
           }
          },
          "shapedefaults": {
           "line": {
            "color": "#2a3f5f"
           }
          },
          "ternary": {
           "aaxis": {
            "gridcolor": "white",
            "linecolor": "white",
            "ticks": ""
           },
           "baxis": {
            "gridcolor": "white",
            "linecolor": "white",
            "ticks": ""
           },
           "bgcolor": "#E5ECF6",
           "caxis": {
            "gridcolor": "white",
            "linecolor": "white",
            "ticks": ""
           }
          },
          "title": {
           "x": 0.05
          },
          "xaxis": {
           "automargin": true,
           "gridcolor": "white",
           "linecolor": "white",
           "ticks": "",
           "title": {
            "standoff": 15
           },
           "zerolinecolor": "white",
           "zerolinewidth": 2
          },
          "yaxis": {
           "automargin": true,
           "gridcolor": "white",
           "linecolor": "white",
           "ticks": "",
           "title": {
            "standoff": 15
           },
           "zerolinecolor": "white",
           "zerolinewidth": 2
          }
         }
        },
        "title": {
         "text": "Risk vs Return"
        },
        "xaxis": {
         "anchor": "y",
         "domain": [
          0,
          1
         ],
         "gridcolor": "gray",
         "gridwidth": 0.5,
         "title": {
          "text": "Risk (Standard Deviation)"
         }
        },
        "yaxis": {
         "anchor": "x",
         "domain": [
          0,
          1
         ],
         "gridcolor": "gray",
         "gridwidth": 0.5,
         "title": {
          "text": "Expected Return"
         }
        }
       }
      }
     },
     "metadata": {},
     "output_type": "display_data"
    }
   ],
   "source": [
    "import plotly.express as px\n",
    "import plotly.graph_objects as go\n",
    "\n",
    "fig = px.scatter(stock_df, x='Risk', y='Return', hover_data=['Ticker'])\n",
    "\n",
    "fig.add_trace(\n",
    "    go.Scatter(\n",
    "        x=[min(stock_df['Risk']), max(stock_df['Risk'])],\n",
    "        y=[0, 0],\n",
    "        mode='lines',\n",
    "        line=dict(color='gray', width=2, dash='dash'),\n",
    "        name='Zero Return Line'\n",
    "    )\n",
    ")\n",
    "\n",
    "fig.update_layout(\n",
    "    title='Risk vs Return',\n",
    "    xaxis=dict(\n",
    "        title='Risk (Standard Deviation)',\n",
    "        gridcolor='gray',\n",
    "        gridwidth=0.5\n",
    "    ),\n",
    "    yaxis=dict(\n",
    "        title='Expected Return',\n",
    "        gridcolor='gray',\n",
    "        gridwidth=0.5\n",
    "    ),\n",
    "    hoverlabel=dict(\n",
    "        bgcolor='white',\n",
    "        font=dict(\n",
    "            size=16,\n",
    "            family='Rockwell'\n",
    "        )\n",
    "    )\n",
    ")\n",
    "fig.show()"
   ]
  },
  {
   "cell_type": "code",
   "execution_count": 31,
   "metadata": {},
   "outputs": [],
   "source": [
    "def lagrangian_optimisation(returns, target_return=None):\n",
    "    returns = np.nan_to_num(returns, nan=0.0)\n",
    "    # Yeah, this is the stuff you don't see. God damn problem of too many redundant securities, and it's not a full rank matrix so ahve to do PCA\n",
    "    pca = PCA()\n",
    "    pca.fit(returns)\n",
    "    \n",
    "    threshold = 1e-3\n",
    "    components_to_keep = pca.explained_variance_ > threshold\n",
    "    returns_transformed = pca.transform(returns)[:, components_to_keep]\n",
    "    \n",
    "    cov_matrix_transformed = np.cov(returns_transformed, rowvar=False)\n",
    "    Mu_transformed = returns_transformed.mean(axis=0)\n",
    "    \n",
    "    inv_cov_matrix_transformed = inv(cov_matrix_transformed)\n",
    "    iota = np.ones(Mu_transformed.shape[0])\n",
    "    \n",
    "    if target_return is not None:\n",
    "        A = Mu_transformed.T @ inv_cov_matrix_transformed @ Mu_transformed\n",
    "        B = Mu_transformed.T @ inv_cov_matrix_transformed @ iota\n",
    "        C = iota.T @ inv_cov_matrix_transformed @ iota\n",
    "        l1 = (C * target_return - B) / (A * C - B ** 2)\n",
    "        l2 = (A - B * target_return) / (A * C - B ** 2)\n",
    "        \n",
    "        w_target = l1 * inv_cov_matrix_transformed @ Mu_transformed + l2 * inv_cov_matrix_transformed @ iota\n",
    "        return w_target, returns_transformed\n",
    "    else:\n",
    "        l = (1/(iota.T @ inv_cov_matrix_transformed @ iota))\n",
    "        w_min = l * inv_cov_matrix_transformed @ iota \n",
    "        return w_min, returns_transformed"
   ]
  },
  {
   "cell_type": "code",
   "execution_count": 32,
   "metadata": {},
   "outputs": [],
   "source": [
    "def plot_efficient_frontier(returns):\n",
    "    portfolio_risks = []\n",
    "    portfolio_returns = []\n",
    "    \n",
    "    min_possible_return = np.min(returns.mean(axis=0))\n",
    "    max_possible_return = np.max(returns.mean(axis=0))\n",
    "    target_returns = np.linspace(min_possible_return, max_possible_return, 100)\n",
    "    \n",
    "    for target in target_returns:\n",
    "        w_target, returns_transformed = lagrangian_optimisation(returns, target)\n",
    "        \n",
    "        portfolio_return = np.dot(w_target, returns_transformed.mean(axis=0))\n",
    "        portfolio_risk = np.sqrt(w_target.T @ np.cov(returns_transformed, rowvar=False) @ w_target)\n",
    "        \n",
    "        portfolio_risks.append(portfolio_risk)\n",
    "        portfolio_returns.append(portfolio_return)\n",
    "\n",
    "    plt.figure(figsize=(10, 6))\n",
    "    plt.scatter(portfolio_risks, portfolio_returns, c=portfolio_returns, cmap='viridis')\n",
    "    plt.colorbar(label='Expected Return')\n",
    "    plt.xlabel('Portfolio Risk (Standard Deviation)')\n",
    "    plt.ylabel('Portfolio Expected Return')\n",
    "    plt.title('Efficient Frontier')\n",
    "    plt.grid(True)\n",
    "    plt.show()"
   ]
  },
  {
   "cell_type": "code",
   "execution_count": 33,
   "metadata": {},
   "outputs": [
    {
     "data": {
      "image/png": "[encoded data removed]",
      "text/plain": [
       "<Figure size 1000x600 with 2 Axes>"
      ]
     },
     "metadata": {},
     "output_type": "display_data"
    }
   ],
   "source": [
    "plot_efficient_frontier(returns)"
   ]
  },
  {
   "cell_type": "markdown",
   "metadata": {},
   "source": [
    "PCA obviously completely contorts efficient frontier? Something has gone fundamentally wrong, and I don't know how to fix it. <br>\n",
    "Let's use PCA to first select a subset of stocks first to reduce dimensionality"
   ]
  },
  {
   "cell_type": "code",
   "execution_count": 52,
   "metadata": {},
   "outputs": [
    {
     "data": {
      "image/png": "[encoded data removed]",
      "text/plain": [
       "<Figure size 1200x600 with 1 Axes>"
      ]
     },
     "metadata": {},
     "output_type": "display_data"
    },
    {
     "data": {
      "text/plain": [
       "(116,\n",
       " array([0.44572652, 0.50292158, 0.54484185, 0.57811399, 0.59478044,\n",
       "        0.61016013, 0.62396907, 0.63648146, 0.64778143, 0.65841299,\n",
       "        0.66757757, 0.67624221, 0.68439814, 0.69232523, 0.69958629,\n",
       "        0.70648304, 0.71321729, 0.71933139, 0.72526785, 0.73107462,\n",
       "        0.7366913 , 0.74202515, 0.74700966, 0.75194855, 0.75675737,\n",
       "        0.76136911, 0.76590993, 0.7703707 , 0.7747547 , 0.77896555,\n",
       "        0.78303301, 0.78701407, 0.79088803, 0.79472657, 0.79845948,\n",
       "        0.80213132, 0.80572405, 0.8092048 , 0.81256335, 0.81586338,\n",
       "        0.81911245, 0.8223004 , 0.8254273 , 0.82850654, 0.83145402,\n",
       "        0.83438235, 0.83726325, 0.84004961, 0.84277325, 0.84546273,\n",
       "        0.84809103, 0.85069872, 0.85325266, 0.85578103, 0.8582595 ,\n",
       "        0.86070498, 0.86306698, 0.86541145, 0.86769603, 0.86995764,\n",
       "        0.87218919, 0.87439445, 0.87654501, 0.87868264, 0.88079759,\n",
       "        0.88287019, 0.88488559, 0.88683843, 0.88872721, 0.89059421,\n",
       "        0.89243283, 0.89424036, 0.89601571, 0.89776954, 0.89948562,\n",
       "        0.90119021, 0.90286319, 0.90451696, 0.90613492, 0.90771752,\n",
       "        0.90925341, 0.91077666, 0.91228146, 0.91375815, 0.91521857,\n",
       "        0.91664401, 0.91806112, 0.91944031, 0.92080607, 0.92216453,\n",
       "        0.92350806, 0.92480683, 0.92608427, 0.9273527 , 0.92861526,\n",
       "        0.92986499, 0.93107613, 0.93226719, 0.93344786, 0.93460602,\n",
       "        0.93574144, 0.93686489, 0.93798089, 0.9390753 , 0.94015096,\n",
       "        0.94120135, 0.94224275, 0.94326088, 0.94426627, 0.94525744,\n",
       "        0.94623665, 0.94720519, 0.94815362, 0.94907643, 0.94999444,\n",
       "        0.95090571]))"
      ]
     },
     "execution_count": 52,
     "metadata": {},
     "output_type": "execute_result"
    }
   ],
   "source": [
    "returns = np.nan_to_num(returns, nan=0.0)\n",
    "# Perform PCA on the reduced dataset\n",
    "pca = PCA()\n",
    "pca.fit(returns)\n",
    "\n",
    "explained_variance_ratio = pca.explained_variance_ratio_\n",
    "\n",
    "plt.figure(figsize=(12, 6))\n",
    "plt.bar(range(1, len(explained_variance_ratio) + 1), explained_variance_ratio, alpha=0.7, label='Individual explained variance')\n",
    "plt.step(range(1, len(explained_variance_ratio) + 1), np.cumsum(explained_variance_ratio), where='mid', label='Cumulative explained variance')\n",
    "plt.ylabel('Explained Variance Ratio')\n",
    "plt.xlabel('Principal Components')\n",
    "plt.title('Explained Variance Ratio vs Principal Components')\n",
    "plt.legend(loc='best')\n",
    "plt.show()\n",
    "\n",
    "#calculating the number of components to capture 95% variance\n",
    "cumulative_explained_variance = np.cumsum(explained_variance_ratio)\n",
    "n_components_95 = np.where(cumulative_explained_variance >= 0.95)[0][0] + 1  # Adding 1 as index starts from 0\n",
    "\n",
    "n_components_95, cumulative_explained_variance[:n_components_95]"
   ]
  },
  {
   "cell_type": "code",
   "execution_count": 54,
   "metadata": {},
   "outputs": [
    {
     "data": {
      "text/plain": [
       "(6,\n",
       " array([[ 0.01494627, -0.03657737, -0.04550032, -0.00593729, -0.00846631,\n",
       "         -0.01041226],\n",
       "        [-0.0257708 , -0.04995884, -0.06019631, -0.03672774, -0.07650391,\n",
       "         -0.03997294],\n",
       "        [-0.00472368, -0.01488602,  0.01698234,  0.02557293,  0.00385635,\n",
       "         -0.02507408],\n",
       "        [ 0.0393925 , -0.03863223, -0.00264667, -0.00201523, -0.01018234,\n",
       "         -0.02210411],\n",
       "        [-0.02283105, -0.01945465,  0.02268211, -0.01121191,  0.09277095,\n",
       "         -0.00223639]]))"
      ]
     },
     "execution_count": 54,
     "metadata": {},
     "output_type": "execute_result"
    }
   ],
   "source": [
    "components = pca.components_\n",
    "\n",
    "# Get the most significant original dimensions for the first 'n_components_95' principal components\n",
    "# We'll consider dimensions that have an absolute value of the loading vector greater than a threshold (e.g., 0.3)\n",
    "threshold = 0.3\n",
    "significant_dimensions = set()\n",
    "for i in range(n_components_95):\n",
    "    significant_dimensions.update(np.where(np.abs(components[i]) >= threshold)[0])\n",
    "\n",
    "# Convert to a sorted list\n",
    "significant_dimensions = sorted(list(significant_dimensions))\n",
    "\n",
    "# Create a subset of the data using only these significant dimensions (securities)\n",
    "returns_subset = returns[:, significant_dimensions]\n",
    "\n",
    "# Show the number of selected dimensions and a sample of the new dataset\n",
    "len(significant_dimensions), returns_subset[:5, :]"
   ]
  },
  {
   "cell_type": "code",
   "execution_count": 55,
   "metadata": {},
   "outputs": [
    {
     "data": {
      "image/png": "[encoded data removed]",
      "text/plain": [
       "<Figure size 1000x600 with 2 Axes>"
      ]
     },
     "metadata": {},
     "output_type": "display_data"
    }
   ],
   "source": [
    "plot_efficient_frontier(returns_subset)"
   ]
  },
  {
   "cell_type": "markdown",
   "metadata": {},
   "source": [
    "Nope, this is where we give up. \n",
    " So let's just move on to the Monte Carlo method and doing some basic risk analysis in the form of limiting exposure to different sectors"
   ]
  },
  {
   "cell_type": "code",
   "execution_count": null,
   "metadata": {},
   "outputs": [],
   "source": [
    "sector_for_ticker = sector_df.set_index('Ticker').loc['MMM', 'Sector']\n",
    "sector_for_ticker"
   ]
  },
  {
   "cell_type": "code",
   "execution_count": 65,
   "metadata": {},
   "outputs": [],
   "source": [
    "def mvef(Covariance, Mu, Npoints):\n",
    "    Nu = len(Mu)\n",
    "    Iota = np.ones(Nu)\n",
    "    \n",
    "    # Initialize risk and returns\n",
    "    epsilon = 0.0001\n",
    "    mu_min = np.min(Mu) + epsilon * (np.mean(Mu) - np.min(Mu))\n",
    "    mu_max = np.max(Mu) - epsilon * (np.max(Mu) - np.mean(Mu))\n",
    "    mu_p = np.linspace(mu_min, mu_max, Npoints)\n",
    "    sigma_p = np.zeros(Npoints)\n",
    "    w = np.zeros((Nu, Npoints))\n",
    "    \n",
    "    # Defining the objective function\n",
    "    def objective(weights): \n",
    "        return weights @ Covariance @ weights\n",
    "    \n",
    "    # Constraints\n",
    "    def constraint1(weights):\n",
    "        return np.sum(weights) - 1\n",
    "    \n",
    "    def constraint2(weights, target_return):\n",
    "        return Mu @ weights - target_return\n",
    "    \n",
    "    # Initial guess\n",
    "    init_guess = np.repeat(1/Nu, Nu)\n",
    "    \n",
    "    # Run optimization\n",
    "    for k, target_return in enumerate(mu_sample):\n",
    "        cons = ({'type': 'eq', 'fun': constraint1},\n",
    "                {'type': 'eq', 'fun': lambda weights: constraint2(weights, target_return)},\n",
    "                {'type': 'ineq', 'fun': lambda weights: sector_constraints(weights, sector_mapping)})\n",
    "        \n",
    "        bounds = [(0, 1) for asset in range(Nu)]\n",
    "        \n",
    "        result = minimize(objective, init_guess, method='SLSQP', bounds=bounds, constraints=cons)\n",
    "        w[:, k] = result.x\n",
    "        sigma_p[k] = np.sqrt(result.fun)\n",
    "        \n",
    "    return pd.DataFrame({'sigma_p': sigma_p, 'mu_p': mu_p})"
   ]
  },
  {
   "cell_type": "code",
   "execution_count": 35,
   "metadata": {},
   "outputs": [],
   "source": [
    "def mvmc(Covariance, Mu, Npoints):\n",
    "    Freq = 12  # Monthly returns\n",
    "    Years = 18  # 18-year simulation period\n",
    "    epsilon = 0.0001  # Nudge factor for endpoint rounding\n",
    "    Nu = len(Mu)\n",
    "    \n",
    "    #Monte Carlo simulated returns with multivariate distribution\n",
    "    Nt = Years * Freq\n",
    "    HalfCovariance = np.linalg.cholesky(Covariance)\n",
    "    \n",
    "    r_sim = np.random.normal(size=(Nt, Nu)) @ HalfCovariance / np.sqrt(Freq) + Mu / Freq\n",
    "\n",
    "    # Estimate sample means and covariances\n",
    "    Mu_sim = np.mean(r_sim, axis=0) * Freq\n",
    "    Covariance_sim = np.cov(r_sim, rowvar=False) * Freq\n",
    "    \n",
    "    # Initialize risk and returns\n",
    "    mu_min = np.min(Mu_sim) + epsilon * (np.mean(Mu_sim) - np.min(Mu_sim))\n",
    "    mu_max = np.max(Mu_sim) - epsilon * (np.max(Mu_sim) - np.mean(Mu_sim))\n",
    "    mu_sample = np.linspace(mu_min, mu_max, Npoints)\n",
    "    \n",
    "    sigma_sim = np.zeros(Npoints)\n",
    "    w_sim = np.zeros((Nu, Npoints))\n",
    "    \n",
    "    # Define the objective function (negative because scipy minimizes)\n",
    "    def objective(weights): \n",
    "        return weights @ Covariance_sim @ weights\n",
    "    \n",
    "    # Constraints\n",
    "    def constraint1(weights):\n",
    "        return np.sum(weights) - 1\n",
    "    \n",
    "    def constraint2(weights, target_return):\n",
    "        return Mu_sim @ weights - target_return\n",
    "    \n",
    "    # Initial guess\n",
    "    init_guess = np.repeat(1/Nu, Nu)\n",
    "    \n",
    "    # Run optimization\n",
    "    for k, target_return in enumerate(mu_sample):\n",
    "        cons = ({'type': 'eq', 'fun': constraint1},\n",
    "                {'type': 'eq', 'fun': lambda weights: constraint2(weights, target_return)},\n",
    "                {'type': 'ineq', 'fun': lambda weights: sector_constraints(weights, sector_mapping)})\n",
    "        \n",
    "        bounds = [(0, 1) for asset in range(Nu)]\n",
    "        \n",
    "        result = minimize(objective, init_guess, method='SLSQP', bounds=bounds, constraints=cons)\n",
    "        w_sim[:, k] = result.x\n",
    "        sigma_sim[k] = np.sqrt(result.fun)\n",
    "    \n",
    "    mu_p = np.sum(w_sim.T * Mu, axis=1)\n",
    "    sigma_p = np.sqrt(np.sum((w_sim.T @ Covariance) * w_sim.T, axis=1))\n",
    "\n",
    "    return pd.DataFrame({'mu_p': mu_p, 'sigma_p': sigma_p})"
   ]
  },
  {
   "cell_type": "code",
   "execution_count": 66,
   "metadata": {},
   "outputs": [],
   "source": [
    "def sector_constraints(weights, sector_mapping, tech_max=0.2, finance_max=0.1):\n",
    "    sector_weights = calculate_sector_weight(weights, sector_mapping)\n",
    "    tech_weight = sector_weights.get('Information Technology', 0)\n",
    "    finance_weight = sector_weights.get('Financials', 0)\n",
    "    \n",
    "    return min(tech_max - tech_weight, finance_weight - finance_max)"
   ]
  },
  {
   "cell_type": "code",
   "execution_count": 67,
   "metadata": {},
   "outputs": [],
   "source": [
    "def calculate_sector_weight(weights, sector_mapping):\n",
    "    sector_weights = {}\n",
    "    for i, w in enumerate(weights):\n",
    "        sector = sector_mapping[i]\n",
    "        if sector in sector_weights:\n",
    "            sector_weights[sector] += w\n",
    "        else:\n",
    "            sector_weights[sector] = w\n",
    "    return sector_weights"
   ]
  },
  {
   "cell_type": "code",
   "execution_count": 71,
   "metadata": {},
   "outputs": [],
   "source": [
    "def simulate_efficient_frontier_scenarios(Covariance, Mu, Npoints, sector_mapping):\n",
    "    plt.figure(figsize=(12, 8))\n",
    "    \n",
    "    # No constraints\n",
    "    result_no_constraints = mvef(Covariance, Mu, Npoints)\n",
    "    plt.plot(result_no_constraints['sigma_p'], result_no_constraints['mu_p'], label='No Constraints')\n",
    "\n",
    "    # With Information Technology constraint\n",
    "    result_it_constraint = mvef_with_sector_constraints(Covariance, Mu, Npoints, sector_mapping, tech_max=0.2, finance_max=1)\n",
    "    plt.plot(result_it_constraint['sigma_p'], result_it_constraint['mu_p'], label='Information Technology Max 20%')\n",
    "\n",
    "    # With Financials constraint\n",
    "    result_finance_constraint = mvef_with_sector_constraints(Covariance, Mu, Npoints, sector_mapping, tech_max=1, finance_max=0.1)\n",
    "    plt.plot(result_finance_constraint['sigma_p'], result_finance_constraint['mu_p'], label='Financials Max 10%')\n",
    "\n",
    "    # With both constraints\n",
    "    result_both_constraints = mvef_with_sector_constraints(Covariance, Mu, Npoints, sector_mapping, tech_max=0.2, finance_max=0.1)\n",
    "    plt.plot(result_both_constraints['sigma_p'], result_both_constraints['mu_p'], label='Information Technology Max 20%, Financials Max 10%')\n",
    "    \n",
    "    plt.xlabel('Portfolio Risk (Standard Deviation)')\n",
    "    plt.ylabel('Portfolio Expected Return')\n",
    "    plt.title('Efficient Frontier Under Different Constraints')\n",
    "    plt.legend()\n",
    "    plt.grid(True)\n",
    "    plt.show()"
   ]
  },
  {
   "cell_type": "code",
   "execution_count": 72,
   "metadata": {},
   "outputs": [
    {
     "name": "stderr",
     "output_type": "stream",
     "text": [
      "c:\\Users\\oscar\\anaconda3\\lib\\site-packages\\numpy\\lib\\function_base.py:518: RuntimeWarning:\n",
      "\n",
      "Mean of empty slice.\n",
      "\n",
      "c:\\Users\\oscar\\anaconda3\\lib\\site-packages\\numpy\\core\\_methods.py:184: RuntimeWarning:\n",
      "\n",
      "invalid value encountered in divide\n",
      "\n",
      "c:\\Users\\oscar\\anaconda3\\lib\\site-packages\\pandas\\core\\frame.py:10217: RuntimeWarning:\n",
      "\n",
      "Degrees of freedom <= 0 for slice\n",
      "\n",
      "c:\\Users\\oscar\\anaconda3\\lib\\site-packages\\numpy\\lib\\function_base.py:2705: RuntimeWarning:\n",
      "\n",
      "divide by zero encountered in divide\n",
      "\n",
      "c:\\Users\\oscar\\anaconda3\\lib\\site-packages\\numpy\\lib\\function_base.py:2705: RuntimeWarning:\n",
      "\n",
      "invalid value encountered in multiply\n",
      "\n"
     ]
    }
   ],
   "source": [
    "returns_data = data.pct_change().dropna()\n",
    "annualized_cov_matrix = returns_data.cov() * 252\n",
    "annualized_expected_returns = returns_data.mean() * 252\n",
    "\n",
    "annualized_cov_matrix = annualized_cov_matrix.loc[tickers, tickers]\n",
    "annualized_expected_returns = annualized_expected_returns[tickers]"
   ]
  },
  {
   "cell_type": "code",
   "execution_count": 73,
   "metadata": {},
   "outputs": [
    {
     "ename": "NameError",
     "evalue": "name 'asset_to_sector_map' is not defined",
     "output_type": "error",
     "traceback": [
      "\u001b[1;31m---------------------------------------------------------------------------\u001b[0m",
      "\u001b[1;31mNameError\u001b[0m                                 Traceback (most recent call last)",
      "Cell \u001b[1;32mIn[73], line 1\u001b[0m\n\u001b[1;32m----> 1\u001b[0m simulate_efficient_frontier_scenarios(annualized_cov_matrix, annualized_expected_returns, \u001b[38;5;241m100\u001b[39m, \u001b[43masset_to_sector_map\u001b[49m)\n",
      "\u001b[1;31mNameError\u001b[0m: name 'asset_to_sector_map' is not defined"
     ]
    }
   ],
   "source": [
    "simulate_efficient_frontier_scenarios(annualized_cov_matrix, annualized_expected_returns, 100, asset_to_sector_map)"
   ]
  }
 ],
 "metadata": {
  "kernelspec": {
   "display_name": "Python 3.9.17 ('base')",
   "language": "python",
   "name": "python3"
  },
  "language_info": {
   "codemirror_mode": {
    "name": "ipython",
    "version": 3
   },
   "file_extension": ".py",
   "mimetype": "text/x-python",
   "name": "python",
   "nbconvert_exporter": "python",
   "pygments_lexer": "ipython3",
   "version": "3.9.17"
  },
  "orig_nbformat": 4,
  "vscode": {
   "interpreter": {
    "hash": "42322db88e3c2f02255451d64a951c0a78537fc6172e7daad3a10b518b5be8f3"
   }
  }
 },
 "nbformat": 4,
 "nbformat_minor": 2
}
