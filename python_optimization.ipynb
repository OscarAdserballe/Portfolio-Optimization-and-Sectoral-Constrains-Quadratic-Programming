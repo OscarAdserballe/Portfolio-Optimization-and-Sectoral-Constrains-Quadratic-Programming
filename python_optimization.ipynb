{
 "cells": [
  {
   "cell_type": "markdown",
   "metadata": {},
   "source": [
    "Taking in, Covariance matrix, mu and number of points to sample\n",
    "\n",
    "Objective function is literally just the portfolio's variance which we are minimising for each target return. Taken together, then, the set of all solutions for the set of target returns results in the efficient frontiers<br>\n",
    "    <center>$\\sigma_p^2 = w^T C w$</center>\n",
    "\n",
    "Cannot, alas, use Lagrangian Optimisation, as we're using range-bounded constraints, rather than strict ones -> using Quadratic Programmming that takes 2nd order Taylor Series multivariate approximation letting $f'(x_0)=0$ and optimises accordingly.\n",
    "\n",
    "### Constraints\n",
    "\n",
    "Weights bounded by"
   ]
  },
  {
   "cell_type": "code",
   "execution_count": 158,
   "metadata": {},
   "outputs": [],
   "source": [
    "import numpy as np\n",
    "import pandas as pd\n",
    "import matplotlib.pyplot as plt\n",
    "import seaborn as sns\n",
    "from scipy.optimize import minimize # Least Squares approach to Quadratic Programming\n",
    "from numpy.linalg import inv  \n",
    "from numpy.linalg import pinv  "
   ]
  },
  {
   "cell_type": "code",
   "execution_count": 159,
   "metadata": {},
   "outputs": [
    {
     "name": "stdout",
     "output_type": "stream",
     "text": [
      "[*********************100%%**********************]  503 of 503 completed"
     ]
    },
    {
     "name": "stderr",
     "output_type": "stream",
     "text": [
      "\n",
      "2 Failed downloads:\n",
      "['BRK.B']: Exception('%ticker%: No timezone found, symbol may be delisted')\n",
      "['BF.B']: Exception('%ticker%: No price data found, symbol may be delisted (1d 2022-01-01 -> 2023-01-01)')\n"
     ]
    },
    {
     "name": "stdout",
     "output_type": "stream",
     "text": [
      "\n"
     ]
    }
   ],
   "source": [
    "import yfinance as yf\n",
    "\n",
    "# Fetch historical data for the latest year\n",
    "data = yf.download(tickers, start='2022-01-01', end='2023-01-01')['Adj Close']"
   ]
  },
  {
   "cell_type": "code",
   "execution_count": 160,
   "metadata": {},
   "outputs": [],
   "source": [
    "# if it works, it works\n",
    "# Fetch S&P 500 company list and sectors from Wikipedia\n",
    "table = pd.read_html('https://en.wikipedia.org/wiki/List_of_S%26P_500_companies')\n",
    "ticker_data = table[0]\n",
    "tickers = ticker_data['Symbol'].tolist()\n",
    "ticker_to_sector = {row['Symbol']: row['GICS Sector'] for index, row in ticker_data.iterrows()}\n",
    "sector_list = [ticker_to_sector[ticker] for ticker in tickers]"
   ]
  },
  {
   "cell_type": "code",
   "execution_count": 161,
   "metadata": {},
   "outputs": [
    {
     "data": {
      "text/plain": [
       "['Industrials',\n",
       " 'Health Care',\n",
       " 'Information Technology',\n",
       " 'Communication Services',\n",
       " 'Consumer Staples',\n",
       " 'Consumer Discretionary',\n",
       " 'Utilities',\n",
       " 'Financials',\n",
       " 'Materials',\n",
       " 'Real Estate',\n",
       " 'Energy']"
      ]
     },
     "execution_count": 161,
     "metadata": {},
     "output_type": "execute_result"
    }
   ],
   "source": [
    "unique_sectors = []\n",
    "for i in sector_list:\n",
    "    if i not in unique_sectors:\n",
    "        unique_sectors.append(i)\n",
    "unique_sectors"
   ]
  },
  {
   "cell_type": "code",
   "execution_count": 162,
   "metadata": {},
   "outputs": [],
   "source": [
    "returns = data.pct_change()\n",
    "returns = returns.iloc[1:]  #removing first zero-row"
   ]
  },
  {
   "cell_type": "code",
   "execution_count": 182,
   "metadata": {},
   "outputs": [],
   "source": [
    "# annualising\n",
    "Mu = returns.mean() * returns.shape[0]\n",
    "cov_matrix = returns.cov() * returns.shape[0]\n",
    "# getting corr matrix\n",
    "std_dev = np.sqrt(np.diag(cov_matrix))\n",
    "std_matrix = np.outer(std_dev, std_dev)\n",
    "corr_matrix = cov_matrix / std_matrix"
   ]
  },
  {
   "cell_type": "code",
   "execution_count": 183,
   "metadata": {},
   "outputs": [
    {
     "data": {
      "text/html": [
       "<div>\n",
       "<style scoped>\n",
       "    .dataframe tbody tr th:only-of-type {\n",
       "        vertical-align: middle;\n",
       "    }\n",
       "\n",
       "    .dataframe tbody tr th {\n",
       "        vertical-align: top;\n",
       "    }\n",
       "\n",
       "    .dataframe thead th {\n",
       "        text-align: right;\n",
       "    }\n",
       "</style>\n",
       "<table border=\"1\" class=\"dataframe\">\n",
       "  <thead>\n",
       "    <tr style=\"text-align: right;\">\n",
       "      <th></th>\n",
       "      <th>A</th>\n",
       "      <th>AAL</th>\n",
       "      <th>AAP</th>\n",
       "      <th>AAPL</th>\n",
       "      <th>ABBV</th>\n",
       "      <th>ABC</th>\n",
       "      <th>ABT</th>\n",
       "      <th>ACGL</th>\n",
       "      <th>ACN</th>\n",
       "      <th>ADBE</th>\n",
       "      <th>...</th>\n",
       "      <th>WYNN</th>\n",
       "      <th>XEL</th>\n",
       "      <th>XOM</th>\n",
       "      <th>XRAY</th>\n",
       "      <th>XYL</th>\n",
       "      <th>YUM</th>\n",
       "      <th>ZBH</th>\n",
       "      <th>ZBRA</th>\n",
       "      <th>ZION</th>\n",
       "      <th>ZTS</th>\n",
       "    </tr>\n",
       "  </thead>\n",
       "  <tbody>\n",
       "    <tr>\n",
       "      <th>A</th>\n",
       "      <td>0.124187</td>\n",
       "      <td>0.080527</td>\n",
       "      <td>0.052635</td>\n",
       "      <td>0.082022</td>\n",
       "      <td>0.025705</td>\n",
       "      <td>0.028760</td>\n",
       "      <td>0.065081</td>\n",
       "      <td>0.038034</td>\n",
       "      <td>0.083327</td>\n",
       "      <td>0.102514</td>\n",
       "      <td>...</td>\n",
       "      <td>0.084333</td>\n",
       "      <td>0.030382</td>\n",
       "      <td>0.030034</td>\n",
       "      <td>0.059762</td>\n",
       "      <td>0.079552</td>\n",
       "      <td>0.048374</td>\n",
       "      <td>0.058969</td>\n",
       "      <td>0.099227</td>\n",
       "      <td>0.065002</td>\n",
       "      <td>0.080266</td>\n",
       "    </tr>\n",
       "    <tr>\n",
       "      <th>AAL</th>\n",
       "      <td>0.080527</td>\n",
       "      <td>0.314124</td>\n",
       "      <td>0.082479</td>\n",
       "      <td>0.115114</td>\n",
       "      <td>0.018880</td>\n",
       "      <td>0.040184</td>\n",
       "      <td>0.068185</td>\n",
       "      <td>0.069188</td>\n",
       "      <td>0.100526</td>\n",
       "      <td>0.118786</td>\n",
       "      <td>...</td>\n",
       "      <td>0.178233</td>\n",
       "      <td>0.027128</td>\n",
       "      <td>0.022951</td>\n",
       "      <td>0.068121</td>\n",
       "      <td>0.101748</td>\n",
       "      <td>0.072171</td>\n",
       "      <td>0.084284</td>\n",
       "      <td>0.133304</td>\n",
       "      <td>0.117818</td>\n",
       "      <td>0.069799</td>\n",
       "    </tr>\n",
       "    <tr>\n",
       "      <th>AAP</th>\n",
       "      <td>0.052635</td>\n",
       "      <td>0.082479</td>\n",
       "      <td>0.137816</td>\n",
       "      <td>0.059056</td>\n",
       "      <td>0.027270</td>\n",
       "      <td>0.024629</td>\n",
       "      <td>0.039196</td>\n",
       "      <td>0.034563</td>\n",
       "      <td>0.057702</td>\n",
       "      <td>0.068173</td>\n",
       "      <td>...</td>\n",
       "      <td>0.052125</td>\n",
       "      <td>0.022522</td>\n",
       "      <td>0.024130</td>\n",
       "      <td>0.039071</td>\n",
       "      <td>0.062282</td>\n",
       "      <td>0.033482</td>\n",
       "      <td>0.043994</td>\n",
       "      <td>0.075603</td>\n",
       "      <td>0.058398</td>\n",
       "      <td>0.051870</td>\n",
       "    </tr>\n",
       "    <tr>\n",
       "      <th>AAPL</th>\n",
       "      <td>0.082022</td>\n",
       "      <td>0.115114</td>\n",
       "      <td>0.059056</td>\n",
       "      <td>0.126240</td>\n",
       "      <td>0.018879</td>\n",
       "      <td>0.033796</td>\n",
       "      <td>0.059149</td>\n",
       "      <td>0.040440</td>\n",
       "      <td>0.093104</td>\n",
       "      <td>0.113906</td>\n",
       "      <td>...</td>\n",
       "      <td>0.104884</td>\n",
       "      <td>0.035362</td>\n",
       "      <td>0.033745</td>\n",
       "      <td>0.057517</td>\n",
       "      <td>0.077447</td>\n",
       "      <td>0.049308</td>\n",
       "      <td>0.060869</td>\n",
       "      <td>0.117574</td>\n",
       "      <td>0.075732</td>\n",
       "      <td>0.075549</td>\n",
       "    </tr>\n",
       "    <tr>\n",
       "      <th>ABBV</th>\n",
       "      <td>0.025705</td>\n",
       "      <td>0.018880</td>\n",
       "      <td>0.027270</td>\n",
       "      <td>0.018879</td>\n",
       "      <td>0.049907</td>\n",
       "      <td>0.024650</td>\n",
       "      <td>0.027310</td>\n",
       "      <td>0.014405</td>\n",
       "      <td>0.025059</td>\n",
       "      <td>0.018461</td>\n",
       "      <td>...</td>\n",
       "      <td>0.010024</td>\n",
       "      <td>0.019093</td>\n",
       "      <td>0.014064</td>\n",
       "      <td>0.024744</td>\n",
       "      <td>0.021426</td>\n",
       "      <td>0.013413</td>\n",
       "      <td>0.021889</td>\n",
       "      <td>0.018358</td>\n",
       "      <td>0.022398</td>\n",
       "      <td>0.028411</td>\n",
       "    </tr>\n",
       "    <tr>\n",
       "      <th>...</th>\n",
       "      <td>...</td>\n",
       "      <td>...</td>\n",
       "      <td>...</td>\n",
       "      <td>...</td>\n",
       "      <td>...</td>\n",
       "      <td>...</td>\n",
       "      <td>...</td>\n",
       "      <td>...</td>\n",
       "      <td>...</td>\n",
       "      <td>...</td>\n",
       "      <td>...</td>\n",
       "      <td>...</td>\n",
       "      <td>...</td>\n",
       "      <td>...</td>\n",
       "      <td>...</td>\n",
       "      <td>...</td>\n",
       "      <td>...</td>\n",
       "      <td>...</td>\n",
       "      <td>...</td>\n",
       "      <td>...</td>\n",
       "      <td>...</td>\n",
       "    </tr>\n",
       "    <tr>\n",
       "      <th>YUM</th>\n",
       "      <td>0.048374</td>\n",
       "      <td>0.072171</td>\n",
       "      <td>0.033482</td>\n",
       "      <td>0.049308</td>\n",
       "      <td>0.013413</td>\n",
       "      <td>0.020785</td>\n",
       "      <td>0.037134</td>\n",
       "      <td>0.029571</td>\n",
       "      <td>0.048042</td>\n",
       "      <td>0.051905</td>\n",
       "      <td>...</td>\n",
       "      <td>0.066552</td>\n",
       "      <td>0.021981</td>\n",
       "      <td>0.017091</td>\n",
       "      <td>0.031309</td>\n",
       "      <td>0.048809</td>\n",
       "      <td>0.057659</td>\n",
       "      <td>0.037517</td>\n",
       "      <td>0.064767</td>\n",
       "      <td>0.040924</td>\n",
       "      <td>0.039733</td>\n",
       "    </tr>\n",
       "    <tr>\n",
       "      <th>ZBH</th>\n",
       "      <td>0.058969</td>\n",
       "      <td>0.084284</td>\n",
       "      <td>0.043994</td>\n",
       "      <td>0.060869</td>\n",
       "      <td>0.021889</td>\n",
       "      <td>0.025951</td>\n",
       "      <td>0.050423</td>\n",
       "      <td>0.036802</td>\n",
       "      <td>0.063729</td>\n",
       "      <td>0.068613</td>\n",
       "      <td>...</td>\n",
       "      <td>0.067919</td>\n",
       "      <td>0.026097</td>\n",
       "      <td>0.023835</td>\n",
       "      <td>0.057952</td>\n",
       "      <td>0.063669</td>\n",
       "      <td>0.037517</td>\n",
       "      <td>0.092584</td>\n",
       "      <td>0.071939</td>\n",
       "      <td>0.061480</td>\n",
       "      <td>0.052219</td>\n",
       "    </tr>\n",
       "    <tr>\n",
       "      <th>ZBRA</th>\n",
       "      <td>0.099227</td>\n",
       "      <td>0.133304</td>\n",
       "      <td>0.075603</td>\n",
       "      <td>0.117574</td>\n",
       "      <td>0.018358</td>\n",
       "      <td>0.029921</td>\n",
       "      <td>0.071898</td>\n",
       "      <td>0.054954</td>\n",
       "      <td>0.108839</td>\n",
       "      <td>0.134659</td>\n",
       "      <td>...</td>\n",
       "      <td>0.130710</td>\n",
       "      <td>0.031354</td>\n",
       "      <td>0.038880</td>\n",
       "      <td>0.073279</td>\n",
       "      <td>0.089026</td>\n",
       "      <td>0.064767</td>\n",
       "      <td>0.071939</td>\n",
       "      <td>0.214276</td>\n",
       "      <td>0.094844</td>\n",
       "      <td>0.086938</td>\n",
       "    </tr>\n",
       "    <tr>\n",
       "      <th>ZION</th>\n",
       "      <td>0.065002</td>\n",
       "      <td>0.117818</td>\n",
       "      <td>0.058398</td>\n",
       "      <td>0.075732</td>\n",
       "      <td>0.022398</td>\n",
       "      <td>0.029724</td>\n",
       "      <td>0.057891</td>\n",
       "      <td>0.052078</td>\n",
       "      <td>0.074379</td>\n",
       "      <td>0.071309</td>\n",
       "      <td>...</td>\n",
       "      <td>0.108861</td>\n",
       "      <td>0.029923</td>\n",
       "      <td>0.038688</td>\n",
       "      <td>0.061640</td>\n",
       "      <td>0.070730</td>\n",
       "      <td>0.040924</td>\n",
       "      <td>0.061480</td>\n",
       "      <td>0.094844</td>\n",
       "      <td>0.143775</td>\n",
       "      <td>0.056933</td>\n",
       "    </tr>\n",
       "    <tr>\n",
       "      <th>ZTS</th>\n",
       "      <td>0.080266</td>\n",
       "      <td>0.069799</td>\n",
       "      <td>0.051870</td>\n",
       "      <td>0.075549</td>\n",
       "      <td>0.028411</td>\n",
       "      <td>0.023286</td>\n",
       "      <td>0.059845</td>\n",
       "      <td>0.032467</td>\n",
       "      <td>0.075956</td>\n",
       "      <td>0.091220</td>\n",
       "      <td>...</td>\n",
       "      <td>0.070427</td>\n",
       "      <td>0.029657</td>\n",
       "      <td>0.017168</td>\n",
       "      <td>0.060081</td>\n",
       "      <td>0.061524</td>\n",
       "      <td>0.039733</td>\n",
       "      <td>0.052219</td>\n",
       "      <td>0.086938</td>\n",
       "      <td>0.056933</td>\n",
       "      <td>0.100904</td>\n",
       "    </tr>\n",
       "  </tbody>\n",
       "</table>\n",
       "<p>503 rows × 503 columns</p>\n",
       "</div>"
      ],
      "text/plain": [
       "             A       AAL       AAP      AAPL      ABBV       ABC       ABT  \\\n",
       "A     0.124187  0.080527  0.052635  0.082022  0.025705  0.028760  0.065081   \n",
       "AAL   0.080527  0.314124  0.082479  0.115114  0.018880  0.040184  0.068185   \n",
       "AAP   0.052635  0.082479  0.137816  0.059056  0.027270  0.024629  0.039196   \n",
       "AAPL  0.082022  0.115114  0.059056  0.126240  0.018879  0.033796  0.059149   \n",
       "ABBV  0.025705  0.018880  0.027270  0.018879  0.049907  0.024650  0.027310   \n",
       "...        ...       ...       ...       ...       ...       ...       ...   \n",
       "YUM   0.048374  0.072171  0.033482  0.049308  0.013413  0.020785  0.037134   \n",
       "ZBH   0.058969  0.084284  0.043994  0.060869  0.021889  0.025951  0.050423   \n",
       "ZBRA  0.099227  0.133304  0.075603  0.117574  0.018358  0.029921  0.071898   \n",
       "ZION  0.065002  0.117818  0.058398  0.075732  0.022398  0.029724  0.057891   \n",
       "ZTS   0.080266  0.069799  0.051870  0.075549  0.028411  0.023286  0.059845   \n",
       "\n",
       "          ACGL       ACN      ADBE  ...      WYNN       XEL       XOM  \\\n",
       "A     0.038034  0.083327  0.102514  ...  0.084333  0.030382  0.030034   \n",
       "AAL   0.069188  0.100526  0.118786  ...  0.178233  0.027128  0.022951   \n",
       "AAP   0.034563  0.057702  0.068173  ...  0.052125  0.022522  0.024130   \n",
       "AAPL  0.040440  0.093104  0.113906  ...  0.104884  0.035362  0.033745   \n",
       "ABBV  0.014405  0.025059  0.018461  ...  0.010024  0.019093  0.014064   \n",
       "...        ...       ...       ...  ...       ...       ...       ...   \n",
       "YUM   0.029571  0.048042  0.051905  ...  0.066552  0.021981  0.017091   \n",
       "ZBH   0.036802  0.063729  0.068613  ...  0.067919  0.026097  0.023835   \n",
       "ZBRA  0.054954  0.108839  0.134659  ...  0.130710  0.031354  0.038880   \n",
       "ZION  0.052078  0.074379  0.071309  ...  0.108861  0.029923  0.038688   \n",
       "ZTS   0.032467  0.075956  0.091220  ...  0.070427  0.029657  0.017168   \n",
       "\n",
       "          XRAY       XYL       YUM       ZBH      ZBRA      ZION       ZTS  \n",
       "A     0.059762  0.079552  0.048374  0.058969  0.099227  0.065002  0.080266  \n",
       "AAL   0.068121  0.101748  0.072171  0.084284  0.133304  0.117818  0.069799  \n",
       "AAP   0.039071  0.062282  0.033482  0.043994  0.075603  0.058398  0.051870  \n",
       "AAPL  0.057517  0.077447  0.049308  0.060869  0.117574  0.075732  0.075549  \n",
       "ABBV  0.024744  0.021426  0.013413  0.021889  0.018358  0.022398  0.028411  \n",
       "...        ...       ...       ...       ...       ...       ...       ...  \n",
       "YUM   0.031309  0.048809  0.057659  0.037517  0.064767  0.040924  0.039733  \n",
       "ZBH   0.057952  0.063669  0.037517  0.092584  0.071939  0.061480  0.052219  \n",
       "ZBRA  0.073279  0.089026  0.064767  0.071939  0.214276  0.094844  0.086938  \n",
       "ZION  0.061640  0.070730  0.040924  0.061480  0.094844  0.143775  0.056933  \n",
       "ZTS   0.060081  0.061524  0.039733  0.052219  0.086938  0.056933  0.100904  \n",
       "\n",
       "[503 rows x 503 columns]"
      ]
     },
     "execution_count": 183,
     "metadata": {},
     "output_type": "execute_result"
    }
   ],
   "source": [
    "cov_matrix"
   ]
  },
  {
   "cell_type": "code",
   "execution_count": 164,
   "metadata": {},
   "outputs": [],
   "source": [
    "# collecting all data in one df\n",
    "stock_df = pd.DataFrame({\n",
    "    'Risk': std_dev,  \n",
    "    'Return': Mu,  \n",
    "    'Ticker': tickers,\n",
    "    'Sector' : sector_list\n",
    "})"
   ]
  },
  {
   "cell_type": "code",
   "execution_count": 165,
   "metadata": {},
   "outputs": [
    {
     "data": {
      "application/vnd.plotly.v1+json": {
       "config": {
        "plotlyServerURL": "https://plot.ly"
       },
       "data": [
        {
         "customdata": [
          [
           "MMM"
          ],
          [
           "AOS"
          ],
          [
           "ABT"
          ],
          [
           "ABBV"
          ],
          [
           "ACN"
          ],
          [
           "ATVI"
          ],
          [
           "ADM"
          ],
          [
           "ADBE"
          ],
          [
           "ADP"
          ],
          [
           "AAP"
          ],
          [
           "AES"
          ],
          [
           "AFL"
          ],
          [
           "A"
          ],
          [
           "APD"
          ],
          [
           "AKAM"
          ],
          [
           "ALK"
          ],
          [
           "ALB"
          ],
          [
           "ARE"
          ],
          [
           "ALGN"
          ],
          [
           "ALLE"
          ],
          [
           "LNT"
          ],
          [
           "ALL"
          ],
          [
           "GOOGL"
          ],
          [
           "GOOG"
          ],
          [
           "MO"
          ],
          [
           "AMZN"
          ],
          [
           "AMCR"
          ],
          [
           "AMD"
          ],
          [
           "AEE"
          ],
          [
           "AAL"
          ],
          [
           "AEP"
          ],
          [
           "AXP"
          ],
          [
           "AIG"
          ],
          [
           "AMT"
          ],
          [
           "AWK"
          ],
          [
           "AMP"
          ],
          [
           "ABC"
          ],
          [
           "AME"
          ],
          [
           "AMGN"
          ],
          [
           "APH"
          ],
          [
           "ADI"
          ],
          [
           "ANSS"
          ],
          [
           "AON"
          ],
          [
           "APA"
          ],
          [
           "AAPL"
          ],
          [
           "AMAT"
          ],
          [
           "APTV"
          ],
          [
           "ACGL"
          ],
          [
           "ANET"
          ],
          [
           "AJG"
          ],
          [
           "AIZ"
          ],
          [
           "T"
          ],
          [
           "ATO"
          ],
          [
           "ADSK"
          ],
          [
           "AZO"
          ],
          [
           "AVB"
          ],
          [
           "AVY"
          ],
          [
           "AXON"
          ],
          [
           "BKR"
          ],
          [
           "BALL"
          ],
          [
           "BAC"
          ],
          [
           "BBWI"
          ],
          [
           "BAX"
          ],
          [
           "BDX"
          ],
          [
           "WRB"
          ],
          [
           "BRK.B"
          ],
          [
           "BBY"
          ],
          [
           "BIO"
          ],
          [
           "TECH"
          ],
          [
           "BIIB"
          ],
          [
           "BLK"
          ],
          [
           "BK"
          ],
          [
           "BA"
          ],
          [
           "BKNG"
          ],
          [
           "BWA"
          ],
          [
           "BXP"
          ],
          [
           "BSX"
          ],
          [
           "BMY"
          ],
          [
           "AVGO"
          ],
          [
           "BR"
          ],
          [
           "BRO"
          ],
          [
           "BF.B"
          ],
          [
           "BG"
          ],
          [
           "CHRW"
          ],
          [
           "CDNS"
          ],
          [
           "CZR"
          ],
          [
           "CPT"
          ],
          [
           "CPB"
          ],
          [
           "COF"
          ],
          [
           "CAH"
          ],
          [
           "KMX"
          ],
          [
           "CCL"
          ],
          [
           "CARR"
          ],
          [
           "CTLT"
          ],
          [
           "CAT"
          ],
          [
           "CBOE"
          ],
          [
           "CBRE"
          ],
          [
           "CDW"
          ],
          [
           "CE"
          ],
          [
           "CNC"
          ],
          [
           "CNP"
          ],
          [
           "CDAY"
          ],
          [
           "CF"
          ],
          [
           "CRL"
          ],
          [
           "SCHW"
          ],
          [
           "CHTR"
          ],
          [
           "CVX"
          ],
          [
           "CMG"
          ],
          [
           "CB"
          ],
          [
           "CHD"
          ],
          [
           "CI"
          ],
          [
           "CINF"
          ],
          [
           "CTAS"
          ],
          [
           "CSCO"
          ],
          [
           "C"
          ],
          [
           "CFG"
          ],
          [
           "CLX"
          ],
          [
           "CME"
          ],
          [
           "CMS"
          ],
          [
           "KO"
          ],
          [
           "CTSH"
          ],
          [
           "CL"
          ],
          [
           "CMCSA"
          ],
          [
           "CMA"
          ],
          [
           "CAG"
          ],
          [
           "COP"
          ],
          [
           "ED"
          ],
          [
           "STZ"
          ],
          [
           "CEG"
          ],
          [
           "COO"
          ],
          [
           "CPRT"
          ],
          [
           "GLW"
          ],
          [
           "CTVA"
          ],
          [
           "CSGP"
          ],
          [
           "COST"
          ],
          [
           "CTRA"
          ],
          [
           "CCI"
          ],
          [
           "CSX"
          ],
          [
           "CMI"
          ],
          [
           "CVS"
          ],
          [
           "DHI"
          ],
          [
           "DHR"
          ],
          [
           "DRI"
          ],
          [
           "DVA"
          ],
          [
           "DE"
          ],
          [
           "DAL"
          ],
          [
           "XRAY"
          ],
          [
           "DVN"
          ],
          [
           "DXCM"
          ],
          [
           "FANG"
          ],
          [
           "DLR"
          ],
          [
           "DFS"
          ],
          [
           "DIS"
          ],
          [
           "DG"
          ],
          [
           "DLTR"
          ],
          [
           "D"
          ],
          [
           "DPZ"
          ],
          [
           "DOV"
          ],
          [
           "DOW"
          ],
          [
           "DTE"
          ],
          [
           "DUK"
          ],
          [
           "DD"
          ],
          [
           "DXC"
          ],
          [
           "EMN"
          ],
          [
           "ETN"
          ],
          [
           "EBAY"
          ],
          [
           "ECL"
          ],
          [
           "EIX"
          ],
          [
           "EW"
          ],
          [
           "EA"
          ],
          [
           "ELV"
          ],
          [
           "LLY"
          ],
          [
           "EMR"
          ],
          [
           "ENPH"
          ],
          [
           "ETR"
          ],
          [
           "EOG"
          ],
          [
           "EPAM"
          ],
          [
           "EQT"
          ],
          [
           "EFX"
          ],
          [
           "EQIX"
          ],
          [
           "EQR"
          ],
          [
           "ESS"
          ],
          [
           "EL"
          ],
          [
           "ETSY"
          ],
          [
           "EG"
          ],
          [
           "EVRG"
          ],
          [
           "ES"
          ],
          [
           "EXC"
          ],
          [
           "EXPE"
          ],
          [
           "EXPD"
          ],
          [
           "EXR"
          ],
          [
           "XOM"
          ],
          [
           "FFIV"
          ],
          [
           "FDS"
          ],
          [
           "FICO"
          ],
          [
           "FAST"
          ],
          [
           "FRT"
          ],
          [
           "FDX"
          ],
          [
           "FITB"
          ],
          [
           "FSLR"
          ],
          [
           "FE"
          ],
          [
           "FIS"
          ],
          [
           "FI"
          ],
          [
           "FLT"
          ],
          [
           "FMC"
          ],
          [
           "F"
          ],
          [
           "FTNT"
          ],
          [
           "FTV"
          ],
          [
           "FOXA"
          ],
          [
           "FOX"
          ],
          [
           "BEN"
          ],
          [
           "FCX"
          ],
          [
           "GRMN"
          ],
          [
           "IT"
          ],
          [
           "GEHC"
          ],
          [
           "GEN"
          ],
          [
           "GNRC"
          ],
          [
           "GD"
          ],
          [
           "GE"
          ],
          [
           "GIS"
          ],
          [
           "GM"
          ],
          [
           "GPC"
          ],
          [
           "GILD"
          ],
          [
           "GL"
          ],
          [
           "GPN"
          ],
          [
           "GS"
          ],
          [
           "HAL"
          ],
          [
           "HIG"
          ],
          [
           "HAS"
          ],
          [
           "HCA"
          ],
          [
           "PEAK"
          ],
          [
           "HSIC"
          ],
          [
           "HSY"
          ],
          [
           "HES"
          ],
          [
           "HPE"
          ],
          [
           "HLT"
          ],
          [
           "HOLX"
          ],
          [
           "HD"
          ],
          [
           "HON"
          ],
          [
           "HRL"
          ],
          [
           "HST"
          ],
          [
           "HWM"
          ],
          [
           "HPQ"
          ],
          [
           "HUM"
          ],
          [
           "HBAN"
          ],
          [
           "HII"
          ],
          [
           "IBM"
          ],
          [
           "IEX"
          ],
          [
           "IDXX"
          ],
          [
           "ITW"
          ],
          [
           "ILMN"
          ],
          [
           "INCY"
          ],
          [
           "IR"
          ],
          [
           "PODD"
          ],
          [
           "INTC"
          ],
          [
           "ICE"
          ],
          [
           "IFF"
          ],
          [
           "IP"
          ],
          [
           "IPG"
          ],
          [
           "INTU"
          ],
          [
           "ISRG"
          ],
          [
           "IVZ"
          ],
          [
           "INVH"
          ],
          [
           "IQV"
          ],
          [
           "IRM"
          ],
          [
           "JBHT"
          ],
          [
           "JKHY"
          ],
          [
           "J"
          ],
          [
           "JNJ"
          ],
          [
           "JCI"
          ],
          [
           "JPM"
          ],
          [
           "JNPR"
          ],
          [
           "K"
          ],
          [
           "KDP"
          ],
          [
           "KEY"
          ],
          [
           "KEYS"
          ],
          [
           "KMB"
          ],
          [
           "KIM"
          ],
          [
           "KMI"
          ],
          [
           "KLAC"
          ],
          [
           "KHC"
          ],
          [
           "KR"
          ],
          [
           "LHX"
          ],
          [
           "LH"
          ],
          [
           "LRCX"
          ],
          [
           "LW"
          ],
          [
           "LVS"
          ],
          [
           "LDOS"
          ],
          [
           "LEN"
          ],
          [
           "LNC"
          ],
          [
           "LIN"
          ],
          [
           "LYV"
          ],
          [
           "LKQ"
          ],
          [
           "LMT"
          ],
          [
           "L"
          ],
          [
           "LOW"
          ],
          [
           "LYB"
          ],
          [
           "MTB"
          ],
          [
           "MRO"
          ],
          [
           "MPC"
          ],
          [
           "MKTX"
          ],
          [
           "MAR"
          ],
          [
           "MMC"
          ],
          [
           "MLM"
          ],
          [
           "MAS"
          ],
          [
           "MA"
          ],
          [
           "MTCH"
          ],
          [
           "MKC"
          ],
          [
           "MCD"
          ],
          [
           "MCK"
          ],
          [
           "MDT"
          ],
          [
           "MRK"
          ],
          [
           "META"
          ],
          [
           "MET"
          ],
          [
           "MTD"
          ],
          [
           "MGM"
          ],
          [
           "MCHP"
          ],
          [
           "MU"
          ],
          [
           "MSFT"
          ],
          [
           "MAA"
          ],
          [
           "MRNA"
          ],
          [
           "MHK"
          ],
          [
           "MOH"
          ],
          [
           "TAP"
          ],
          [
           "MDLZ"
          ],
          [
           "MPWR"
          ],
          [
           "MNST"
          ],
          [
           "MCO"
          ],
          [
           "MS"
          ],
          [
           "MOS"
          ],
          [
           "MSI"
          ],
          [
           "MSCI"
          ],
          [
           "NDAQ"
          ],
          [
           "NTAP"
          ],
          [
           "NFLX"
          ],
          [
           "NWL"
          ],
          [
           "NEM"
          ],
          [
           "NWSA"
          ],
          [
           "NWS"
          ],
          [
           "NEE"
          ],
          [
           "NKE"
          ],
          [
           "NI"
          ],
          [
           "NDSN"
          ],
          [
           "NSC"
          ],
          [
           "NTRS"
          ],
          [
           "NOC"
          ],
          [
           "NCLH"
          ],
          [
           "NRG"
          ],
          [
           "NUE"
          ],
          [
           "NVDA"
          ],
          [
           "NVR"
          ],
          [
           "NXPI"
          ],
          [
           "ORLY"
          ],
          [
           "OXY"
          ],
          [
           "ODFL"
          ],
          [
           "OMC"
          ],
          [
           "ON"
          ],
          [
           "OKE"
          ],
          [
           "ORCL"
          ],
          [
           "OGN"
          ],
          [
           "OTIS"
          ],
          [
           "PCAR"
          ],
          [
           "PKG"
          ],
          [
           "PANW"
          ],
          [
           "PARA"
          ],
          [
           "PH"
          ],
          [
           "PAYX"
          ],
          [
           "PAYC"
          ],
          [
           "PYPL"
          ],
          [
           "PNR"
          ],
          [
           "PEP"
          ],
          [
           "PFE"
          ],
          [
           "PCG"
          ],
          [
           "PM"
          ],
          [
           "PSX"
          ],
          [
           "PNW"
          ],
          [
           "PXD"
          ],
          [
           "PNC"
          ],
          [
           "POOL"
          ],
          [
           "PPG"
          ],
          [
           "PPL"
          ],
          [
           "PFG"
          ],
          [
           "PG"
          ],
          [
           "PGR"
          ],
          [
           "PLD"
          ],
          [
           "PRU"
          ],
          [
           "PEG"
          ],
          [
           "PTC"
          ],
          [
           "PSA"
          ],
          [
           "PHM"
          ],
          [
           "QRVO"
          ],
          [
           "PWR"
          ],
          [
           "QCOM"
          ],
          [
           "DGX"
          ],
          [
           "RL"
          ],
          [
           "RJF"
          ],
          [
           "RTX"
          ],
          [
           "O"
          ],
          [
           "REG"
          ],
          [
           "REGN"
          ],
          [
           "RF"
          ],
          [
           "RSG"
          ],
          [
           "RMD"
          ],
          [
           "RVTY"
          ],
          [
           "RHI"
          ],
          [
           "ROK"
          ],
          [
           "ROL"
          ],
          [
           "ROP"
          ],
          [
           "ROST"
          ],
          [
           "RCL"
          ],
          [
           "SPGI"
          ],
          [
           "CRM"
          ],
          [
           "SBAC"
          ],
          [
           "SLB"
          ],
          [
           "STX"
          ],
          [
           "SEE"
          ],
          [
           "SRE"
          ],
          [
           "NOW"
          ],
          [
           "SHW"
          ],
          [
           "SPG"
          ],
          [
           "SWKS"
          ],
          [
           "SJM"
          ],
          [
           "SNA"
          ],
          [
           "SEDG"
          ],
          [
           "SO"
          ],
          [
           "LUV"
          ],
          [
           "SWK"
          ],
          [
           "SBUX"
          ],
          [
           "STT"
          ],
          [
           "STLD"
          ],
          [
           "STE"
          ],
          [
           "SYK"
          ],
          [
           "SYF"
          ],
          [
           "SNPS"
          ],
          [
           "SYY"
          ],
          [
           "TMUS"
          ],
          [
           "TROW"
          ],
          [
           "TTWO"
          ],
          [
           "TPR"
          ],
          [
           "TRGP"
          ],
          [
           "TGT"
          ],
          [
           "TEL"
          ],
          [
           "TDY"
          ],
          [
           "TFX"
          ],
          [
           "TER"
          ],
          [
           "TSLA"
          ],
          [
           "TXN"
          ],
          [
           "TXT"
          ],
          [
           "TMO"
          ],
          [
           "TJX"
          ],
          [
           "TSCO"
          ],
          [
           "TT"
          ],
          [
           "TDG"
          ],
          [
           "TRV"
          ],
          [
           "TRMB"
          ],
          [
           "TFC"
          ],
          [
           "TYL"
          ],
          [
           "TSN"
          ],
          [
           "USB"
          ],
          [
           "UDR"
          ],
          [
           "ULTA"
          ],
          [
           "UNP"
          ],
          [
           "UAL"
          ],
          [
           "UPS"
          ],
          [
           "URI"
          ],
          [
           "UNH"
          ],
          [
           "UHS"
          ],
          [
           "VLO"
          ],
          [
           "VTR"
          ],
          [
           "VRSN"
          ],
          [
           "VRSK"
          ],
          [
           "VZ"
          ],
          [
           "VRTX"
          ],
          [
           "VFC"
          ],
          [
           "VTRS"
          ],
          [
           "VICI"
          ],
          [
           "V"
          ],
          [
           "VMC"
          ],
          [
           "WAB"
          ],
          [
           "WBA"
          ],
          [
           "WMT"
          ],
          [
           "WBD"
          ],
          [
           "WM"
          ],
          [
           "WAT"
          ],
          [
           "WEC"
          ],
          [
           "WFC"
          ],
          [
           "WELL"
          ],
          [
           "WST"
          ],
          [
           "WDC"
          ],
          [
           "WRK"
          ],
          [
           "WY"
          ],
          [
           "WHR"
          ],
          [
           "WMB"
          ],
          [
           "WTW"
          ],
          [
           "GWW"
          ],
          [
           "WYNN"
          ],
          [
           "XEL"
          ],
          [
           "XYL"
          ],
          [
           "YUM"
          ],
          [
           "ZBRA"
          ],
          [
           "ZBH"
          ],
          [
           "ZION"
          ],
          [
           "ZTS"
          ]
         ],
         "hovertemplate": "Risk=%{x}<br>Return=%{y}<br>Ticker=%{customdata[0]}<extra></extra>",
         "legendgroup": "",
         "marker": {
          "color": "#636efa",
          "symbol": "circle"
         },
         "mode": "markers",
         "name": "",
         "orientation": "v",
         "showlegend": false,
         "type": "scatter",
         "x": [
          0.3524012738995701,
          0.5604679508782554,
          0.3712354001545808,
          0.3553026090292631,
          0.22339829581465642,
          0.23536067417065923,
          0.26591575434073295,
          0.2782439052268564,
          0.33018062693188943,
          0.4497088070520234,
          0.36689269779368555,
          0.31071090316236727,
          0.28217848635013104,
          0.47681968788326806,
          0.2191592247714542,
          0.23382497722628373,
          0.35049745576613855,
          0.23514274698530557,
          0.32595919776401383,
          0.29117811998665155,
          0.26586156137565603,
          0.29805017447973636,
          0.5481484191377681,
          0.5980193945005193,
          0.41002551132912285,
          0.2972039901550933,
          0.3199095648073633,
          0.5053639620070661,
          0.27611519542859847,
          0.6080951380569086,
          0.24389292436781554,
          0.21687651485370182,
          0.35427574471182655,
          0.31756336931916335,
          0.49918434579134763,
          0.42874088834488266,
          0.41500839205659873,
          0.27829581384937946,
          0.31153125149457594,
          0.5863506883160844,
          0.2858383938402116,
          0.2962324919673428,
          0.518996593064542,
          0.30650501489874676,
          0.2329781043437313,
          0.2995159062158915,
          0.2687117694238079,
          0.37224380259647316,
          0.3308111880776563,
          0.26875419074662255,
          0.5248830360291901,
          0.35428280533836126,
          0.2950098365264178,
          0.46573097318471146,
          0.3217666634582085,
          0.41229558431881036,
          0.3008768445882211,
          0.610340488180156,
          0.4525090628281545,
          0.2424512714539645,
          0.37826863858469867,
          null,
          0.332400508897538,
          0.5060447716181798,
          0.4075678666073403,
          0.31372488252246394,
          0.42373696253423904,
          0.4503959300763605,
          0.36713457642374137,
          0.1965890864147732,
          0.29872298450644297,
          null,
          0.323896876005291,
          0.2715359809185427,
          0.38087326813806827,
          0.2975805793332845,
          0.33124748038578206,
          0.24491210757838577,
          0.2712502245021213,
          0.3346733356590007,
          0.3350664018920576,
          0.22894633748763676,
          0.25388786019491943,
          0.3415643136757204,
          0.3050415662342735,
          0.7668377334541598,
          0.5726603021782819,
          0.4068850157704361,
          0.3101877997861247,
          0.40466051137477993,
          0.4727382017602927,
          0.49276366529241133,
          0.35250063994289504,
          0.24480709436454984,
          0.33977174968535845,
          0.4059220655372944,
          0.26248591217650635,
          0.32318991529167385,
          0.20126278719563076,
          0.3208433451585059,
          0.3681124766968332,
          0.29714897050028455,
          0.24937730603133748,
          0.40916025042139864,
          0.281276025514179,
          0.23139414783476325,
          0.3252484293661943,
          0.2296069708038211,
          0.42305110963586706,
          0.3414305293369826,
          0.4270977356113671,
          0.31307158731938034,
          0.23815762186920456,
          0.3389996748226765,
          0.26412693996887143,
          0.45241501059634465,
          0.47122542308230503,
          0.2922584040077022,
          0.44032465785403574,
          0.28294257033511727,
          0.2719629862396219,
          0.536513118854766,
          0.47131722628647327,
          0.34022455349923564,
          0.2820201753219602,
          0.26460708343941497,
          0.3282417035479761,
          0.7000992536102478,
          0.23626554571797015,
          0.45793744432901085,
          0.32980298281693887,
          0.3502199036083557,
          0.39848765797343916,
          0.3287860868566725,
          0.24878181268373392,
          0.4379572680011384,
          0.33830206186695105,
          0.36964467840085585,
          0.3382008895013386,
          0.41431370269950923,
          0.2843394144594634,
          0.3018390372444812,
          0.3434937659288502,
          0.337877225546878,
          0.22112428209368845,
          0.2160792361766788,
          0.4422432173500388,
          0.5382083597163697,
          0.5171200410643542,
          0.5460802751390068,
          0.26122583709437774,
          0.38118828370403646,
          0.345998605954107,
          0.21882211366628354,
          0.3898138033421635,
          0.28804548969388105,
          0.2696687241163959,
          0.42043186569429847,
          0.274491106817941,
          0.34768289374061956,
          0.26880177747540673,
          0.7255882355232103,
          0.4475960563295497,
          0.8441854518267996,
          0.3567053848108538,
          0.2694434393939813,
          0.5762203882892599,
          0.2391455174834854,
          0.26451135573745804,
          0.2794668110440409,
          0.24498727545546586,
          0.7696243767736236,
          0.23236322646514168,
          0.39308560251800834,
          0.25773656437452513,
          0.31421509410039605,
          0.520040286897647,
          0.33519677571821127,
          0.4883530469418425,
          0.4689175248276252,
          0.2852294924456601,
          0.5374638536920657,
          0.291396280737197,
          0.42648601808348213,
          0.2329318168895063,
          0.3704310257955641,
          0.30357044782118575,
          0.5084009091343298,
          0.4506883915236325,
          0.3607420260551784,
          0.3448840129013471,
          0.28550964388106087,
          0.30768844862313915,
          0.31970093169364067,
          0.2808478184068259,
          0.5169080378002114,
          0.5383541282462683,
          0.2961543057391675,
          0.23486930214752688,
          0.34803473354175785,
          0.30416987652579985,
          0.34501371615966525,
          0.2532223435824891,
          0.223714930796063,
          0.24545298379334973,
          0.31864509457818546,
          0.43796857038139075,
          0.6988388439623375,
          0.3869094450340722,
          0.38573220033446237,
          0.24388093080520734,
          0.3967215176922545,
          0.31125687721926354,
          0.29339257165779054,
          0.2841919117026296,
          0.5100959451152955,
          0.33818766146787627,
          0.33681504042222254,
          0.41764868568976443,
          0.3122800963300156,
          0.44634569453746054,
          0.2579769366352342,
          0.26675005865173035,
          0.3675831018398818,
          0.27001325263765946,
          0.24896983481818297,
          0.346030245626244,
          0.4206185311943183,
          0.21144298129909841,
          0.25885248542213685,
          0.39537085575223624,
          0.21015807910983061,
          0.32441707291641947,
          0.3340294979809782,
          0.23751615892715455,
          0.2811181715760271,
          0.42759616405003265,
          0.25849101596225416,
          0.3270880362033217,
          0.5541099829670165,
          0.2649242639597381,
          0.3807259732318939,
          0.47874232629880564,
          0.29871937973095036,
          0.2921070811108072,
          0.3430152526017792,
          0.36869023635175796,
          0.3446625958010136,
          0.3504981956259435,
          0.43843464723669684,
          0.3582383066880783,
          0.2593670325224216,
          0.43816365095173115,
          0.2904664356835255,
          0.34283068346792683,
          0.3231617626244284,
          0.24980756245890506,
          0.17371082480862501,
          0.3017909817561007,
          0.2973502582629404,
          0.22109596560590125,
          0.21109782373367147,
          0.35370132372593405,
          0.3325696972775803,
          0.2531451466789347,
          0.30578535403171586,
          0.48725860639388524,
          0.21872254629519244,
          0.27188553646542885,
          0.5147236008021947,
          0.19643167633391592,
          0.3325590187380911,
          0.23380599300294427,
          0.24803941572984153,
          0.4347828676302301,
          0.28452395189796387,
          0.30120438056458,
          0.2949142043071918,
          0.3418812691988735,
          0.2714850798750538,
          0.2637780805000509,
          0.5652935693504002,
          0.2442341091372556,
          0.3325492008589829,
          0.5410611328655158,
          0.3739638456283095,
          0.5684746228130563,
          0.29399235099996796,
          0.34377457679309953,
          0.4408540363740619,
          0.3219148752095042,
          0.2673149175445087,
          0.37072465191885273,
          0.35626829156596174,
          0.1974908713819371,
          0.4652227808712277,
          0.23963380295528416,
          0.34883031469527537,
          0.20630772619649332,
          0.25074741875533346,
          0.2519117591360375,
          0.6412283136569722,
          0.4804363529342139,
          0.4652415194100741,
          0.25914528756646515,
          0.3806421144420017,
          0.3251541456431075,
          0.25457588929507624,
          0.27215631807007823,
          0.29615618431600327,
          0.24818636325228388,
          0.29402081737440566,
          0.5400439678532402,
          0.36092507012922825,
          0.6130143643974225,
          0.19890503434112147,
          0.7217403357953819,
          0.5189737741644276,
          0.32135629382519054,
          0.39593730052805076,
          0.3524162363729095,
          0.30260130424546855,
          0.35381200592819906,
          0.630463094563841,
          0.36993104104249536,
          0.47160901512466036,
          0.7448976994470848,
          0.2712147261550567,
          0.26585055372411937,
          0.30999587243722804,
          0.38061934636714007,
          0.6992130990767539,
          0.2509228633813728,
          0.4217667586722196,
          0.3131893367465137,
          0.5560697927971551,
          0.3623899825304646,
          0.2894152567487225,
          0.3369541419263814,
          0.34316854033155514,
          0.4684908810566102,
          0.6303801427059847,
          0.3601712388067002,
          0.4148925838463091,
          0.36365727258923336,
          0.35904014138106843,
          0.45765728569557573,
          0.2217775275915095,
          0.41954893636482093,
          0.3174446215451977,
          0.34236190685151796,
          0.3300136586596885,
          0.6116217187245835,
          0.30462869650196217,
          0.29241188067480917,
          0.2651823106432166,
          0.5487094868206841,
          0.48403919905040776,
          0.562732190164174,
          0.5335212075384429,
          0.2848056046923134,
          0.26143782715681896,
          0.35530644474704076,
          0.2721239841621132,
          0.23886846011633966,
          0.19420196653281033,
          0.2659987187382834,
          0.31189776328874036,
          0.21906535677891828,
          0.2566986262963485,
          0.31083495821612656,
          0.4380249366032571,
          0.2974071666684137,
          0.34249355505644546,
          0.24847957211796667,
          0.30236140255802796,
          0.3321735139574314,
          0.2459919377123432,
          0.565086785233418,
          0.4323607158187982,
          0.3523941422157903,
          0.23365208242088856,
          0.29300400085576045,
          0.2863054264363042,
          0.39008422140530924,
          0.39132079121564994,
          0.3893181141467398,
          0.40510765736473914,
          0.5851732502346068,
          0.46645781819302895,
          0.4653181816548422,
          0.674535507888599,
          0.29496037961106825,
          0.33627265895798786,
          0.35943901089396896,
          0.358927178085525,
          0.33928439379767894,
          0.4477751843572664,
          0.3300118966445128,
          0.36845560658737214,
          0.29699372783673567,
          0.25800932163048007,
          0.4503341991528185,
          0.2219131572815353,
          0.25934363591926934,
          0.3784723987952402,
          0.3276233184656556,
          0.3579858988580604,
          0.3620832869910306,
          0.7081715379614478,
          0.33521436265355764,
          0.3527875612085191,
          0.23484829698158038,
          0.4939185787296784,
          0.26038515724902656,
          0.42247169569092063,
          0.2271289363639901,
          0.325685980232166,
          0.3042265034854009,
          0.23844026668482662,
          0.3269561186092491,
          0.4510776126396587,
          0.40267143971235614,
          0.4212305373365376,
          0.2330036753840827,
          0.42902679184687736,
          0.42881099977469905,
          0.4369039891903566,
          0.3126573060942358,
          0.2870697720044736,
          0.2718472337437534,
          0.2840598442441297,
          0.3439698628971018,
          0.29701712000793573,
          0.41027386857707543,
          0.3321288591400277,
          0.5235635800605292,
          0.32167732745572974,
          0.34972496168649353,
          0.46074944088801933,
          0.3297502492206888,
          0.32068428125190684,
          0.2938646175966856,
          0.4895601415952349,
          0.40943199561485577,
          0.42095295707301905,
          0.4245803810475141,
          0.2276138713097505,
          0.352840957773634,
          0.6507246764402965,
          0.27131574604803516,
          0.30414519937879714,
          0.4389351018222882,
          0.31964750156219196,
          0.333834637715978,
          0.41411592350671167,
          0.5420650382295613,
          0.2770500445581602,
          0.39500301694269935,
          0.3676433031867557,
          0.24324313801691966,
          0.2606502976562374,
          0.31693971183410935,
          0.411091231559299,
          0.2896132754037244,
          0.3082183869507274,
          0.4413667400549375,
          0.26600843016258635,
          0.4473956963247593,
          0.30937539609977094,
          0.27909140478008354,
          0.3447010331791377,
          0.31613596695453827,
          0.3100661823680333,
          0.4244821649740792,
          0.22561784300542345,
          0.3239174824885628,
          0.33642810136739787,
          0.3001510804516128,
          0.6267409975052204,
          0.4748029720865358,
          0.22997579714468855,
          0.28143714234064177,
          0.33456534346617905,
          0.3900591563601619,
          0.21438634126657263,
          0.2870698508662715,
          0.2666353012185978,
          0.2486972787259754,
          0.3615298178400526,
          0.4199536634156873,
          0.24816330691795913,
          0.30930876397140444,
          0.5807303562155548,
          0.22833259727308808,
          0.34834174103209203,
          0.3626278460036615,
          0.3500156173527403,
          0.24012288144172136,
          0.304276075351298,
          0.46289927630799477,
          0.3791770673430172,
          0.31765356303019415
         ],
         "xaxis": "x",
         "y": [
          0.023461558692460804,
          -0.2312267900438848,
          -0.3699408819067008,
          -0.2683751445024959,
          0.24012791023650437,
          0.2630216428602379,
          -0.18415995738174107,
          0.3815332954664671,
          -0.3544113456688429,
          -0.41390667005688375,
          0.008767590009945092,
          0.3806013931846922,
          0.037315513790605714,
          -0.30534219954099884,
          0.053906760580267,
          0.13017024590338933,
          0.2539555617531444,
          0.2640305489213439,
          0.17256936127436584,
          -0.1620474717418513,
          0.17012329134920212,
          -0.287321093036634,
          0.0715892214760907,
          -0.9390753785045056,
          -0.14615066906641938,
          0.208269045005275,
          -0.14324704782798714,
          -0.359119673958482,
          0.08018930961979642,
          -0.6552486664455165,
          0.008565238442914014,
          0.20158430437177033,
          0.10249426237297932,
          -0.22528493650600334,
          -0.5822844392149344,
          -0.06758370261824143,
          -0.4070734718130625,
          0.06953632677368116,
          -0.311337716114953,
          0.6985188956895854,
          0.107090503474221,
          -0.07267358553027348,
          -0.4431608774172221,
          -0.33353987612994995,
          0.11658278359897256,
          0.17281179646521283,
          -0.37832427871645813,
          -0.07030528968195482,
          -0.08166271405279413,
          -0.1357728506296133,
          0.21868152278041342,
          -0.054180797986674634,
          0.23107185688531884,
          0.021372660562183565,
          -0.25791716126342135,
          -0.5011563097903161,
          -0.46941426754042725,
          -0.2999947808409662,
          -0.09555417988721893,
          0.07193400327565924,
          -0.11925515205945203,
          null,
          0.14044101892738814,
          0.23743536507565788,
          -0.47546986073339437,
          -0.17066602243043238,
          -0.1098994269530934,
          0.2919488659328693,
          -0.15737978339432646,
          0.20071516275706125,
          -0.23624231229080417,
          null,
          -0.12847849547585144,
          0.10728936539804723,
          -0.02392675299639746,
          -0.48287369394689983,
          -0.2396754846635336,
          0.1944785787586143,
          0.4591319288198241,
          -0.16913913098342614,
          0.22515475022815046,
          0.18399152868982516,
          0.008643129870186894,
          -0.2868617837013443,
          -0.3426593856558555,
          -0.6764510853982907,
          -0.3296776583254354,
          -0.04881237390711546,
          -0.07822359704746162,
          -0.38957817517929905,
          0.8725087520344791,
          0.3254065874471529,
          -0.12085521747870731,
          -0.19022129224731843,
          -0.08476132840584483,
          -0.5621912648355636,
          0.3980457596138075,
          -0.021827594706413156,
          -0.026854911943603565,
          -0.13691043033187478,
          -0.1784398619228038,
          -0.3014230740783326,
          -0.2155606874609265,
          -0.11515826496866022,
          0.1648207179182669,
          0.03376337093017234,
          0.04494343025054559,
          0.13218268669239552,
          -0.3571698298061986,
          -0.18489937665476386,
          0.6106966265153965,
          -0.15995284182369385,
          0.3211634043632394,
          -0.13060021073206307,
          -0.39213708232643374,
          -0.4053740862579134,
          -0.5445026748980974,
          -0.20758468043861422,
          0.07590091352246253,
          -0.1274103790904605,
          0.11018248656853691,
          -0.8666594004575437,
          0.428474936565704,
          -0.3734822451716654,
          0.27569182486717236,
          -0.053664872012981535,
          0.4982705644563007,
          -0.5650725340211853,
          -0.18137827515678973,
          -0.09869987307344208,
          -0.0877788032848078,
          0.27706263357631533,
          -0.09242682902295862,
          0.10767439768417741,
          0.001014963922293055,
          -0.05890845334520689,
          -0.11320959656431395,
          -0.5206616798045894,
          -0.46033304415002574,
          0.08613910705867545,
          -0.22021746781166374,
          -0.026153530845194783,
          -0.3973238639929989,
          0.020255889542709515,
          0.03969784830676859,
          0.05695198629343634,
          -0.32821265972569846,
          0.5229383776243336,
          -0.09225410389564248,
          0.007170190953038946,
          -0.059925105808009915,
          -0.38497587787751786,
          -0.3828818907722019,
          0.17157952538251298,
          -0.295885514573455,
          0.25848839377039023,
          0.02103758827479718,
          -0.3021619128640831,
          0.1466866488133628,
          -0.29027909888905523,
          0.10479594888282573,
          0.6218198704465594,
          0.5249823851787756,
          -0.2750979247290487,
          -0.1626614383080921,
          -0.36215466528162543,
          0.6208105518728119,
          -0.00279953410299838,
          -0.4434201492100185,
          -0.01117435494530239,
          0.076040872149845,
          -0.26630208937211486,
          -0.016589392641179312,
          -0.46240841989287595,
          0.12487654247688774,
          -0.16876466397214052,
          -0.610832908601338,
          -0.3074063551544153,
          -0.47479649354245645,
          0.3762640853661837,
          -0.2050280935274592,
          0.07300127228966291,
          -0.12003673381152513,
          -0.2862291569443539,
          0.08227013793789095,
          -0.45570752671612147,
          -0.016783336615131206,
          0.4207375775187988,
          -0.38529103917143426,
          -0.2081482164118117,
          -0.17021562575614935,
          0.1840885335293696,
          -0.1453898249743385,
          -0.15036493908186477,
          -0.22050713778967046,
          0.6573391840689414,
          -0.16178543269772006,
          -0.08720681497718641,
          0.22877673571125456,
          -0.07330187668723076,
          -0.6404668689231119,
          -0.12554173990102557,
          0.2438443275940364,
          0.27449297574743237,
          0.2771289031282851,
          -0.07165318577748969,
          -0.49702271423280914,
          -0.9891210100978232,
          -0.416604613406411,
          -0.42216041608949595,
          0.2836962370974595,
          -0.26719491654527683,
          -0.2913392158169281,
          -0.07197047110365196,
          0.13960128652792625,
          0.639144445442423,
          -0.42288644949555587,
          -0.01262024495949654,
          0.04348244222191222,
          -0.18379317652341676,
          0.7263045143249903,
          0.14249009613615227,
          0.2730882851539258,
          -0.13008646327372486,
          0.05926468339804836,
          0.08707312044743531,
          0.08008767674678174,
          -0.22813052028576675,
          -0.03173715560845369,
          0.06423052940139329,
          0.015338504625452607,
          0.22129140184343288,
          0.15736072929906808,
          0.2566341036710119,
          0.11146124822688896,
          -0.21284789172462193,
          -0.34495855633099926,
          0.03490869058011059,
          -0.26945031995629987,
          -0.4801682248407828,
          0.1173557620647816,
          -0.5877926466537414,
          -0.3632934093960529,
          -0.3481396158212652,
          -0.21476531403032184,
          -0.02787359207018203,
          -0.22160678647846177,
          -0.07127114321232675,
          0.07999653447215083,
          -0.20816286947151097,
          0.10707161139534704,
          -0.04133573209464425,
          -0.12429891721043307,
          -0.10099793082174824,
          -0.07848546693495961,
          -0.13770849763120263,
          0.06517335974150817,
          0.07027222238025499,
          -0.02912425572831845,
          -0.11209976793170173,
          0.15478859050103122,
          0.013943803754518425,
          -0.20153125185631326,
          -0.11441688294463859,
          0.19272272916818778,
          -0.06479072042614153,
          -0.012016681242921212,
          0.011224185955575061,
          0.19909988783234833,
          -0.5959137811723784,
          0.11865935826962093,
          0.0606535615678615,
          0.035335614356917566,
          0.19821841441136212,
          -0.09894976736770733,
          -0.1854873333082926,
          0.04811237792217504,
          0.021023478582370192,
          -0.013705133686968685,
          0.3476551598776001,
          0.37753483967500545,
          -0.6100391147934016,
          -0.03737021983274258,
          -0.17506263724444582,
          -0.38521279688349686,
          -0.19752617232119185,
          0.37283920152845085,
          0.3916834157215353,
          0.03887806327655652,
          -0.4539870240473498,
          -0.007374514628075146,
          -0.30285756041921774,
          -0.021400851660125952,
          -0.3122827349696682,
          0.022569203497859736,
          -0.10136764599548531,
          0.4483498902979355,
          -0.24994167485632882,
          0.0552507861687076,
          -0.2491567649746542,
          0.1957389687225497,
          -0.8155594273550975,
          -0.18834467823607337,
          -0.47986218334899555,
          -0.0932347963930763,
          -0.2700875487070742,
          -0.20168702707526864,
          0.03581963919809361,
          -0.3145915399677328,
          0.09411210523775693,
          0.06200475499183733,
          0.08539020727738345,
          0.2441081448489152,
          0.6637646123674443,
          -0.14212891119183435,
          0.41856051413586215,
          -0.013693880412241954,
          0.6208376967908055,
          -0.078225988548839,
          -0.15951800072497524,
          -0.26212595623053636,
          0.02249846692295776,
          0.0034884905117965603,
          -0.9728744556844698,
          -0.0791027929283028,
          -0.5306948992436349,
          -0.31623711690439915,
          -0.04536514743121789,
          -0.009094281332637899,
          -0.023066997587547933,
          -0.14311989420508964,
          -0.4399451657153032,
          0.06105507242599961,
          -0.24201057588834252,
          0.4110516406795166,
          -0.33049229980949946,
          -0.19798402234052592,
          -0.10935519122545156,
          -0.34670477136063205,
          -0.22194865798333652,
          0.2801174741136939,
          -0.5238690996283774,
          -0.1571957964372237,
          -0.3882106965125329,
          -0.13866925425917487,
          -0.1484998563113834,
          -0.2558902054009129,
          -0.046525454866751415,
          -0.10678139513863616,
          -0.0224383198512772,
          0.21079535971445218,
          0.19119990075364157,
          0.06774901957179402,
          -0.009545590225528922,
          0.2364209227212094,
          -0.039279553178947046,
          0.8638073742009231,
          -0.14647047055400464,
          -0.44758124625316953,
          -0.12491137789825311,
          -0.08587589243546168,
          0.18862518351396163,
          0.34968146162313374,
          -0.28586880917953594,
          -0.015335825472815978,
          0.08871679624056705,
          -0.03324156897627639,
          0.21927632530665797,
          -0.023599318297432115,
          0.27676243604367723,
          -0.016829155947147845,
          -0.09909463414777164,
          0.02924349007262761,
          -0.2962046458689085,
          0.1394053169428935,
          -0.1977280873641768,
          -0.3845445143357271,
          0.16379246814381843,
          0.21983304849726937,
          -0.49463293190539936,
          -0.22442174961934225,
          0.028250429984423397,
          -0.012138981474212884,
          -0.15938044442664678,
          0.4346361330138917,
          0.05039013057150943,
          0.31604894069315825,
          0.3852672423543091,
          -0.8300333962252897,
          -0.3965657550454884,
          -0.45612150092724923,
          -0.2650226028327294,
          -0.11291737270899993,
          0.19457383860171595,
          0.04830439843416878,
          -0.30896336701209715,
          0.10974209097979426,
          -0.004401360149062783,
          -0.15814692739580627,
          -0.18923454444849797,
          0.13925169211845956,
          -0.055685464226784,
          0.14355268990374326,
          -0.00960581173141939,
          0.2054427480962061,
          -0.24219877587220362,
          -0.24144806295444232,
          -0.07544452508441357,
          0.046948397127464014,
          0.25006798514171524,
          -0.2181978770436468,
          -0.28527215185365873,
          0.2035432451430519,
          0.6590982501965154,
          0.12878811990249583,
          -0.03474435964207245,
          0.11092667185784078,
          -0.1974427969304534,
          -0.2645805524930389,
          0.2449538745121541,
          -0.2097678978801073,
          0.5794156371868454,
          -0.082828678320223,
          -0.6335728862441489,
          -0.046597372819964344,
          -0.7805594520876532,
          -0.44721184122669067,
          -0.23819319850829612,
          -0.031974758679768844,
          0.03284799115994186,
          0.06637129823101051,
          0.1537735649322357,
          0.06818299925281968,
          -0.05640195889124122,
          -0.2986523976707547,
          -0.2663202261133769,
          -0.4967581578871795,
          -0.24780498748990654,
          -0.227053052675957,
          -0.3086020198984494,
          0.1241615061308181,
          -0.10473296675597599,
          0.24443537511993862,
          0.07963344826806251,
          0.4281712932584023,
          -0.4498735599704188,
          -0.44892740489736094,
          0.23249907163071493,
          0.03453483222498521,
          -0.9618745436236226,
          -0.283902053657625,
          -0.08430602414351995,
          -0.44187840664760647,
          -0.06411643501308695,
          -0.018633857828723843,
          -0.3995895248174234,
          -0.0400392097709964,
          -0.3670135044961418,
          0.1496610618989188,
          0.19393527360047746,
          0.0962159032316432,
          -0.12286892648907889,
          -0.12351312897860456,
          0.1566338222231891,
          -0.1896851496047206,
          -0.009278410773171708,
          -0.8334600252857575,
          0.16293118525260708,
          0.6331378348518599,
          -0.11470484255706237,
          -0.18231665172629896,
          -0.14459536718923283,
          0.3106000493005785,
          -0.05704797594701516,
          -0.10833101290006919,
          -0.20694220974217004,
          0.1368745283911058,
          -0.006105190264487859,
          -0.26019593285385423,
          -0.7838744310473607,
          -0.6239063430924146,
          0.032018529155177,
          -0.19606137201524831,
          -0.12695188734837348,
          -0.3796963845701229,
          0.002173508108301525,
          0.30770730307044203,
          0.03167190202388337,
          0.3369407465450155,
          -0.138844642632028,
          -0.5471544849010962,
          0.08310045800186505,
          -0.16603367320830442,
          0.10462947244815501,
          0.08493815714869057,
          0.6517501614148573,
          -0.49876433219164645,
          0.01862302157533513,
          -0.01607818452448251,
          0.07124402113401251,
          -0.7133804064234708,
          -0.16848922263267618,
          -0.4097058234817068
         ],
         "yaxis": "y"
        },
        {
         "line": {
          "color": "gray",
          "dash": "dash",
          "width": 2
         },
         "mode": "lines",
         "name": "Zero Return Line",
         "type": "scatter",
         "x": [
          0.17371082480862501,
          0.8441854518267996
         ],
         "y": [
          0,
          0
         ]
        }
       ],
       "layout": {
        "hoverlabel": {
         "bgcolor": "white",
         "font": {
          "family": "Rockwell",
          "size": 16
         }
        },
        "legend": {
         "tracegroupgap": 0
        },
        "margin": {
         "t": 60
        },
        "template": {
         "data": {
          "bar": [
           {
            "error_x": {
             "color": "#2a3f5f"
            },
            "error_y": {
             "color": "#2a3f5f"
            },
            "marker": {
             "line": {
              "color": "#E5ECF6",
              "width": 0.5
             },
             "pattern": {
              "fillmode": "overlay",
              "size": 10,
              "solidity": 0.2
             }
            },
            "type": "bar"
           }
          ],
          "barpolar": [
           {
            "marker": {
             "line": {
              "color": "#E5ECF6",
              "width": 0.5
             },
             "pattern": {
              "fillmode": "overlay",
              "size": 10,
              "solidity": 0.2
             }
            },
            "type": "barpolar"
           }
          ],
          "carpet": [
           {
            "aaxis": {
             "endlinecolor": "#2a3f5f",
             "gridcolor": "white",
             "linecolor": "white",
             "minorgridcolor": "white",
             "startlinecolor": "#2a3f5f"
            },
            "baxis": {
             "endlinecolor": "#2a3f5f",
             "gridcolor": "white",
             "linecolor": "white",
             "minorgridcolor": "white",
             "startlinecolor": "#2a3f5f"
            },
            "type": "carpet"
           }
          ],
          "choropleth": [
           {
            "colorbar": {
             "outlinewidth": 0,
             "ticks": ""
            },
            "type": "choropleth"
           }
          ],
          "contour": [
           {
            "colorbar": {
             "outlinewidth": 0,
             "ticks": ""
            },
            "colorscale": [
             [
              0,
              "#0d0887"
             ],
             [
              0.1111111111111111,
              "#46039f"
             ],
             [
              0.2222222222222222,
              "#7201a8"
             ],
             [
              0.3333333333333333,
              "#9c179e"
             ],
             [
              0.4444444444444444,
              "#bd3786"
             ],
             [
              0.5555555555555556,
              "#d8576b"
             ],
             [
              0.6666666666666666,
              "#ed7953"
             ],
             [
              0.7777777777777778,
              "#fb9f3a"
             ],
             [
              0.8888888888888888,
              "#fdca26"
             ],
             [
              1,
              "#f0f921"
             ]
            ],
            "type": "contour"
           }
          ],
          "contourcarpet": [
           {
            "colorbar": {
             "outlinewidth": 0,
             "ticks": ""
            },
            "type": "contourcarpet"
           }
          ],
          "heatmap": [
           {
            "colorbar": {
             "outlinewidth": 0,
             "ticks": ""
            },
            "colorscale": [
             [
              0,
              "#0d0887"
             ],
             [
              0.1111111111111111,
              "#46039f"
             ],
             [
              0.2222222222222222,
              "#7201a8"
             ],
             [
              0.3333333333333333,
              "#9c179e"
             ],
             [
              0.4444444444444444,
              "#bd3786"
             ],
             [
              0.5555555555555556,
              "#d8576b"
             ],
             [
              0.6666666666666666,
              "#ed7953"
             ],
             [
              0.7777777777777778,
              "#fb9f3a"
             ],
             [
              0.8888888888888888,
              "#fdca26"
             ],
             [
              1,
              "#f0f921"
             ]
            ],
            "type": "heatmap"
           }
          ],
          "heatmapgl": [
           {
            "colorbar": {
             "outlinewidth": 0,
             "ticks": ""
            },
            "colorscale": [
             [
              0,
              "#0d0887"
             ],
             [
              0.1111111111111111,
              "#46039f"
             ],
             [
              0.2222222222222222,
              "#7201a8"
             ],
             [
              0.3333333333333333,
              "#9c179e"
             ],
             [
              0.4444444444444444,
              "#bd3786"
             ],
             [
              0.5555555555555556,
              "#d8576b"
             ],
             [
              0.6666666666666666,
              "#ed7953"
             ],
             [
              0.7777777777777778,
              "#fb9f3a"
             ],
             [
              0.8888888888888888,
              "#fdca26"
             ],
             [
              1,
              "#f0f921"
             ]
            ],
            "type": "heatmapgl"
           }
          ],
          "histogram": [
           {
            "marker": {
             "pattern": {
              "fillmode": "overlay",
              "size": 10,
              "solidity": 0.2
             }
            },
            "type": "histogram"
           }
          ],
          "histogram2d": [
           {
            "colorbar": {
             "outlinewidth": 0,
             "ticks": ""
            },
            "colorscale": [
             [
              0,
              "#0d0887"
             ],
             [
              0.1111111111111111,
              "#46039f"
             ],
             [
              0.2222222222222222,
              "#7201a8"
             ],
             [
              0.3333333333333333,
              "#9c179e"
             ],
             [
              0.4444444444444444,
              "#bd3786"
             ],
             [
              0.5555555555555556,
              "#d8576b"
             ],
             [
              0.6666666666666666,
              "#ed7953"
             ],
             [
              0.7777777777777778,
              "#fb9f3a"
             ],
             [
              0.8888888888888888,
              "#fdca26"
             ],
             [
              1,
              "#f0f921"
             ]
            ],
            "type": "histogram2d"
           }
          ],
          "histogram2dcontour": [
           {
            "colorbar": {
             "outlinewidth": 0,
             "ticks": ""
            },
            "colorscale": [
             [
              0,
              "#0d0887"
             ],
             [
              0.1111111111111111,
              "#46039f"
             ],
             [
              0.2222222222222222,
              "#7201a8"
             ],
             [
              0.3333333333333333,
              "#9c179e"
             ],
             [
              0.4444444444444444,
              "#bd3786"
             ],
             [
              0.5555555555555556,
              "#d8576b"
             ],
             [
              0.6666666666666666,
              "#ed7953"
             ],
             [
              0.7777777777777778,
              "#fb9f3a"
             ],
             [
              0.8888888888888888,
              "#fdca26"
             ],
             [
              1,
              "#f0f921"
             ]
            ],
            "type": "histogram2dcontour"
           }
          ],
          "mesh3d": [
           {
            "colorbar": {
             "outlinewidth": 0,
             "ticks": ""
            },
            "type": "mesh3d"
           }
          ],
          "parcoords": [
           {
            "line": {
             "colorbar": {
              "outlinewidth": 0,
              "ticks": ""
             }
            },
            "type": "parcoords"
           }
          ],
          "pie": [
           {
            "automargin": true,
            "type": "pie"
           }
          ],
          "scatter": [
           {
            "fillpattern": {
             "fillmode": "overlay",
             "size": 10,
             "solidity": 0.2
            },
            "type": "scatter"
           }
          ],
          "scatter3d": [
           {
            "line": {
             "colorbar": {
              "outlinewidth": 0,
              "ticks": ""
             }
            },
            "marker": {
             "colorbar": {
              "outlinewidth": 0,
              "ticks": ""
             }
            },
            "type": "scatter3d"
           }
          ],
          "scattercarpet": [
           {
            "marker": {
             "colorbar": {
              "outlinewidth": 0,
              "ticks": ""
             }
            },
            "type": "scattercarpet"
           }
          ],
          "scattergeo": [
           {
            "marker": {
             "colorbar": {
              "outlinewidth": 0,
              "ticks": ""
             }
            },
            "type": "scattergeo"
           }
          ],
          "scattergl": [
           {
            "marker": {
             "colorbar": {
              "outlinewidth": 0,
              "ticks": ""
             }
            },
            "type": "scattergl"
           }
          ],
          "scattermapbox": [
           {
            "marker": {
             "colorbar": {
              "outlinewidth": 0,
              "ticks": ""
             }
            },
            "type": "scattermapbox"
           }
          ],
          "scatterpolar": [
           {
            "marker": {
             "colorbar": {
              "outlinewidth": 0,
              "ticks": ""
             }
            },
            "type": "scatterpolar"
           }
          ],
          "scatterpolargl": [
           {
            "marker": {
             "colorbar": {
              "outlinewidth": 0,
              "ticks": ""
             }
            },
            "type": "scatterpolargl"
           }
          ],
          "scatterternary": [
           {
            "marker": {
             "colorbar": {
              "outlinewidth": 0,
              "ticks": ""
             }
            },
            "type": "scatterternary"
           }
          ],
          "surface": [
           {
            "colorbar": {
             "outlinewidth": 0,
             "ticks": ""
            },
            "colorscale": [
             [
              0,
              "#0d0887"
             ],
             [
              0.1111111111111111,
              "#46039f"
             ],
             [
              0.2222222222222222,
              "#7201a8"
             ],
             [
              0.3333333333333333,
              "#9c179e"
             ],
             [
              0.4444444444444444,
              "#bd3786"
             ],
             [
              0.5555555555555556,
              "#d8576b"
             ],
             [
              0.6666666666666666,
              "#ed7953"
             ],
             [
              0.7777777777777778,
              "#fb9f3a"
             ],
             [
              0.8888888888888888,
              "#fdca26"
             ],
             [
              1,
              "#f0f921"
             ]
            ],
            "type": "surface"
           }
          ],
          "table": [
           {
            "cells": {
             "fill": {
              "color": "#EBF0F8"
             },
             "line": {
              "color": "white"
             }
            },
            "header": {
             "fill": {
              "color": "#C8D4E3"
             },
             "line": {
              "color": "white"
             }
            },
            "type": "table"
           }
          ]
         },
         "layout": {
          "annotationdefaults": {
           "arrowcolor": "#2a3f5f",
           "arrowhead": 0,
           "arrowwidth": 1
          },
          "autotypenumbers": "strict",
          "coloraxis": {
           "colorbar": {
            "outlinewidth": 0,
            "ticks": ""
           }
          },
          "colorscale": {
           "diverging": [
            [
             0,
             "#8e0152"
            ],
            [
             0.1,
             "#c51b7d"
            ],
            [
             0.2,
             "#de77ae"
            ],
            [
             0.3,
             "#f1b6da"
            ],
            [
             0.4,
             "#fde0ef"
            ],
            [
             0.5,
             "#f7f7f7"
            ],
            [
             0.6,
             "#e6f5d0"
            ],
            [
             0.7,
             "#b8e186"
            ],
            [
             0.8,
             "#7fbc41"
            ],
            [
             0.9,
             "#4d9221"
            ],
            [
             1,
             "#276419"
            ]
           ],
           "sequential": [
            [
             0,
             "#0d0887"
            ],
            [
             0.1111111111111111,
             "#46039f"
            ],
            [
             0.2222222222222222,
             "#7201a8"
            ],
            [
             0.3333333333333333,
             "#9c179e"
            ],
            [
             0.4444444444444444,
             "#bd3786"
            ],
            [
             0.5555555555555556,
             "#d8576b"
            ],
            [
             0.6666666666666666,
             "#ed7953"
            ],
            [
             0.7777777777777778,
             "#fb9f3a"
            ],
            [
             0.8888888888888888,
             "#fdca26"
            ],
            [
             1,
             "#f0f921"
            ]
           ],
           "sequentialminus": [
            [
             0,
             "#0d0887"
            ],
            [
             0.1111111111111111,
             "#46039f"
            ],
            [
             0.2222222222222222,
             "#7201a8"
            ],
            [
             0.3333333333333333,
             "#9c179e"
            ],
            [
             0.4444444444444444,
             "#bd3786"
            ],
            [
             0.5555555555555556,
             "#d8576b"
            ],
            [
             0.6666666666666666,
             "#ed7953"
            ],
            [
             0.7777777777777778,
             "#fb9f3a"
            ],
            [
             0.8888888888888888,
             "#fdca26"
            ],
            [
             1,
             "#f0f921"
            ]
           ]
          },
          "colorway": [
           "#636efa",
           "#EF553B",
           "#00cc96",
           "#ab63fa",
           "#FFA15A",
           "#19d3f3",
           "#FF6692",
           "#B6E880",
           "#FF97FF",
           "#FECB52"
          ],
          "font": {
           "color": "#2a3f5f"
          },
          "geo": {
           "bgcolor": "white",
           "lakecolor": "white",
           "landcolor": "#E5ECF6",
           "showlakes": true,
           "showland": true,
           "subunitcolor": "white"
          },
          "hoverlabel": {
           "align": "left"
          },
          "hovermode": "closest",
          "mapbox": {
           "style": "light"
          },
          "paper_bgcolor": "white",
          "plot_bgcolor": "#E5ECF6",
          "polar": {
           "angularaxis": {
            "gridcolor": "white",
            "linecolor": "white",
            "ticks": ""
           },
           "bgcolor": "#E5ECF6",
           "radialaxis": {
            "gridcolor": "white",
            "linecolor": "white",
            "ticks": ""
           }
          },
          "scene": {
           "xaxis": {
            "backgroundcolor": "#E5ECF6",
            "gridcolor": "white",
            "gridwidth": 2,
            "linecolor": "white",
            "showbackground": true,
            "ticks": "",
            "zerolinecolor": "white"
           },
           "yaxis": {
            "backgroundcolor": "#E5ECF6",
            "gridcolor": "white",
            "gridwidth": 2,
            "linecolor": "white",
            "showbackground": true,
            "ticks": "",
            "zerolinecolor": "white"
           },
           "zaxis": {
            "backgroundcolor": "#E5ECF6",
            "gridcolor": "white",
            "gridwidth": 2,
            "linecolor": "white",
            "showbackground": true,
            "ticks": "",
            "zerolinecolor": "white"
           }
          },
          "shapedefaults": {
           "line": {
            "color": "#2a3f5f"
           }
          },
          "ternary": {
           "aaxis": {
            "gridcolor": "white",
            "linecolor": "white",
            "ticks": ""
           },
           "baxis": {
            "gridcolor": "white",
            "linecolor": "white",
            "ticks": ""
           },
           "bgcolor": "#E5ECF6",
           "caxis": {
            "gridcolor": "white",
            "linecolor": "white",
            "ticks": ""
           }
          },
          "title": {
           "x": 0.05
          },
          "xaxis": {
           "automargin": true,
           "gridcolor": "white",
           "linecolor": "white",
           "ticks": "",
           "title": {
            "standoff": 15
           },
           "zerolinecolor": "white",
           "zerolinewidth": 2
          },
          "yaxis": {
           "automargin": true,
           "gridcolor": "white",
           "linecolor": "white",
           "ticks": "",
           "title": {
            "standoff": 15
           },
           "zerolinecolor": "white",
           "zerolinewidth": 2
          }
         }
        },
        "title": {
         "text": "Risk vs Return"
        },
        "xaxis": {
         "anchor": "y",
         "domain": [
          0,
          1
         ],
         "gridcolor": "gray",
         "gridwidth": 0.5,
         "title": {
          "text": "Risk (Standard Deviation)"
         }
        },
        "yaxis": {
         "anchor": "x",
         "domain": [
          0,
          1
         ],
         "gridcolor": "gray",
         "gridwidth": 0.5,
         "title": {
          "text": "Expected Return"
         }
        }
       }
      }
     },
     "metadata": {},
     "output_type": "display_data"
    }
   ],
   "source": [
    "import plotly.express as px\n",
    "import plotly.graph_objects as go\n",
    "\n",
    "fig = px.scatter(stock_df, x='Risk', y='Return', hover_data=['Ticker'])\n",
    "\n",
    "fig.add_trace(\n",
    "    go.Scatter(\n",
    "        x=[min(stock_df['Risk']), max(stock_df['Risk'])],\n",
    "        y=[0, 0],\n",
    "        mode='lines',\n",
    "        line=dict(color='gray', width=2, dash='dash'),\n",
    "        name='Zero Return Line'\n",
    "    )\n",
    ")\n",
    "\n",
    "fig.update_layout(\n",
    "    title='Risk vs Return',\n",
    "    xaxis=dict(\n",
    "        title='Risk (Standard Deviation)',\n",
    "        gridcolor='gray',\n",
    "        gridwidth=0.5\n",
    "    ),\n",
    "    yaxis=dict(\n",
    "        title='Expected Return',\n",
    "        gridcolor='gray',\n",
    "        gridwidth=0.5\n",
    "    ),\n",
    "    hoverlabel=dict(\n",
    "        bgcolor='white',\n",
    "        font=dict(\n",
    "            size=16,\n",
    "            family='Rockwell'\n",
    "        )\n",
    "    )\n",
    ")\n",
    "fig.show()"
   ]
  },
  {
   "cell_type": "code",
   "execution_count": 238,
   "metadata": {},
   "outputs": [],
   "source": [
    "def lagrangian_optimisation(returns, target_return=None):\n",
    "    returns = np.nan_to_num(returns, nan=0.0)\n",
    "    \n",
    "    pca = PCA()\n",
    "    pca.fit(returns)\n",
    "    \n",
    "    threshold = 1e-3\n",
    "    components_to_keep = pca.explained_variance_ > threshold\n",
    "    returns_transformed = pca.transform(returns)[:, components_to_keep]\n",
    "    \n",
    "    cov_matrix_transformed = np.cov(returns_transformed, rowvar=False)\n",
    "    Mu_transformed = returns_transformed.mean(axis=0)\n",
    "    \n",
    "    inv_cov_matrix_transformed = inv(cov_matrix_transformed)\n",
    "    iota = np.ones(Mu_transformed.shape[0])\n",
    "    \n",
    "    if target_return is not None:\n",
    "        A = Mu_transformed.T @ inv_cov_matrix_transformed @ Mu_transformed\n",
    "        B = Mu_transformed.T @ inv_cov_matrix_transformed @ iota\n",
    "        C = iota.T @ inv_cov_matrix_transformed @ iota\n",
    "        l1 = (C * target_return - B) / (A * C - B ** 2)\n",
    "        l2 = (A - B * target_return) / (A * C - B ** 2)\n",
    "        \n",
    "        w_target = l1 * inv_cov_matrix_transformed @ Mu_transformed + l2 * inv_cov_matrix_transformed @ iota\n",
    "        return w_target, returns_transformed\n",
    "    else:\n",
    "        l = (1/(iota.T @ inv_cov_matrix_transformed @ iota))\n",
    "        w_min = l * inv_cov_matrix_transformed @ iota \n",
    "        return w_min, returns_transformed"
   ]
  },
  {
   "cell_type": "code",
   "execution_count": 241,
   "metadata": {},
   "outputs": [],
   "source": [
    "def plot_efficient_frontier(returns):\n",
    "    portfolio_risks = []\n",
    "    portfolio_returns = []\n",
    "    \n",
    "    min_possible_return = np.min(returns.mean(axis=0))\n",
    "    max_possible_return = np.max(returns.mean(axis=0))\n",
    "    target_returns = np.linspace(min_possible_return, max_possible_return, 100)\n",
    "    \n",
    "    for target in target_returns:\n",
    "        w_target, returns_transformed = lagrangian_optimisation(returns, target)\n",
    "        \n",
    "        portfolio_return = np.dot(w_target, returns_transformed.mean(axis=0))\n",
    "        portfolio_risk = np.sqrt(w_target.T @ np.cov(returns_transformed, rowvar=False) @ w_target)\n",
    "        \n",
    "        portfolio_risks.append(portfolio_risk)\n",
    "        portfolio_returns.append(portfolio_return)\n",
    "\n",
    "    plt.figure(figsize=(10, 6))\n",
    "    plt.scatter(portfolio_risks, portfolio_returns, c=portfolio_returns, cmap='viridis')\n",
    "    plt.colorbar(label='Expected Return')\n",
    "    plt.xlabel('Portfolio Risk (Standard Deviation)')\n",
    "    plt.ylabel('Portfolio Expected Return')\n",
    "    plt.title('Efficient Frontier')\n",
    "    plt.grid(True)\n",
    "    plt.show()"
   ]
  },
  {
   "cell_type": "code",
   "execution_count": null,
   "metadata": {},
   "outputs": [],
   "source": [
    "plot_efficient_frontier(returns)"
   ]
  },
  {
   "cell_type": "code",
   "execution_count": 243,
   "metadata": {},
   "outputs": [],
   "source": [
    "def mvef(Covariance, Mu, Npoints):\n",
    "    Nu = len(Mu)\n",
    "    Iota = np.ones(Nu)\n",
    "    \n",
    "    # Initialize risk and returns\n",
    "    epsilon = 0.0001\n",
    "    mu_min = np.min(Mu) + epsilon * (np.mean(Mu) - np.min(Mu))\n",
    "    mu_max = np.max(Mu) - epsilon * (np.max(Mu) - np.mean(Mu))\n",
    "    mu_p = np.linspace(mu_min, mu_max, Npoints)\n",
    "    sigma_p = np.zeros(Npoints)\n",
    "    w = np.zeros((Nu, Npoints))\n",
    "    \n",
    "    # Defining the objective function\n",
    "    def objective(weights): \n",
    "        return weights @ Covariance @ weights\n",
    "    \n",
    "    # Constraints\n",
    "    def constraint1(weights):\n",
    "        return np.sum(weights) - 1\n",
    "    \n",
    "    def constraint2(weights, target_return):\n",
    "        return Mu @ weights - target_return\n",
    "    \n",
    "    # Initial guess\n",
    "    init_guess = np.repeat(1/Nu, Nu)\n",
    "    \n",
    "    # Run optimization\n",
    "    for k, target_return in enumerate(mu_p):\n",
    "        cons = ({'type': 'eq', 'fun': constraint1},\n",
    "                {'type': 'eq', 'fun': lambda weights: constraint2(weights, target_return)})\n",
    "        \n",
    "        bounds = [(0, 1) for asset in range(Nu)]\n",
    "        \n",
    "        result = minimize(objective, init_guess, method='SLSQP', bounds=bounds, constraints=cons)\n",
    "        w[:, k] = result.x\n",
    "        sigma_p[k] = np.sqrt(result.fun)\n",
    "        \n",
    "    return pd.DataFrame({'sigma_p': sigma_p, 'mu_p': mu_p})"
   ]
  },
  {
   "cell_type": "code",
   "execution_count": 244,
   "metadata": {},
   "outputs": [],
   "source": [
    "def mvmc(Covariance, Mu, Npoints):\n",
    "    Freq = 12  # Monthly returns\n",
    "    Years = 18  # 18-year simulation period\n",
    "    epsilon = 0.0001  # Nudge factor for endpoint rounding\n",
    "    Nu = len(Mu)\n",
    "    \n",
    "    # Monte Carlo simulated returns with multivariate distribution\n",
    "    Nt = Years * Freq\n",
    "    HalfCovariance = np.linalg.cholesky(Covariance)\n",
    "    \n",
    "    r_sim = np.random.normal(size=(Nt, Nu)) @ HalfCovariance / np.sqrt(Freq) + Mu / Freq\n",
    "\n",
    "    # Estimate sample means and covariances\n",
    "    Mu_sim = np.mean(r_sim, axis=0) * Freq\n",
    "    Covariance_sim = np.cov(r_sim, rowvar=False) * Freq\n",
    "    \n",
    "    # Initialize risk and returns\n",
    "    mu_min = np.min(Mu_sim) + epsilon * (np.mean(Mu_sim) - np.min(Mu_sim))\n",
    "    mu_max = np.max(Mu_sim) - epsilon * (np.max(Mu_sim) - np.mean(Mu_sim))\n",
    "    mu_sample = np.linspace(mu_min, mu_max, Npoints)\n",
    "    \n",
    "    sigma_sim = np.zeros(Npoints)\n",
    "    w_sim = np.zeros((Nu, Npoints))\n",
    "    \n",
    "    # Define the objective function (negative because scipy minimizes)\n",
    "    def objective(weights): \n",
    "        return weights @ Covariance_sim @ weights\n",
    "    \n",
    "    # Constraints\n",
    "    def constraint1(weights):\n",
    "        return np.sum(weights) - 1\n",
    "    \n",
    "    def constraint2(weights, target_return):\n",
    "        return Mu_sim @ weights - target_return\n",
    "    \n",
    "    # Initial guess\n",
    "    init_guess = np.repeat(1/Nu, Nu)\n",
    "    \n",
    "    # Run optimization\n",
    "    for k, target_return in enumerate(mu_sample):\n",
    "        cons = ({'type': 'eq', 'fun': constraint1},\n",
    "                {'type': 'eq', 'fun': lambda weights: constraint2(weights, target_return)})\n",
    "        \n",
    "        bounds = [(0, 1) for asset in range(Nu)]\n",
    "        \n",
    "        result = minimize(objective, init_guess, method='SLSQP', bounds=bounds, constraints=cons)\n",
    "        w_sim[:, k] = result.x\n",
    "        sigma_sim[k] = np.sqrt(result.fun)\n",
    "    \n",
    "    mu_p = np.sum(w_sim.T * Mu, axis=1)\n",
    "    sigma_p = np.sqrt(np.sum((w_sim.T @ Covariance) * w_sim.T, axis=1))\n",
    "\n",
    "    return pd.DataFrame({'mu_p': mu_p, 'sigma_p': sigma_p})"
   ]
  },
  {
   "cell_type": "code",
   "execution_count": 169,
   "metadata": {},
   "outputs": [],
   "source": [
    "def plot_efficient_frontier(df, dashed=False):\n",
    "    if dashed:\n",
    "        sns.lineplot(x='sigma_p', y='mu_p', data=df, linestyle='--')\n",
    "    else:\n",
    "        sns.lineplot(x='sigma_p', y='mu_p', data=df)\n",
    "\n"
   ]
  },
  {
   "cell_type": "markdown",
   "metadata": {},
   "source": [
    "Some Monte Carlo Simulations don't end up on the frontier. So, smoothing out data points in separate df for visualisation purposes. There's definitely a much better solution to this problem, though..."
   ]
  },
  {
   "cell_type": "code",
   "execution_count": 245,
   "metadata": {},
   "outputs": [],
   "source": [
    "def apply_moving_average(df, window_size=5):\n",
    "    #apply moving average filter to 'mu_p' and 'sigma_p'\n",
    "    df['mu_p_smooth'] = df['mu_p'].rolling(window=window_size, min_periods=1).mean()\n",
    "    df['sigma_p_smooth'] = df['sigma_p'].rolling(window=window_size, min_periods=1).mean()\n",
    "    # returning smoothed df\n",
    "    return df[['mu_p', 'sigma_p']]\n"
   ]
  },
  {
   "cell_type": "code",
   "execution_count": 246,
   "metadata": {},
   "outputs": [],
   "source": [
    "# Generate the efficient frontier\n",
    "Npoints = 5\n",
    "efficient_frontier = mvef(cov_matrix, Mu, Npoints)"
   ]
  },
  {
   "cell_type": "code",
   "execution_count": 185,
   "metadata": {},
   "outputs": [
    {
     "data": {
      "text/html": [
       "<div>\n",
       "<style scoped>\n",
       "    .dataframe tbody tr th:only-of-type {\n",
       "        vertical-align: middle;\n",
       "    }\n",
       "\n",
       "    .dataframe tbody tr th {\n",
       "        vertical-align: top;\n",
       "    }\n",
       "\n",
       "    .dataframe thead th {\n",
       "        text-align: right;\n",
       "    }\n",
       "</style>\n",
       "<table border=\"1\" class=\"dataframe\">\n",
       "  <thead>\n",
       "    <tr style=\"text-align: right;\">\n",
       "      <th></th>\n",
       "      <th>sigma_p</th>\n",
       "      <th>mu_p</th>\n",
       "    </tr>\n",
       "  </thead>\n",
       "  <tbody>\n",
       "    <tr>\n",
       "      <th>0</th>\n",
       "      <td>NaN</td>\n",
       "      <td>-0.989029</td>\n",
       "    </tr>\n",
       "    <tr>\n",
       "      <th>1</th>\n",
       "      <td>NaN</td>\n",
       "      <td>-0.523668</td>\n",
       "    </tr>\n",
       "    <tr>\n",
       "      <th>2</th>\n",
       "      <td>NaN</td>\n",
       "      <td>-0.058307</td>\n",
       "    </tr>\n",
       "    <tr>\n",
       "      <th>3</th>\n",
       "      <td>NaN</td>\n",
       "      <td>0.407054</td>\n",
       "    </tr>\n",
       "    <tr>\n",
       "      <th>4</th>\n",
       "      <td>NaN</td>\n",
       "      <td>0.872414</td>\n",
       "    </tr>\n",
       "  </tbody>\n",
       "</table>\n",
       "</div>"
      ],
      "text/plain": [
       "   sigma_p      mu_p\n",
       "0      NaN -0.989029\n",
       "1      NaN -0.523668\n",
       "2      NaN -0.058307\n",
       "3      NaN  0.407054\n",
       "4      NaN  0.872414"
      ]
     },
     "execution_count": 185,
     "metadata": {},
     "output_type": "execute_result"
    }
   ],
   "source": [
    "efficient_frontier"
   ]
  }
 ],
 "metadata": {
  "kernelspec": {
   "display_name": "Python 3.9.17 ('base')",
   "language": "python",
   "name": "python3"
  },
  "language_info": {
   "codemirror_mode": {
    "name": "ipython",
    "version": 3
   },
   "file_extension": ".py",
   "mimetype": "text/x-python",
   "name": "python",
   "nbconvert_exporter": "python",
   "pygments_lexer": "ipython3",
   "version": "3.9.17"
  },
  "orig_nbformat": 4,
  "vscode": {
   "interpreter": {
    "hash": "42322db88e3c2f02255451d64a951c0a78537fc6172e7daad3a10b518b5be8f3"
   }
  }
 },
 "nbformat": 4,
 "nbformat_minor": 2
}
