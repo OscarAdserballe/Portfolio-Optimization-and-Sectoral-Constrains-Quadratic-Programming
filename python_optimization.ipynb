{
 "cells": [
  {
   "cell_type": "markdown",
   "metadata": {},
   "source": [
    "Taking in, Covariance matrix, mu and number of points to sample\n",
    "\n",
    "Objective function is literally just the portfolio's variance which we are minimising for each target return. Taken together, then, the set of all solutions for the set of target returns results in the efficient frontiers<br> Objective Function: \n",
    "    <center>$\\sigma_p^2 = w^T C w$</center>\n",
    "\n",
    "Cannot, alas, use Lagrangian Optimisation, as we're using range-bounded constraints, rather than strict ones -> using Quadratic Programmming that takes 2nd order Taylor Series multivariate approximation letting $f'(x_0)=0$ and optimises accordingly."
   ]
  },
  {
   "cell_type": "code",
   "execution_count": 2,
   "metadata": {},
   "outputs": [],
   "source": [
    "import numpy as np\n",
    "import pandas as pd\n",
    "import matplotlib.pyplot as plt\n",
    "import seaborn as sns\n",
    "from scipy.optimize import minimize # Least Squares approach to Quadratic Programming\n",
    "from numpy.linalg import inv  \n",
    "from numpy.linalg import pinv  \n",
    "from sklearn.decomposition import PCA"
   ]
  },
  {
   "cell_type": "code",
   "execution_count": 217,
   "metadata": {},
   "outputs": [],
   "source": [
    "import yfinance as yf\n",
    "\n",
    "# if it works, it works\n",
    "# Fetch S&P 500 company list and sectors from Wikipedia\n",
    "table = pd.read_html('https://en.wikipedia.org/wiki/List_of_S%26P_500_companies')\n",
    "ticker_data = table[0]\n",
    "tickers = ticker_data['Symbol'].tolist()\n",
    "ticker_to_sector = {row['Symbol']: row['GICS Sector'] for index, row in ticker_data.iterrows()}\n",
    "# Fetch historical data for the latest year\n",
    "# data = yf.download(tickers, start='2022-01-01', end='2023-01-01')['Adj Close']\n",
    "\n",
    "sector_df = pd.DataFrame(list(ticker_to_sector.items()), columns=['Ticker', 'Sector'])\n",
    "sector_df.to_csv(\"Sectors\")"
   ]
  },
  {
   "cell_type": "code",
   "execution_count": 191,
   "metadata": {},
   "outputs": [
    {
     "data": {
      "text/html": [
       "<div>\n",
       "<style scoped>\n",
       "    .dataframe tbody tr th:only-of-type {\n",
       "        vertical-align: middle;\n",
       "    }\n",
       "\n",
       "    .dataframe tbody tr th {\n",
       "        vertical-align: top;\n",
       "    }\n",
       "\n",
       "    .dataframe thead th {\n",
       "        text-align: right;\n",
       "    }\n",
       "</style>\n",
       "<table border=\"1\" class=\"dataframe\">\n",
       "  <thead>\n",
       "    <tr style=\"text-align: right;\">\n",
       "      <th></th>\n",
       "      <th>Ticker</th>\n",
       "      <th>Sector</th>\n",
       "    </tr>\n",
       "  </thead>\n",
       "  <tbody>\n",
       "    <tr>\n",
       "      <th>0</th>\n",
       "      <td>MMM</td>\n",
       "      <td>Industrials</td>\n",
       "    </tr>\n",
       "    <tr>\n",
       "      <th>1</th>\n",
       "      <td>AOS</td>\n",
       "      <td>Industrials</td>\n",
       "    </tr>\n",
       "    <tr>\n",
       "      <th>2</th>\n",
       "      <td>ABT</td>\n",
       "      <td>Health Care</td>\n",
       "    </tr>\n",
       "    <tr>\n",
       "      <th>3</th>\n",
       "      <td>ABBV</td>\n",
       "      <td>Health Care</td>\n",
       "    </tr>\n",
       "    <tr>\n",
       "      <th>4</th>\n",
       "      <td>ACN</td>\n",
       "      <td>Information Technology</td>\n",
       "    </tr>\n",
       "    <tr>\n",
       "      <th>...</th>\n",
       "      <td>...</td>\n",
       "      <td>...</td>\n",
       "    </tr>\n",
       "    <tr>\n",
       "      <th>498</th>\n",
       "      <td>YUM</td>\n",
       "      <td>Consumer Discretionary</td>\n",
       "    </tr>\n",
       "    <tr>\n",
       "      <th>499</th>\n",
       "      <td>ZBRA</td>\n",
       "      <td>Information Technology</td>\n",
       "    </tr>\n",
       "    <tr>\n",
       "      <th>500</th>\n",
       "      <td>ZBH</td>\n",
       "      <td>Health Care</td>\n",
       "    </tr>\n",
       "    <tr>\n",
       "      <th>501</th>\n",
       "      <td>ZION</td>\n",
       "      <td>Financials</td>\n",
       "    </tr>\n",
       "    <tr>\n",
       "      <th>502</th>\n",
       "      <td>ZTS</td>\n",
       "      <td>Health Care</td>\n",
       "    </tr>\n",
       "  </tbody>\n",
       "</table>\n",
       "<p>503 rows × 2 columns</p>\n",
       "</div>"
      ],
      "text/plain": [
       "    Ticker                  Sector\n",
       "0      MMM             Industrials\n",
       "1      AOS             Industrials\n",
       "2      ABT             Health Care\n",
       "3     ABBV             Health Care\n",
       "4      ACN  Information Technology\n",
       "..     ...                     ...\n",
       "498    YUM  Consumer Discretionary\n",
       "499   ZBRA  Information Technology\n",
       "500    ZBH             Health Care\n",
       "501   ZION              Financials\n",
       "502    ZTS             Health Care\n",
       "\n",
       "[503 rows x 2 columns]"
      ]
     },
     "execution_count": 191,
     "metadata": {},
     "output_type": "execute_result"
    }
   ],
   "source": [
    "sector_df"
   ]
  },
  {
   "cell_type": "code",
   "execution_count": 205,
   "metadata": {},
   "outputs": [
    {
     "data": {
      "text/html": [
       "<div>\n",
       "<style scoped>\n",
       "    .dataframe tbody tr th:only-of-type {\n",
       "        vertical-align: middle;\n",
       "    }\n",
       "\n",
       "    .dataframe tbody tr th {\n",
       "        vertical-align: top;\n",
       "    }\n",
       "\n",
       "    .dataframe thead th {\n",
       "        text-align: right;\n",
       "    }\n",
       "</style>\n",
       "<table border=\"1\" class=\"dataframe\">\n",
       "  <thead>\n",
       "    <tr style=\"text-align: right;\">\n",
       "      <th></th>\n",
       "      <th>A</th>\n",
       "      <th>AAL</th>\n",
       "      <th>AAPL</th>\n",
       "      <th>ABBV</th>\n",
       "      <th>ABC</th>\n",
       "      <th>ABT</th>\n",
       "      <th>ACGL</th>\n",
       "      <th>ACN</th>\n",
       "      <th>ADBE</th>\n",
       "      <th>ADI</th>\n",
       "      <th>...</th>\n",
       "      <th>WYNN</th>\n",
       "      <th>XEL</th>\n",
       "      <th>XOM</th>\n",
       "      <th>XRAY</th>\n",
       "      <th>XYL</th>\n",
       "      <th>YUM</th>\n",
       "      <th>ZBH</th>\n",
       "      <th>ZBRA</th>\n",
       "      <th>ZION</th>\n",
       "      <th>ZTS</th>\n",
       "    </tr>\n",
       "    <tr>\n",
       "      <th>Date</th>\n",
       "      <th></th>\n",
       "      <th></th>\n",
       "      <th></th>\n",
       "      <th></th>\n",
       "      <th></th>\n",
       "      <th></th>\n",
       "      <th></th>\n",
       "      <th></th>\n",
       "      <th></th>\n",
       "      <th></th>\n",
       "      <th></th>\n",
       "      <th></th>\n",
       "      <th></th>\n",
       "      <th></th>\n",
       "      <th></th>\n",
       "      <th></th>\n",
       "      <th></th>\n",
       "      <th></th>\n",
       "      <th></th>\n",
       "      <th></th>\n",
       "      <th></th>\n",
       "    </tr>\n",
       "  </thead>\n",
       "  <tbody>\n",
       "    <tr>\n",
       "      <th>2022-01-04</th>\n",
       "      <td>-0.033806</td>\n",
       "      <td>0.014400</td>\n",
       "      <td>-0.012691</td>\n",
       "      <td>-0.001920</td>\n",
       "      <td>-0.009501</td>\n",
       "      <td>-0.023518</td>\n",
       "      <td>0.013019</td>\n",
       "      <td>-0.007146</td>\n",
       "      <td>-0.018374</td>\n",
       "      <td>-0.009032</td>\n",
       "      <td>...</td>\n",
       "      <td>-0.003190</td>\n",
       "      <td>0.006329</td>\n",
       "      <td>0.037614</td>\n",
       "      <td>0.005097</td>\n",
       "      <td>0.010608</td>\n",
       "      <td>0.005347</td>\n",
       "      <td>0.010145</td>\n",
       "      <td>0.006337</td>\n",
       "      <td>0.028487</td>\n",
       "      <td>-0.038072</td>\n",
       "    </tr>\n",
       "    <tr>\n",
       "      <th>2022-01-05</th>\n",
       "      <td>-0.017131</td>\n",
       "      <td>-0.017876</td>\n",
       "      <td>-0.026600</td>\n",
       "      <td>0.005253</td>\n",
       "      <td>0.008678</td>\n",
       "      <td>-0.004493</td>\n",
       "      <td>-0.011744</td>\n",
       "      <td>-0.017611</td>\n",
       "      <td>-0.071426</td>\n",
       "      <td>-0.015437</td>\n",
       "      <td>...</td>\n",
       "      <td>-0.037033</td>\n",
       "      <td>0.009799</td>\n",
       "      <td>0.012437</td>\n",
       "      <td>-0.016090</td>\n",
       "      <td>-0.013629</td>\n",
       "      <td>-0.012677</td>\n",
       "      <td>-0.003297</td>\n",
       "      <td>-0.050068</td>\n",
       "      <td>0.002270</td>\n",
       "      <td>-0.038024</td>\n",
       "    </tr>\n",
       "    <tr>\n",
       "      <th>2022-01-06</th>\n",
       "      <td>0.003499</td>\n",
       "      <td>-0.005889</td>\n",
       "      <td>-0.016693</td>\n",
       "      <td>-0.004710</td>\n",
       "      <td>-0.015472</td>\n",
       "      <td>-0.000148</td>\n",
       "      <td>0.005830</td>\n",
       "      <td>-0.048290</td>\n",
       "      <td>-0.000603</td>\n",
       "      <td>0.003182</td>\n",
       "      <td>...</td>\n",
       "      <td>0.004629</td>\n",
       "      <td>-0.007822</td>\n",
       "      <td>0.023521</td>\n",
       "      <td>-0.000711</td>\n",
       "      <td>-0.001373</td>\n",
       "      <td>0.010331</td>\n",
       "      <td>-0.008307</td>\n",
       "      <td>-0.005410</td>\n",
       "      <td>0.041075</td>\n",
       "      <td>0.003971</td>\n",
       "    </tr>\n",
       "    <tr>\n",
       "      <th>2022-01-07</th>\n",
       "      <td>-0.026623</td>\n",
       "      <td>0.038234</td>\n",
       "      <td>0.000988</td>\n",
       "      <td>-0.002588</td>\n",
       "      <td>0.020468</td>\n",
       "      <td>0.003108</td>\n",
       "      <td>0.004681</td>\n",
       "      <td>-0.019180</td>\n",
       "      <td>-0.006652</td>\n",
       "      <td>-0.026241</td>\n",
       "      <td>...</td>\n",
       "      <td>-0.001063</td>\n",
       "      <td>0.008759</td>\n",
       "      <td>0.008197</td>\n",
       "      <td>0.003202</td>\n",
       "      <td>-0.007992</td>\n",
       "      <td>-0.011467</td>\n",
       "      <td>-0.006050</td>\n",
       "      <td>-0.043771</td>\n",
       "      <td>0.016681</td>\n",
       "      <td>-0.029114</td>\n",
       "    </tr>\n",
       "    <tr>\n",
       "      <th>2022-01-10</th>\n",
       "      <td>0.000069</td>\n",
       "      <td>-0.025415</td>\n",
       "      <td>0.000116</td>\n",
       "      <td>0.011195</td>\n",
       "      <td>0.011418</td>\n",
       "      <td>-0.002213</td>\n",
       "      <td>0.021078</td>\n",
       "      <td>0.006069</td>\n",
       "      <td>0.029626</td>\n",
       "      <td>0.009239</td>\n",
       "      <td>...</td>\n",
       "      <td>-0.028149</td>\n",
       "      <td>0.010998</td>\n",
       "      <td>-0.005952</td>\n",
       "      <td>-0.016844</td>\n",
       "      <td>-0.010136</td>\n",
       "      <td>-0.013964</td>\n",
       "      <td>-0.009754</td>\n",
       "      <td>0.008571</td>\n",
       "      <td>-0.007562</td>\n",
       "      <td>0.007153</td>\n",
       "    </tr>\n",
       "    <tr>\n",
       "      <th>...</th>\n",
       "      <td>...</td>\n",
       "      <td>...</td>\n",
       "      <td>...</td>\n",
       "      <td>...</td>\n",
       "      <td>...</td>\n",
       "      <td>...</td>\n",
       "      <td>...</td>\n",
       "      <td>...</td>\n",
       "      <td>...</td>\n",
       "      <td>...</td>\n",
       "      <td>...</td>\n",
       "      <td>...</td>\n",
       "      <td>...</td>\n",
       "      <td>...</td>\n",
       "      <td>...</td>\n",
       "      <td>...</td>\n",
       "      <td>...</td>\n",
       "      <td>...</td>\n",
       "      <td>...</td>\n",
       "      <td>...</td>\n",
       "      <td>...</td>\n",
       "    </tr>\n",
       "    <tr>\n",
       "      <th>2022-12-23</th>\n",
       "      <td>0.001477</td>\n",
       "      <td>0.011943</td>\n",
       "      <td>-0.002798</td>\n",
       "      <td>-0.001041</td>\n",
       "      <td>0.004372</td>\n",
       "      <td>0.001389</td>\n",
       "      <td>0.008433</td>\n",
       "      <td>0.005023</td>\n",
       "      <td>0.005735</td>\n",
       "      <td>0.000550</td>\n",
       "      <td>...</td>\n",
       "      <td>-0.006401</td>\n",
       "      <td>0.012852</td>\n",
       "      <td>0.026445</td>\n",
       "      <td>0.011118</td>\n",
       "      <td>-0.000728</td>\n",
       "      <td>0.000621</td>\n",
       "      <td>0.001106</td>\n",
       "      <td>0.002869</td>\n",
       "      <td>0.003521</td>\n",
       "      <td>0.005033</td>\n",
       "    </tr>\n",
       "    <tr>\n",
       "      <th>2022-12-27</th>\n",
       "      <td>0.002144</td>\n",
       "      <td>-0.014162</td>\n",
       "      <td>-0.013878</td>\n",
       "      <td>-0.000674</td>\n",
       "      <td>-0.005941</td>\n",
       "      <td>0.003605</td>\n",
       "      <td>0.003787</td>\n",
       "      <td>-0.002931</td>\n",
       "      <td>-0.009928</td>\n",
       "      <td>-0.010010</td>\n",
       "      <td>...</td>\n",
       "      <td>0.044723</td>\n",
       "      <td>0.009023</td>\n",
       "      <td>0.013894</td>\n",
       "      <td>0.007540</td>\n",
       "      <td>0.009022</td>\n",
       "      <td>0.007758</td>\n",
       "      <td>0.004657</td>\n",
       "      <td>0.011200</td>\n",
       "      <td>0.008050</td>\n",
       "      <td>-0.003156</td>\n",
       "    </tr>\n",
       "    <tr>\n",
       "      <th>2022-12-28</th>\n",
       "      <td>-0.009763</td>\n",
       "      <td>-0.016760</td>\n",
       "      <td>-0.030685</td>\n",
       "      <td>-0.004663</td>\n",
       "      <td>-0.009704</td>\n",
       "      <td>-0.006816</td>\n",
       "      <td>-0.016033</td>\n",
       "      <td>-0.008254</td>\n",
       "      <td>-0.020174</td>\n",
       "      <td>-0.011837</td>\n",
       "      <td>...</td>\n",
       "      <td>-0.050279</td>\n",
       "      <td>-0.007203</td>\n",
       "      <td>-0.016426</td>\n",
       "      <td>-0.033988</td>\n",
       "      <td>-0.016076</td>\n",
       "      <td>-0.004542</td>\n",
       "      <td>-0.010135</td>\n",
       "      <td>-0.016574</td>\n",
       "      <td>-0.017813</td>\n",
       "      <td>-0.010117</td>\n",
       "    </tr>\n",
       "    <tr>\n",
       "      <th>2022-12-29</th>\n",
       "      <td>0.020258</td>\n",
       "      <td>0.030844</td>\n",
       "      <td>0.028324</td>\n",
       "      <td>0.002034</td>\n",
       "      <td>-0.007827</td>\n",
       "      <td>0.022999</td>\n",
       "      <td>0.008147</td>\n",
       "      <td>0.019991</td>\n",
       "      <td>0.028173</td>\n",
       "      <td>0.023085</td>\n",
       "      <td>...</td>\n",
       "      <td>0.014609</td>\n",
       "      <td>0.007085</td>\n",
       "      <td>0.007566</td>\n",
       "      <td>0.046184</td>\n",
       "      <td>0.024784</td>\n",
       "      <td>0.005259</td>\n",
       "      <td>0.014604</td>\n",
       "      <td>0.043307</td>\n",
       "      <td>0.023139</td>\n",
       "      <td>0.030035</td>\n",
       "    </tr>\n",
       "    <tr>\n",
       "      <th>2022-12-30</th>\n",
       "      <td>-0.008054</td>\n",
       "      <td>0.001575</td>\n",
       "      <td>0.002469</td>\n",
       "      <td>-0.005844</td>\n",
       "      <td>-0.002048</td>\n",
       "      <td>-0.004714</td>\n",
       "      <td>-0.005229</td>\n",
       "      <td>-0.005738</td>\n",
       "      <td>-0.003110</td>\n",
       "      <td>0.000305</td>\n",
       "      <td>...</td>\n",
       "      <td>0.014890</td>\n",
       "      <td>-0.013508</td>\n",
       "      <td>0.010073</td>\n",
       "      <td>-0.013631</td>\n",
       "      <td>-0.009584</td>\n",
       "      <td>-0.014693</td>\n",
       "      <td>-0.002582</td>\n",
       "      <td>-0.004349</td>\n",
       "      <td>0.001630</td>\n",
       "      <td>-0.010800</td>\n",
       "    </tr>\n",
       "  </tbody>\n",
       "</table>\n",
       "<p>250 rows × 503 columns</p>\n",
       "</div>"
      ],
      "text/plain": [
       "                   A       AAL      AAPL      ABBV       ABC       ABT  \\\n",
       "Date                                                                     \n",
       "2022-01-04 -0.033806  0.014400 -0.012691 -0.001920 -0.009501 -0.023518   \n",
       "2022-01-05 -0.017131 -0.017876 -0.026600  0.005253  0.008678 -0.004493   \n",
       "2022-01-06  0.003499 -0.005889 -0.016693 -0.004710 -0.015472 -0.000148   \n",
       "2022-01-07 -0.026623  0.038234  0.000988 -0.002588  0.020468  0.003108   \n",
       "2022-01-10  0.000069 -0.025415  0.000116  0.011195  0.011418 -0.002213   \n",
       "...              ...       ...       ...       ...       ...       ...   \n",
       "2022-12-23  0.001477  0.011943 -0.002798 -0.001041  0.004372  0.001389   \n",
       "2022-12-27  0.002144 -0.014162 -0.013878 -0.000674 -0.005941  0.003605   \n",
       "2022-12-28 -0.009763 -0.016760 -0.030685 -0.004663 -0.009704 -0.006816   \n",
       "2022-12-29  0.020258  0.030844  0.028324  0.002034 -0.007827  0.022999   \n",
       "2022-12-30 -0.008054  0.001575  0.002469 -0.005844 -0.002048 -0.004714   \n",
       "\n",
       "                ACGL       ACN      ADBE       ADI  ...      WYNN       XEL  \\\n",
       "Date                                                ...                       \n",
       "2022-01-04  0.013019 -0.007146 -0.018374 -0.009032  ... -0.003190  0.006329   \n",
       "2022-01-05 -0.011744 -0.017611 -0.071426 -0.015437  ... -0.037033  0.009799   \n",
       "2022-01-06  0.005830 -0.048290 -0.000603  0.003182  ...  0.004629 -0.007822   \n",
       "2022-01-07  0.004681 -0.019180 -0.006652 -0.026241  ... -0.001063  0.008759   \n",
       "2022-01-10  0.021078  0.006069  0.029626  0.009239  ... -0.028149  0.010998   \n",
       "...              ...       ...       ...       ...  ...       ...       ...   \n",
       "2022-12-23  0.008433  0.005023  0.005735  0.000550  ... -0.006401  0.012852   \n",
       "2022-12-27  0.003787 -0.002931 -0.009928 -0.010010  ...  0.044723  0.009023   \n",
       "2022-12-28 -0.016033 -0.008254 -0.020174 -0.011837  ... -0.050279 -0.007203   \n",
       "2022-12-29  0.008147  0.019991  0.028173  0.023085  ...  0.014609  0.007085   \n",
       "2022-12-30 -0.005229 -0.005738 -0.003110  0.000305  ...  0.014890 -0.013508   \n",
       "\n",
       "                 XOM      XRAY       XYL       YUM       ZBH      ZBRA  \\\n",
       "Date                                                                     \n",
       "2022-01-04  0.037614  0.005097  0.010608  0.005347  0.010145  0.006337   \n",
       "2022-01-05  0.012437 -0.016090 -0.013629 -0.012677 -0.003297 -0.050068   \n",
       "2022-01-06  0.023521 -0.000711 -0.001373  0.010331 -0.008307 -0.005410   \n",
       "2022-01-07  0.008197  0.003202 -0.007992 -0.011467 -0.006050 -0.043771   \n",
       "2022-01-10 -0.005952 -0.016844 -0.010136 -0.013964 -0.009754  0.008571   \n",
       "...              ...       ...       ...       ...       ...       ...   \n",
       "2022-12-23  0.026445  0.011118 -0.000728  0.000621  0.001106  0.002869   \n",
       "2022-12-27  0.013894  0.007540  0.009022  0.007758  0.004657  0.011200   \n",
       "2022-12-28 -0.016426 -0.033988 -0.016076 -0.004542 -0.010135 -0.016574   \n",
       "2022-12-29  0.007566  0.046184  0.024784  0.005259  0.014604  0.043307   \n",
       "2022-12-30  0.010073 -0.013631 -0.009584 -0.014693 -0.002582 -0.004349   \n",
       "\n",
       "                ZION       ZTS  \n",
       "Date                            \n",
       "2022-01-04  0.028487 -0.038072  \n",
       "2022-01-05  0.002270 -0.038024  \n",
       "2022-01-06  0.041075  0.003971  \n",
       "2022-01-07  0.016681 -0.029114  \n",
       "2022-01-10 -0.007562  0.007153  \n",
       "...              ...       ...  \n",
       "2022-12-23  0.003521  0.005033  \n",
       "2022-12-27  0.008050 -0.003156  \n",
       "2022-12-28 -0.017813 -0.010117  \n",
       "2022-12-29  0.023139  0.030035  \n",
       "2022-12-30  0.001630 -0.010800  \n",
       "\n",
       "[250 rows x 503 columns]"
      ]
     },
     "execution_count": 205,
     "metadata": {},
     "output_type": "execute_result"
    }
   ],
   "source": [
    "returns = data.pct_change()\n",
    "returns = returns.iloc[1:]  #removing first zero-row\n",
    "returns"
   ]
  },
  {
   "cell_type": "code",
   "execution_count": 199,
   "metadata": {},
   "outputs": [
    {
     "data": {
      "text/plain": [
       "200552929246208.78"
      ]
     },
     "execution_count": 199,
     "metadata": {},
     "output_type": "execute_result"
    }
   ],
   "source": [
    "determinant = np.linalg.det(cov_matrix)\n",
    "determinant"
   ]
  },
  {
   "cell_type": "markdown",
   "metadata": {},
   "source": [
    "## Making Our Covariance Matrix Invertible\n",
    "Huge issues here, and it's necessary for us to be able to invert the Covariance matrix. Not only is it important if we want the analytic solution to the efficient frontier with only strict constraints where we can use the Lagrangian method, but we also need it for the Least Squares method of optimization for our Quadratic Programming Optimization"
   ]
  },
  {
   "cell_type": "code",
   "execution_count": 218,
   "metadata": {},
   "outputs": [],
   "source": [
    "# Have to keep trying to render the matrix non-singular.\n",
    "def i_hate_this_matrix(returns, sector_df, alpha=1):\n",
    "    returns = returns.dropna(axis=1, how='any')\n",
    "    remaining_tickers = returns.columns.tolist()\n",
    "    sector_df = sector_df[sector_df['Ticker'].isin(remaining_tickers)].reset_index(drop=True)\n",
    "\n",
    "    cov_matrix = returns.cov() * returns.shape[0]\n",
    "    cov_matrix = cov_matrix + np.eye(cov_matrix.shape[0]) * alpha\n",
    "    corr_matrix = returns.corr()\n",
    "    removed_columns = []\n",
    "\n",
    "    # now we remove highly correlated columns until we have a non-zero determinant\n",
    "\n",
    "    initial_determinant = np.linalg.det(cov_matrix)\n",
    "\n",
    "    removed_columns = []\n",
    "    current_determinant = initial_determinant\n",
    "\n",
    "    correlation_threshold = 0.90\n",
    "\n",
    "    while np.isclose(current_determinant, 0):\n",
    "        # Recalculate the correlation matrix\n",
    "        correlation_matrix = returns.corr()\n",
    "        \n",
    "        # Find pairs of stocks with correlation above the threshold\n",
    "        correlated_pairs = []\n",
    "        for i in range(correlation_matrix.shape[0]):\n",
    "            for j in range(i+1, correlation_matrix.shape[1]):\n",
    "                if abs(correlation_matrix.iloc[i, j]) > correlation_threshold:\n",
    "                    correlated_pairs.append((correlation_matrix.index[i], correlation_matrix.columns[j]))\n",
    "\n",
    "        \n",
    "        # Remove one stock from each highly correlated pair\n",
    "        for pair in correlated_pairs:\n",
    "            if pair[0] not in removed_columns and pair[1] not in removed_columns:\n",
    "                removed_columns.append(pair[1])\n",
    "        \n",
    "        # Remove the identified stocks from the data\n",
    "        returns = returns.drop(columns=removed_columns)\n",
    "        sector_df = sector_df[~sector_df['Ticker'].isin(removed_columns)]\n",
    "        removed_columns = [] # so we don't try to drop them again\n",
    "        \n",
    "        # Recalculate the covariance matrix and its determinant\n",
    "        cov_matrix = returns.cov()\n",
    "        current_determinant = np.linalg.det(cov_matrix)\n",
    "        correlation_threshold -= 0.05\n",
    "        print(f\"Correlation threshold is {correlation_threshold}\")\n",
    "\n",
    "    return returns, sector_df, cov_matrix"
   ]
  },
  {
   "cell_type": "code",
   "execution_count": 219,
   "metadata": {},
   "outputs": [],
   "source": [
    "returns, sector_df, cov_matrix = i_hate_this_matrix(returns, sector_df)"
   ]
  },
  {
   "cell_type": "code",
   "execution_count": 220,
   "metadata": {},
   "outputs": [
    {
     "data": {
      "text/plain": [
       "((498, 2), (250, 498))"
      ]
     },
     "execution_count": 220,
     "metadata": {},
     "output_type": "execute_result"
    }
   ],
   "source": [
    "sector_df = sector_df[sector_df['Ticker'].isin(returns.columns)]\n",
    "sector_df.shape, returns.shape"
   ]
  },
  {
   "cell_type": "code",
   "execution_count": 196,
   "metadata": {},
   "outputs": [
    {
     "data": {
      "text/plain": [
       "200552929246208.78"
      ]
     },
     "execution_count": 196,
     "metadata": {},
     "output_type": "execute_result"
    }
   ],
   "source": [
    "determinant = np.linalg.det(cov_matrix)\n",
    "determinant"
   ]
  },
  {
   "cell_type": "markdown",
   "metadata": {},
   "source": [
    "Now we can effectively invert our matrix"
   ]
  },
  {
   "cell_type": "code",
   "execution_count": 66,
   "metadata": {},
   "outputs": [
    {
     "data": {
      "text/html": [
       "<div>\n",
       "<style scoped>\n",
       "    .dataframe tbody tr th:only-of-type {\n",
       "        vertical-align: middle;\n",
       "    }\n",
       "\n",
       "    .dataframe tbody tr th {\n",
       "        vertical-align: top;\n",
       "    }\n",
       "\n",
       "    .dataframe thead th {\n",
       "        text-align: right;\n",
       "    }\n",
       "</style>\n",
       "<table border=\"1\" class=\"dataframe\">\n",
       "  <thead>\n",
       "    <tr style=\"text-align: right;\">\n",
       "      <th></th>\n",
       "      <th>A</th>\n",
       "      <th>AAL</th>\n",
       "      <th>AAPL</th>\n",
       "      <th>ABBV</th>\n",
       "      <th>ABC</th>\n",
       "      <th>ABT</th>\n",
       "      <th>ACGL</th>\n",
       "      <th>ACN</th>\n",
       "      <th>ADBE</th>\n",
       "      <th>ADI</th>\n",
       "      <th>...</th>\n",
       "      <th>WYNN</th>\n",
       "      <th>XEL</th>\n",
       "      <th>XOM</th>\n",
       "      <th>XRAY</th>\n",
       "      <th>XYL</th>\n",
       "      <th>YUM</th>\n",
       "      <th>ZBH</th>\n",
       "      <th>ZBRA</th>\n",
       "      <th>ZION</th>\n",
       "      <th>ZTS</th>\n",
       "    </tr>\n",
       "  </thead>\n",
       "  <tbody>\n",
       "    <tr>\n",
       "      <th>A</th>\n",
       "      <td>1.124187</td>\n",
       "      <td>0.080526</td>\n",
       "      <td>0.082022</td>\n",
       "      <td>0.025705</td>\n",
       "      <td>0.028760</td>\n",
       "      <td>0.065081</td>\n",
       "      <td>0.038034</td>\n",
       "      <td>0.083327</td>\n",
       "      <td>0.102514</td>\n",
       "      <td>0.085288</td>\n",
       "      <td>...</td>\n",
       "      <td>0.084333</td>\n",
       "      <td>0.030382</td>\n",
       "      <td>0.030034</td>\n",
       "      <td>0.059762</td>\n",
       "      <td>0.079551</td>\n",
       "      <td>0.048374</td>\n",
       "      <td>0.058969</td>\n",
       "      <td>0.099227</td>\n",
       "      <td>0.065002</td>\n",
       "      <td>0.080266</td>\n",
       "    </tr>\n",
       "    <tr>\n",
       "      <th>AAL</th>\n",
       "      <td>0.080526</td>\n",
       "      <td>1.314124</td>\n",
       "      <td>0.115114</td>\n",
       "      <td>0.018880</td>\n",
       "      <td>0.040184</td>\n",
       "      <td>0.068185</td>\n",
       "      <td>0.069188</td>\n",
       "      <td>0.100526</td>\n",
       "      <td>0.118786</td>\n",
       "      <td>0.123698</td>\n",
       "      <td>...</td>\n",
       "      <td>0.178233</td>\n",
       "      <td>0.027128</td>\n",
       "      <td>0.022951</td>\n",
       "      <td>0.068121</td>\n",
       "      <td>0.101748</td>\n",
       "      <td>0.072170</td>\n",
       "      <td>0.084284</td>\n",
       "      <td>0.133304</td>\n",
       "      <td>0.117818</td>\n",
       "      <td>0.069799</td>\n",
       "    </tr>\n",
       "    <tr>\n",
       "      <th>AAPL</th>\n",
       "      <td>0.082022</td>\n",
       "      <td>0.115114</td>\n",
       "      <td>1.126240</td>\n",
       "      <td>0.018879</td>\n",
       "      <td>0.033797</td>\n",
       "      <td>0.059149</td>\n",
       "      <td>0.040440</td>\n",
       "      <td>0.093104</td>\n",
       "      <td>0.113906</td>\n",
       "      <td>0.098685</td>\n",
       "      <td>...</td>\n",
       "      <td>0.104884</td>\n",
       "      <td>0.035362</td>\n",
       "      <td>0.033745</td>\n",
       "      <td>0.057517</td>\n",
       "      <td>0.077447</td>\n",
       "      <td>0.049308</td>\n",
       "      <td>0.060869</td>\n",
       "      <td>0.117573</td>\n",
       "      <td>0.075731</td>\n",
       "      <td>0.075549</td>\n",
       "    </tr>\n",
       "    <tr>\n",
       "      <th>ABBV</th>\n",
       "      <td>0.025705</td>\n",
       "      <td>0.018880</td>\n",
       "      <td>0.018879</td>\n",
       "      <td>1.049907</td>\n",
       "      <td>0.024650</td>\n",
       "      <td>0.027310</td>\n",
       "      <td>0.014405</td>\n",
       "      <td>0.025059</td>\n",
       "      <td>0.018461</td>\n",
       "      <td>0.024075</td>\n",
       "      <td>...</td>\n",
       "      <td>0.010024</td>\n",
       "      <td>0.019093</td>\n",
       "      <td>0.014064</td>\n",
       "      <td>0.024744</td>\n",
       "      <td>0.021426</td>\n",
       "      <td>0.013413</td>\n",
       "      <td>0.021889</td>\n",
       "      <td>0.018358</td>\n",
       "      <td>0.022398</td>\n",
       "      <td>0.028411</td>\n",
       "    </tr>\n",
       "    <tr>\n",
       "      <th>ABC</th>\n",
       "      <td>0.028760</td>\n",
       "      <td>0.040184</td>\n",
       "      <td>0.033797</td>\n",
       "      <td>0.024650</td>\n",
       "      <td>1.055395</td>\n",
       "      <td>0.028607</td>\n",
       "      <td>0.029922</td>\n",
       "      <td>0.031801</td>\n",
       "      <td>0.023580</td>\n",
       "      <td>0.029464</td>\n",
       "      <td>...</td>\n",
       "      <td>0.024241</td>\n",
       "      <td>0.024157</td>\n",
       "      <td>0.023840</td>\n",
       "      <td>0.021162</td>\n",
       "      <td>0.026936</td>\n",
       "      <td>0.020785</td>\n",
       "      <td>0.025951</td>\n",
       "      <td>0.029921</td>\n",
       "      <td>0.029724</td>\n",
       "      <td>0.023287</td>\n",
       "    </tr>\n",
       "    <tr>\n",
       "      <th>...</th>\n",
       "      <td>...</td>\n",
       "      <td>...</td>\n",
       "      <td>...</td>\n",
       "      <td>...</td>\n",
       "      <td>...</td>\n",
       "      <td>...</td>\n",
       "      <td>...</td>\n",
       "      <td>...</td>\n",
       "      <td>...</td>\n",
       "      <td>...</td>\n",
       "      <td>...</td>\n",
       "      <td>...</td>\n",
       "      <td>...</td>\n",
       "      <td>...</td>\n",
       "      <td>...</td>\n",
       "      <td>...</td>\n",
       "      <td>...</td>\n",
       "      <td>...</td>\n",
       "      <td>...</td>\n",
       "      <td>...</td>\n",
       "      <td>...</td>\n",
       "    </tr>\n",
       "    <tr>\n",
       "      <th>YUM</th>\n",
       "      <td>0.048374</td>\n",
       "      <td>0.072170</td>\n",
       "      <td>0.049308</td>\n",
       "      <td>0.013413</td>\n",
       "      <td>0.020785</td>\n",
       "      <td>0.037134</td>\n",
       "      <td>0.029571</td>\n",
       "      <td>0.048042</td>\n",
       "      <td>0.051905</td>\n",
       "      <td>0.055240</td>\n",
       "      <td>...</td>\n",
       "      <td>0.066552</td>\n",
       "      <td>0.021981</td>\n",
       "      <td>0.017091</td>\n",
       "      <td>0.031309</td>\n",
       "      <td>0.048809</td>\n",
       "      <td>1.057659</td>\n",
       "      <td>0.037517</td>\n",
       "      <td>0.064767</td>\n",
       "      <td>0.040924</td>\n",
       "      <td>0.039733</td>\n",
       "    </tr>\n",
       "    <tr>\n",
       "      <th>ZBH</th>\n",
       "      <td>0.058969</td>\n",
       "      <td>0.084284</td>\n",
       "      <td>0.060869</td>\n",
       "      <td>0.021889</td>\n",
       "      <td>0.025951</td>\n",
       "      <td>0.050423</td>\n",
       "      <td>0.036802</td>\n",
       "      <td>0.063729</td>\n",
       "      <td>0.068613</td>\n",
       "      <td>0.063137</td>\n",
       "      <td>...</td>\n",
       "      <td>0.067919</td>\n",
       "      <td>0.026097</td>\n",
       "      <td>0.023835</td>\n",
       "      <td>0.057952</td>\n",
       "      <td>0.063669</td>\n",
       "      <td>0.037517</td>\n",
       "      <td>1.092584</td>\n",
       "      <td>0.071939</td>\n",
       "      <td>0.061480</td>\n",
       "      <td>0.052219</td>\n",
       "    </tr>\n",
       "    <tr>\n",
       "      <th>ZBRA</th>\n",
       "      <td>0.099227</td>\n",
       "      <td>0.133304</td>\n",
       "      <td>0.117573</td>\n",
       "      <td>0.018358</td>\n",
       "      <td>0.029921</td>\n",
       "      <td>0.071898</td>\n",
       "      <td>0.054954</td>\n",
       "      <td>0.108839</td>\n",
       "      <td>0.134659</td>\n",
       "      <td>0.116515</td>\n",
       "      <td>...</td>\n",
       "      <td>0.130710</td>\n",
       "      <td>0.031354</td>\n",
       "      <td>0.038880</td>\n",
       "      <td>0.073279</td>\n",
       "      <td>0.089026</td>\n",
       "      <td>0.064767</td>\n",
       "      <td>0.071939</td>\n",
       "      <td>1.214276</td>\n",
       "      <td>0.094844</td>\n",
       "      <td>0.086938</td>\n",
       "    </tr>\n",
       "    <tr>\n",
       "      <th>ZION</th>\n",
       "      <td>0.065002</td>\n",
       "      <td>0.117818</td>\n",
       "      <td>0.075731</td>\n",
       "      <td>0.022398</td>\n",
       "      <td>0.029724</td>\n",
       "      <td>0.057891</td>\n",
       "      <td>0.052078</td>\n",
       "      <td>0.074379</td>\n",
       "      <td>0.071309</td>\n",
       "      <td>0.077459</td>\n",
       "      <td>...</td>\n",
       "      <td>0.108861</td>\n",
       "      <td>0.029923</td>\n",
       "      <td>0.038688</td>\n",
       "      <td>0.061640</td>\n",
       "      <td>0.070730</td>\n",
       "      <td>0.040924</td>\n",
       "      <td>0.061480</td>\n",
       "      <td>0.094844</td>\n",
       "      <td>1.143775</td>\n",
       "      <td>0.056933</td>\n",
       "    </tr>\n",
       "    <tr>\n",
       "      <th>ZTS</th>\n",
       "      <td>0.080266</td>\n",
       "      <td>0.069799</td>\n",
       "      <td>0.075549</td>\n",
       "      <td>0.028411</td>\n",
       "      <td>0.023287</td>\n",
       "      <td>0.059845</td>\n",
       "      <td>0.032467</td>\n",
       "      <td>0.075956</td>\n",
       "      <td>0.091220</td>\n",
       "      <td>0.071716</td>\n",
       "      <td>...</td>\n",
       "      <td>0.070427</td>\n",
       "      <td>0.029657</td>\n",
       "      <td>0.017168</td>\n",
       "      <td>0.060081</td>\n",
       "      <td>0.061524</td>\n",
       "      <td>0.039733</td>\n",
       "      <td>0.052219</td>\n",
       "      <td>0.086938</td>\n",
       "      <td>0.056933</td>\n",
       "      <td>1.100904</td>\n",
       "    </tr>\n",
       "  </tbody>\n",
       "</table>\n",
       "<p>498 rows × 498 columns</p>\n",
       "</div>"
      ],
      "text/plain": [
       "             A       AAL      AAPL      ABBV       ABC       ABT      ACGL  \\\n",
       "A     1.124187  0.080526  0.082022  0.025705  0.028760  0.065081  0.038034   \n",
       "AAL   0.080526  1.314124  0.115114  0.018880  0.040184  0.068185  0.069188   \n",
       "AAPL  0.082022  0.115114  1.126240  0.018879  0.033797  0.059149  0.040440   \n",
       "ABBV  0.025705  0.018880  0.018879  1.049907  0.024650  0.027310  0.014405   \n",
       "ABC   0.028760  0.040184  0.033797  0.024650  1.055395  0.028607  0.029922   \n",
       "...        ...       ...       ...       ...       ...       ...       ...   \n",
       "YUM   0.048374  0.072170  0.049308  0.013413  0.020785  0.037134  0.029571   \n",
       "ZBH   0.058969  0.084284  0.060869  0.021889  0.025951  0.050423  0.036802   \n",
       "ZBRA  0.099227  0.133304  0.117573  0.018358  0.029921  0.071898  0.054954   \n",
       "ZION  0.065002  0.117818  0.075731  0.022398  0.029724  0.057891  0.052078   \n",
       "ZTS   0.080266  0.069799  0.075549  0.028411  0.023287  0.059845  0.032467   \n",
       "\n",
       "           ACN      ADBE       ADI  ...      WYNN       XEL       XOM  \\\n",
       "A     0.083327  0.102514  0.085288  ...  0.084333  0.030382  0.030034   \n",
       "AAL   0.100526  0.118786  0.123698  ...  0.178233  0.027128  0.022951   \n",
       "AAPL  0.093104  0.113906  0.098685  ...  0.104884  0.035362  0.033745   \n",
       "ABBV  0.025059  0.018461  0.024075  ...  0.010024  0.019093  0.014064   \n",
       "ABC   0.031801  0.023580  0.029464  ...  0.024241  0.024157  0.023840   \n",
       "...        ...       ...       ...  ...       ...       ...       ...   \n",
       "YUM   0.048042  0.051905  0.055240  ...  0.066552  0.021981  0.017091   \n",
       "ZBH   0.063729  0.068613  0.063137  ...  0.067919  0.026097  0.023835   \n",
       "ZBRA  0.108839  0.134659  0.116515  ...  0.130710  0.031354  0.038880   \n",
       "ZION  0.074379  0.071309  0.077459  ...  0.108861  0.029923  0.038688   \n",
       "ZTS   0.075956  0.091220  0.071716  ...  0.070427  0.029657  0.017168   \n",
       "\n",
       "          XRAY       XYL       YUM       ZBH      ZBRA      ZION       ZTS  \n",
       "A     0.059762  0.079551  0.048374  0.058969  0.099227  0.065002  0.080266  \n",
       "AAL   0.068121  0.101748  0.072170  0.084284  0.133304  0.117818  0.069799  \n",
       "AAPL  0.057517  0.077447  0.049308  0.060869  0.117573  0.075731  0.075549  \n",
       "ABBV  0.024744  0.021426  0.013413  0.021889  0.018358  0.022398  0.028411  \n",
       "ABC   0.021162  0.026936  0.020785  0.025951  0.029921  0.029724  0.023287  \n",
       "...        ...       ...       ...       ...       ...       ...       ...  \n",
       "YUM   0.031309  0.048809  1.057659  0.037517  0.064767  0.040924  0.039733  \n",
       "ZBH   0.057952  0.063669  0.037517  1.092584  0.071939  0.061480  0.052219  \n",
       "ZBRA  0.073279  0.089026  0.064767  0.071939  1.214276  0.094844  0.086938  \n",
       "ZION  0.061640  0.070730  0.040924  0.061480  0.094844  1.143775  0.056933  \n",
       "ZTS   0.060081  0.061524  0.039733  0.052219  0.086938  0.056933  1.100904  \n",
       "\n",
       "[498 rows x 498 columns]"
      ]
     },
     "execution_count": 66,
     "metadata": {},
     "output_type": "execute_result"
    }
   ],
   "source": [
    "cov_matrix"
   ]
  },
  {
   "cell_type": "code",
   "execution_count": 68,
   "metadata": {},
   "outputs": [],
   "source": [
    "# collecting all data in one df\n",
    "stock_df = pd.DataFrame({\n",
    "    'Risk': std_dev,  \n",
    "    'Return': Mu,  \n",
    "    'Ticker': tickers,\n",
    "})"
   ]
  },
  {
   "cell_type": "code",
   "execution_count": 69,
   "metadata": {},
   "outputs": [
    {
     "data": {
      "application/vnd.plotly.v1+json": {
       "config": {
        "plotlyServerURL": "https://plot.ly"
       },
       "data": [
        {
         "customdata": [
          [
           "MMM"
          ],
          [
           "AOS"
          ],
          [
           "ABT"
          ],
          [
           "ABBV"
          ],
          [
           "ACN"
          ],
          [
           "ATVI"
          ],
          [
           "ADM"
          ],
          [
           "ADBE"
          ],
          [
           "ADP"
          ],
          [
           "AES"
          ],
          [
           "AFL"
          ],
          [
           "A"
          ],
          [
           "APD"
          ],
          [
           "AKAM"
          ],
          [
           "ALK"
          ],
          [
           "ALB"
          ],
          [
           "ARE"
          ],
          [
           "ALGN"
          ],
          [
           "ALLE"
          ],
          [
           "LNT"
          ],
          [
           "ALL"
          ],
          [
           "GOOGL"
          ],
          [
           "GOOG"
          ],
          [
           "MO"
          ],
          [
           "AMZN"
          ],
          [
           "AMCR"
          ],
          [
           "AMD"
          ],
          [
           "AEE"
          ],
          [
           "AAL"
          ],
          [
           "AEP"
          ],
          [
           "AXP"
          ],
          [
           "AIG"
          ],
          [
           "AMT"
          ],
          [
           "AWK"
          ],
          [
           "AMP"
          ],
          [
           "ABC"
          ],
          [
           "AME"
          ],
          [
           "AMGN"
          ],
          [
           "APH"
          ],
          [
           "ADI"
          ],
          [
           "ANSS"
          ],
          [
           "AON"
          ],
          [
           "APA"
          ],
          [
           "AAPL"
          ],
          [
           "AMAT"
          ],
          [
           "APTV"
          ],
          [
           "ACGL"
          ],
          [
           "ANET"
          ],
          [
           "AJG"
          ],
          [
           "AIZ"
          ],
          [
           "T"
          ],
          [
           "ATO"
          ],
          [
           "ADSK"
          ],
          [
           "AZO"
          ],
          [
           "AVB"
          ],
          [
           "AVY"
          ],
          [
           "AXON"
          ],
          [
           "BKR"
          ],
          [
           "BALL"
          ],
          [
           "BAC"
          ],
          [
           "BBWI"
          ],
          [
           "BAX"
          ],
          [
           "BDX"
          ],
          [
           "WRB"
          ],
          [
           "BRK.B"
          ],
          [
           "BBY"
          ],
          [
           "BIO"
          ],
          [
           "TECH"
          ],
          [
           "BIIB"
          ],
          [
           "BLK"
          ],
          [
           "BK"
          ],
          [
           "BA"
          ],
          [
           "BKNG"
          ],
          [
           "BWA"
          ],
          [
           "BXP"
          ],
          [
           "BSX"
          ],
          [
           "BMY"
          ],
          [
           "AVGO"
          ],
          [
           "BR"
          ],
          [
           "BRO"
          ],
          [
           "BF.B"
          ],
          [
           "BG"
          ],
          [
           "CHRW"
          ],
          [
           "CDNS"
          ],
          [
           "CZR"
          ],
          [
           "CPT"
          ],
          [
           "CPB"
          ],
          [
           "COF"
          ],
          [
           "CAH"
          ],
          [
           "KMX"
          ],
          [
           "CCL"
          ],
          [
           "CARR"
          ],
          [
           "CTLT"
          ],
          [
           "CAT"
          ],
          [
           "CBOE"
          ],
          [
           "CBRE"
          ],
          [
           "CDW"
          ],
          [
           "CE"
          ],
          [
           "CNC"
          ],
          [
           "CNP"
          ],
          [
           "CDAY"
          ],
          [
           "CF"
          ],
          [
           "CRL"
          ],
          [
           "SCHW"
          ],
          [
           "CHTR"
          ],
          [
           "CVX"
          ],
          [
           "CMG"
          ],
          [
           "CB"
          ],
          [
           "CHD"
          ],
          [
           "CI"
          ],
          [
           "CINF"
          ],
          [
           "CTAS"
          ],
          [
           "CSCO"
          ],
          [
           "C"
          ],
          [
           "CFG"
          ],
          [
           "CLX"
          ],
          [
           "CME"
          ],
          [
           "CMS"
          ],
          [
           "KO"
          ],
          [
           "CTSH"
          ],
          [
           "CL"
          ],
          [
           "CMCSA"
          ],
          [
           "CMA"
          ],
          [
           "CAG"
          ],
          [
           "COP"
          ],
          [
           "ED"
          ],
          [
           "STZ"
          ],
          [
           "CEG"
          ],
          [
           "COO"
          ],
          [
           "CPRT"
          ],
          [
           "GLW"
          ],
          [
           "CTVA"
          ],
          [
           "CSGP"
          ],
          [
           "COST"
          ],
          [
           "CTRA"
          ],
          [
           "CCI"
          ],
          [
           "CSX"
          ],
          [
           "CMI"
          ],
          [
           "CVS"
          ],
          [
           "DHI"
          ],
          [
           "DHR"
          ],
          [
           "DRI"
          ],
          [
           "DVA"
          ],
          [
           "DE"
          ],
          [
           "DAL"
          ],
          [
           "XRAY"
          ],
          [
           "DVN"
          ],
          [
           "DXCM"
          ],
          [
           "FANG"
          ],
          [
           "DLR"
          ],
          [
           "DFS"
          ],
          [
           "DIS"
          ],
          [
           "DG"
          ],
          [
           "DLTR"
          ],
          [
           "D"
          ],
          [
           "DPZ"
          ],
          [
           "DOV"
          ],
          [
           "DOW"
          ],
          [
           "DTE"
          ],
          [
           "DUK"
          ],
          [
           "DD"
          ],
          [
           "DXC"
          ],
          [
           "EMN"
          ],
          [
           "ETN"
          ],
          [
           "EBAY"
          ],
          [
           "ECL"
          ],
          [
           "EIX"
          ],
          [
           "EW"
          ],
          [
           "EA"
          ],
          [
           "ELV"
          ],
          [
           "LLY"
          ],
          [
           "EMR"
          ],
          [
           "ENPH"
          ],
          [
           "ETR"
          ],
          [
           "EOG"
          ],
          [
           "EPAM"
          ],
          [
           "EQT"
          ],
          [
           "EFX"
          ],
          [
           "EQIX"
          ],
          [
           "EQR"
          ],
          [
           "ESS"
          ],
          [
           "EL"
          ],
          [
           "ETSY"
          ],
          [
           "EG"
          ],
          [
           "EVRG"
          ],
          [
           "ES"
          ],
          [
           "EXC"
          ],
          [
           "EXPE"
          ],
          [
           "EXPD"
          ],
          [
           "EXR"
          ],
          [
           "XOM"
          ],
          [
           "FFIV"
          ],
          [
           "FDS"
          ],
          [
           "FICO"
          ],
          [
           "FAST"
          ],
          [
           "FRT"
          ],
          [
           "FDX"
          ],
          [
           "FITB"
          ],
          [
           "FSLR"
          ],
          [
           "FE"
          ],
          [
           "FIS"
          ],
          [
           "FI"
          ],
          [
           "FLT"
          ],
          [
           "FMC"
          ],
          [
           "F"
          ],
          [
           "FTNT"
          ],
          [
           "FTV"
          ],
          [
           "FOXA"
          ],
          [
           "FOX"
          ],
          [
           "BEN"
          ],
          [
           "FCX"
          ],
          [
           "GRMN"
          ],
          [
           "IT"
          ],
          [
           "GEHC"
          ],
          [
           "GEN"
          ],
          [
           "GNRC"
          ],
          [
           "GD"
          ],
          [
           "GE"
          ],
          [
           "GIS"
          ],
          [
           "GM"
          ],
          [
           "GPC"
          ],
          [
           "GILD"
          ],
          [
           "GL"
          ],
          [
           "GPN"
          ],
          [
           "GS"
          ],
          [
           "HAL"
          ],
          [
           "HIG"
          ],
          [
           "HAS"
          ],
          [
           "HCA"
          ],
          [
           "PEAK"
          ],
          [
           "HSIC"
          ],
          [
           "HSY"
          ],
          [
           "HES"
          ],
          [
           "HPE"
          ],
          [
           "HLT"
          ],
          [
           "HOLX"
          ],
          [
           "HD"
          ],
          [
           "HON"
          ],
          [
           "HRL"
          ],
          [
           "HST"
          ],
          [
           "HWM"
          ],
          [
           "HPQ"
          ],
          [
           "HUM"
          ],
          [
           "HBAN"
          ],
          [
           "HII"
          ],
          [
           "IBM"
          ],
          [
           "IEX"
          ],
          [
           "IDXX"
          ],
          [
           "ITW"
          ],
          [
           "ILMN"
          ],
          [
           "INCY"
          ],
          [
           "IR"
          ],
          [
           "PODD"
          ],
          [
           "INTC"
          ],
          [
           "ICE"
          ],
          [
           "IFF"
          ],
          [
           "IP"
          ],
          [
           "IPG"
          ],
          [
           "INTU"
          ],
          [
           "ISRG"
          ],
          [
           "IVZ"
          ],
          [
           "INVH"
          ],
          [
           "IQV"
          ],
          [
           "IRM"
          ],
          [
           "JBHT"
          ],
          [
           "JKHY"
          ],
          [
           "J"
          ],
          [
           "JNJ"
          ],
          [
           "JCI"
          ],
          [
           "JPM"
          ],
          [
           "JNPR"
          ],
          [
           "K"
          ],
          [
           "KVUE"
          ],
          [
           "KDP"
          ],
          [
           "KEY"
          ],
          [
           "KEYS"
          ],
          [
           "KMB"
          ],
          [
           "KIM"
          ],
          [
           "KMI"
          ],
          [
           "KLAC"
          ],
          [
           "KHC"
          ],
          [
           "KR"
          ],
          [
           "LHX"
          ],
          [
           "LH"
          ],
          [
           "LRCX"
          ],
          [
           "LW"
          ],
          [
           "LVS"
          ],
          [
           "LDOS"
          ],
          [
           "LEN"
          ],
          [
           "LNC"
          ],
          [
           "LIN"
          ],
          [
           "LYV"
          ],
          [
           "LKQ"
          ],
          [
           "LMT"
          ],
          [
           "L"
          ],
          [
           "LOW"
          ],
          [
           "LYB"
          ],
          [
           "MTB"
          ],
          [
           "MRO"
          ],
          [
           "MPC"
          ],
          [
           "MKTX"
          ],
          [
           "MAR"
          ],
          [
           "MMC"
          ],
          [
           "MLM"
          ],
          [
           "MAS"
          ],
          [
           "MA"
          ],
          [
           "MTCH"
          ],
          [
           "MKC"
          ],
          [
           "MCD"
          ],
          [
           "MCK"
          ],
          [
           "MDT"
          ],
          [
           "MRK"
          ],
          [
           "META"
          ],
          [
           "MET"
          ],
          [
           "MTD"
          ],
          [
           "MGM"
          ],
          [
           "MCHP"
          ],
          [
           "MU"
          ],
          [
           "MSFT"
          ],
          [
           "MAA"
          ],
          [
           "MRNA"
          ],
          [
           "MHK"
          ],
          [
           "MOH"
          ],
          [
           "TAP"
          ],
          [
           "MDLZ"
          ],
          [
           "MPWR"
          ],
          [
           "MNST"
          ],
          [
           "MCO"
          ],
          [
           "MS"
          ],
          [
           "MOS"
          ],
          [
           "MSI"
          ],
          [
           "MSCI"
          ],
          [
           "NDAQ"
          ],
          [
           "NTAP"
          ],
          [
           "NFLX"
          ],
          [
           "NWL"
          ],
          [
           "NEM"
          ],
          [
           "NWSA"
          ],
          [
           "NWS"
          ],
          [
           "NEE"
          ],
          [
           "NKE"
          ],
          [
           "NI"
          ],
          [
           "NDSN"
          ],
          [
           "NSC"
          ],
          [
           "NTRS"
          ],
          [
           "NOC"
          ],
          [
           "NCLH"
          ],
          [
           "NRG"
          ],
          [
           "NUE"
          ],
          [
           "NVDA"
          ],
          [
           "NVR"
          ],
          [
           "NXPI"
          ],
          [
           "ORLY"
          ],
          [
           "OXY"
          ],
          [
           "ODFL"
          ],
          [
           "OMC"
          ],
          [
           "ON"
          ],
          [
           "OKE"
          ],
          [
           "ORCL"
          ],
          [
           "OGN"
          ],
          [
           "OTIS"
          ],
          [
           "PCAR"
          ],
          [
           "PKG"
          ],
          [
           "PANW"
          ],
          [
           "PARA"
          ],
          [
           "PH"
          ],
          [
           "PAYX"
          ],
          [
           "PAYC"
          ],
          [
           "PYPL"
          ],
          [
           "PNR"
          ],
          [
           "PEP"
          ],
          [
           "PFE"
          ],
          [
           "PCG"
          ],
          [
           "PM"
          ],
          [
           "PSX"
          ],
          [
           "PNW"
          ],
          [
           "PXD"
          ],
          [
           "PNC"
          ],
          [
           "POOL"
          ],
          [
           "PPG"
          ],
          [
           "PPL"
          ],
          [
           "PFG"
          ],
          [
           "PG"
          ],
          [
           "PGR"
          ],
          [
           "PLD"
          ],
          [
           "PRU"
          ],
          [
           "PEG"
          ],
          [
           "PTC"
          ],
          [
           "PSA"
          ],
          [
           "PHM"
          ],
          [
           "QRVO"
          ],
          [
           "PWR"
          ],
          [
           "QCOM"
          ],
          [
           "DGX"
          ],
          [
           "RL"
          ],
          [
           "RJF"
          ],
          [
           "RTX"
          ],
          [
           "O"
          ],
          [
           "REG"
          ],
          [
           "REGN"
          ],
          [
           "RF"
          ],
          [
           "RSG"
          ],
          [
           "RMD"
          ],
          [
           "RVTY"
          ],
          [
           "RHI"
          ],
          [
           "ROK"
          ],
          [
           "ROL"
          ],
          [
           "ROP"
          ],
          [
           "ROST"
          ],
          [
           "RCL"
          ],
          [
           "SPGI"
          ],
          [
           "CRM"
          ],
          [
           "SBAC"
          ],
          [
           "SLB"
          ],
          [
           "STX"
          ],
          [
           "SEE"
          ],
          [
           "SRE"
          ],
          [
           "NOW"
          ],
          [
           "SHW"
          ],
          [
           "SPG"
          ],
          [
           "SWKS"
          ],
          [
           "SJM"
          ],
          [
           "SNA"
          ],
          [
           "SEDG"
          ],
          [
           "SO"
          ],
          [
           "LUV"
          ],
          [
           "SWK"
          ],
          [
           "SBUX"
          ],
          [
           "STT"
          ],
          [
           "STLD"
          ],
          [
           "STE"
          ],
          [
           "SYK"
          ],
          [
           "SYF"
          ],
          [
           "SNPS"
          ],
          [
           "SYY"
          ],
          [
           "TMUS"
          ],
          [
           "TROW"
          ],
          [
           "TTWO"
          ],
          [
           "TPR"
          ],
          [
           "TRGP"
          ],
          [
           "TGT"
          ],
          [
           "TEL"
          ],
          [
           "TDY"
          ],
          [
           "TFX"
          ],
          [
           "TER"
          ],
          [
           "TSLA"
          ],
          [
           "TXN"
          ],
          [
           "TXT"
          ],
          [
           "TMO"
          ],
          [
           "TJX"
          ],
          [
           "TSCO"
          ],
          [
           "TT"
          ],
          [
           "TDG"
          ],
          [
           "TRV"
          ],
          [
           "TRMB"
          ],
          [
           "TFC"
          ],
          [
           "TYL"
          ],
          [
           "TSN"
          ],
          [
           "USB"
          ],
          [
           "UDR"
          ],
          [
           "ULTA"
          ],
          [
           "UNP"
          ],
          [
           "UAL"
          ],
          [
           "UPS"
          ],
          [
           "URI"
          ],
          [
           "UNH"
          ],
          [
           "UHS"
          ],
          [
           "VLO"
          ],
          [
           "VTR"
          ],
          [
           "VRSN"
          ],
          [
           "VRSK"
          ],
          [
           "VZ"
          ],
          [
           "VRTX"
          ],
          [
           "VFC"
          ],
          [
           "VTRS"
          ],
          [
           "VICI"
          ],
          [
           "V"
          ],
          [
           "VMC"
          ],
          [
           "WAB"
          ],
          [
           "WBA"
          ],
          [
           "WMT"
          ],
          [
           "WBD"
          ],
          [
           "WM"
          ],
          [
           "WAT"
          ],
          [
           "WEC"
          ],
          [
           "WFC"
          ],
          [
           "WELL"
          ],
          [
           "WST"
          ],
          [
           "WDC"
          ],
          [
           "WRK"
          ],
          [
           "WY"
          ],
          [
           "WHR"
          ],
          [
           "WMB"
          ],
          [
           "WTW"
          ],
          [
           "GWW"
          ],
          [
           "WYNN"
          ],
          [
           "XEL"
          ],
          [
           "XYL"
          ],
          [
           "YUM"
          ],
          [
           "ZBRA"
          ],
          [
           "ZBH"
          ],
          [
           "ZION"
          ],
          [
           "ZTS"
          ]
         ],
         "hovertemplate": "Risk=%{x}<br>Return=%{y}<br>Ticker=%{customdata[0]}<extra></extra>",
         "legendgroup": "",
         "marker": {
          "color": "#636efa",
          "symbol": "circle"
         },
         "mode": "markers",
         "name": "",
         "orientation": "v",
         "showlegend": false,
         "type": "scatter",
         "x": [
          0.08448731613490196,
          0.12705055076347044,
          0.09480693771297838,
          0.044106027598142264,
          0.05779049812899072,
          0.06959297588623338,
          0.055348492026589625,
          0.09015952299984954,
          0.12358100732843053,
          0.09813163356897495,
          0.07814434967967201,
          0.10378651349227659,
          0.12753294468103213,
          0.03892287417662788,
          0.03802393032482626,
          0.0703867946555823,
          0.05282317200898737,
          0.07814517662341629,
          0.052912812735009015,
          0.07563836073221558,
          0.06276620564692588,
          0.1282875128222262,
          0.15607270859198458,
          0.08738193039879198,
          0.05966332392556942,
          0.06410523896788442,
          0.17353633441517977,
          0.04678151537439515,
          0.17258794035826808,
          0.05898847763556054,
          0.046968526183202436,
          0.0839407404744521,
          0.09645920102313159,
          0.10380557903453831,
          0.09393922341682137,
          0.11861224638157633,
          0.0789915174314176,
          0.0742519601830981,
          0.16151715987523146,
          0.052053574035483524,
          0.07215472432736492,
          0.10984707120688478,
          0.09159466372896999,
          0.04368977479188083,
          0.27150003671104195,
          0.042979208397469985,
          0.11778564570315408,
          0.06686192340699963,
          0.053552241588856894,
          0.1301183977891523,
          0.1173469269016194,
          0.07972845537866423,
          0.12277781901695499,
          0.07892527708602987,
          0.11406984325683411,
          0.031508435120712865,
          0.13607216896251867,
          0.09937928467164137,
          0.050806816217987834,
          0.08519174136739865,
          null,
          0.05168482833391579,
          0.11176703586049727,
          0.10323938565925053,
          0.10028479253894758,
          0.07240665271358965,
          0.08470368068276549,
          0.07287421345765001,
          0.0585784267240285,
          0.09057651529861574,
          null,
          0.08285257298973117,
          0.054869180387582386,
          0.11662987255523842,
          0.08838973168695481,
          0.06791122859321276,
          0.06470622655975451,
          0.0975078707756629,
          0.07772412078233382,
          0.09580640772179828,
          0.055994757784503794,
          0.06848000571912599,
          0.09395507825509146,
          0.10863050564724357,
          0.14082763576831123,
          0.16261800332468823,
          0.12985071845628748,
          0.07180835716602053,
          0.07218024839690837,
          0.1692134526343085,
          0.15287089683206861,
          0.10158859846657768,
          0.062114314198090666,
          0.06509956513420774,
          0.09267704813935207,
          0.07718668855067035,
          0.07417525743125161,
          0.04052243983570712,
          0.08062929308151347,
          0.10044025795156068,
          0.06107663252701727,
          0.053392380285911444,
          0.12299986615744242,
          0.0684616437644543,
          0.04247715243270266,
          0.07936996798847082,
          0.03571362702551861,
          0.10158457590452039,
          0.0660688837045332,
          0.10535616170082115,
          0.0800799146787536,
          0.05922254072430739,
          0.0925332301695795,
          0.07912227431714176,
          0.12724195917137784,
          0.1338321002649599,
          0.05745747899273673,
          0.1018932480738661,
          0.06844583463581404,
          0.06941698288650823,
          0.11256588061907992,
          0.15026631647172364,
          0.06865322632198101,
          0.06397136316540485,
          0.06684226264956447,
          0.07316852947575468,
          0.18070682511001543,
          0.040586289532188354,
          0.08673223897836281,
          0.06496275289153704,
          0.07555050039203928,
          0.09596571904373545,
          0.09024634236878118,
          0.0840660419943627,
          0.12436520581951133,
          0.08939112543225503,
          0.09409169755925839,
          0.06349016718045743,
          0.09333506660595715,
          0.0484302144680645,
          0.08492920817489825,
          0.11655099873409827,
          0.05904273174011443,
          0.032480589788941,
          0.03902617077740389,
          0.0650221555296428,
          0.12791431666827274,
          0.09300959236056788,
          0.15900451347748948,
          0.080606631672289,
          0.10047932748492597,
          0.1001469330413335,
          0.05090046423881469,
          0.1074260712526081,
          0.051158936974972334,
          0.04365961273775121,
          0.10700565727312504,
          0.08111285546399935,
          0.06880697987663689,
          0.06014797853289307,
          0.21890701410177976,
          0.09406593517605345,
          0.15087263197666131,
          0.0782776687354042,
          0.045607329956276296,
          0.14224395494768735,
          0.0561220228036368,
          0.0551959373455994,
          0.05856698442595419,
          0.05626850950945833,
          0.18104073318072555,
          0.04143519349036055,
          0.09600123385834163,
          0.042347684957242095,
          0.06081961084286538,
          0.09748384804692424,
          0.07106613517100457,
          0.17909899334279758,
          0.13076343128811296,
          0.06696730743696964,
          0.13026839100688792,
          0.0687605404749323,
          0.05796583705707854,
          0.022027761523020484,
          0.1287789273774837,
          0.07455325640826908,
          0.19445979692009616,
          0.09273944139671642,
          0.09541327975968895,
          0.08177649938799525,
          0.0609689243596727,
          0.09057478003295462,
          0.09603669508711192,
          0.068780370381093,
          0.12185211140155394,
          0.1461485590946716,
          0.053338796869069054,
          0.0434586872136927,
          0.10465262100695812,
          null,
          0.05848710529786116,
          0.049857601348365935,
          0.03900377890609806,
          0.05642642126893663,
          0.13306891022564837,
          0.13351242584716297,
          0.15345301423252897,
          0.08696401842538203,
          0.0860384968261676,
          0.06689946260794734,
          0.08207173588882254,
          0.08086289118084979,
          0.10183180030810528,
          0.05673474199981827,
          0.11558387367182323,
          0.09265970586907768,
          0.1281617766489134,
          0.09025239425957204,
          0.08404865386230177,
          0.11873984817026666,
          0.05290298661656283,
          0.059069800198805276,
          0.09520750068120433,
          0.08328789776104543,
          0.05191009029884495,
          0.08158303721814647,
          0.08063812026391147,
          0.048682861965670406,
          0.07184716971896314,
          0.08868214765148992,
          0.04065889952669881,
          0.21294198273820317,
          0.07828984455741728,
          0.07570343476069387,
          0.053855761076439926,
          0.12249704930695673,
          0.06223553727299875,
          0.07339700824673594,
          0.22079742889633414,
          0.07674717971697129,
          0.09892744069735544,
          0.10705458598856599,
          0.06329473128920778,
          0.06863132142006287,
          0.0951604907438601,
          0.08261156628782634,
          0.06462782308446392,
          0.08733756257462252,
          0.12235274913418626,
          0.11440946058138247,
          0.039675399178811875,
          0.10620410640382859,
          0.08193854689618423,
          0.07508796666027244,
          0.06041223401090021,
          0.08127035670885432,
          0.044580760548867934,
          0.10058887685170996,
          0.09781626693852911,
          0.04999022181571415,
          0.051861235822787545,
          0.09529405189817737,
          0.09161509317345785,
          0.04234510673260037,
          0.07277202562794609,
          0.17184155116727096,
          0.055756036834085004,
          0.0422284152221721,
          0.09952677772746438,
          0.03426831402909035,
          0.11241091724172522,
          null,
          0.05700408050861572,
          0.08490575639247148,
          0.1297133010506859,
          0.059516598739156525,
          0.08630949469395918,
          0.05917617804352535,
          0.06395896406042134,
          0.06595496802436886,
          0.055555570729695684,
          0.09459537619547623,
          0.0435254042043594,
          0.09242367888274176,
          0.16880644264405595,
          0.07644981623840869,
          0.18660397015598326,
          0.09788141108414765,
          0.08616419917521083,
          0.08991771922230993,
          0.11241955793222311,
          0.07358131853050452,
          0.08650283765653931,
          0.06331070952040432,
          0.04492405151121912,
          0.14100615487401816,
          0.056287057600465734,
          0.09288184213086487,
          0.0378501168009578,
          0.036993956717369686,
          0.056498127472427995,
          0.10525588183826828,
          0.10649292621152633,
          0.09600850781689305,
          0.08187240490663966,
          0.100532030356948,
          0.07864795336218074,
          0.06699104901745805,
          0.06788805640910503,
          0.08783909901896218,
          0.05052792764631785,
          0.09231086052633691,
          0.13778257406855676,
          0.07444213908085909,
          0.16007357377835152,
          0.04990128706029694,
          0.21966282912465387,
          0.14070338482691566,
          0.10413872610670218,
          0.11112011130285827,
          0.08750115341732703,
          0.06769793271200937,
          0.1176636402546304,
          0.10631494635365403,
          0.09018459174192572,
          0.11138865024459248,
          0.14722125491729235,
          0.0725675095294329,
          0.06357480237707369,
          0.13475134800867647,
          0.0866488873876301,
          0.2849116818942983,
          0.06247564579834621,
          0.06929055005944537,
          0.09126052138948536,
          0.18682786921360586,
          0.07356697577916345,
          0.061862187412027723,
          0.0889315913638839,
          0.10840977333644472,
          0.16105332767912062,
          0.15367484928062422,
          0.09899298723379334,
          0.051670808583514416,
          0.08635427298951401,
          0.08347457203107876,
          0.14517592480209762,
          0.05504429562716324,
          0.1003448168157043,
          0.07498468476846346,
          0.07515547787610652,
          0.06948770325456533,
          0.17589496699493326,
          0.059519569900687526,
          0.0755739899238247,
          0.06674557704110377,
          0.15935640338752774,
          0.1586029748509676,
          0.157835971218342,
          0.17156524036541765,
          0.08070563158783768,
          0.0789248305342404,
          0.10286773951237767,
          0.04807710613462773,
          0.03784971475685507,
          0.03257567870158519,
          0.08116258431510835,
          0.0626089970555013,
          0.051012025678957754,
          0.05888350238190172,
          0.06444369847868552,
          0.12563090881059166,
          0.1030942971066442,
          0.06928924994369398,
          0.047831843954248617,
          0.08948002460338622,
          0.07254022511057595,
          0.052436884992651804,
          0.24455121512350889,
          0.09105474821499657,
          0.0541127365446077,
          0.021390162716705702,
          0.06717479988349931,
          0.0611847536465795,
          0.0891670681602945,
          0.0970691539960665,
          0.10901019890314849,
          0.08098167442394254,
          0.12606032991314764,
          0.12652792214873182,
          0.11612090204028898,
          0.12367542058979997,
          0.06431514274953848,
          0.07857849508859431,
          0.12209639698327958,
          0.06288322376328312,
          0.10106848440261655,
          0.08746217198102836,
          0.11426219867498014,
          0.06492536486507418,
          0.0971489367226035,
          0.0572574203705463,
          0.09104314392583666,
          0.04778610637817507,
          0.060296905772699604,
          0.09033800521797615,
          0.10129459528941322,
          0.06954330897759713,
          0.08799550220098466,
          0.19457057902209873,
          0.05911966612563716,
          0.06825826553804443,
          0.056468719065639494,
          0.10769144436340859,
          0.06479540660224554,
          0.12316216670215589,
          0.039370163872788896,
          0.06857587700239844,
          0.07593590200064453,
          0.05182335956780315,
          0.07525394148020788,
          0.14588986722350733,
          0.11099589214570017,
          0.13190875029309945,
          0.05583346566719929,
          0.07828466419109141,
          0.10386600211536866,
          0.10781870965928318,
          0.06281525020221695,
          0.05560681192665882,
          0.12036452690310162,
          0.09198471475354283,
          0.06400456493954934,
          0.080755171771466,
          0.16101112139251839,
          0.08663639006645082,
          0.2627338444972956,
          0.08379425145052781,
          0.08881827433868898,
          0.06685125163768946,
          0.07638530663234186,
          0.08770605164547968,
          0.11048528559902152,
          0.10697923240091863,
          0.07094301172072738,
          0.10706096330094947,
          0.10430709342960348,
          0.07076543079070702,
          0.09586499392241409,
          0.2084535565927628,
          0.04993140318632358,
          0.08223845540010191,
          0.18658245913815574,
          0.08784030541307829,
          0.09228181225566864,
          0.12730798048481706,
          0.10515577464754569,
          0.058198265851562465,
          0.07263054810928476,
          0.10095058638230489,
          0.06439490769741771,
          0.05331550330863209,
          0.15574236583685094,
          0.12679330700230518,
          0.1072151840361573,
          0.12675421618970018,
          0.11352437255210719,
          0.06131263169267681,
          0.0907521843287945,
          0.07611139763220226,
          0.07293990562048878,
          0.07559887447286777,
          0.07672180360143022,
          0.07162947661830278,
          0.05933371581278397,
          0.06069728078692744,
          0.08801344102013765,
          0.07438289261702709,
          0.06269130565622719,
          0.2587389920333967,
          0.11887687276993937,
          0.04808998442960773,
          0.069375915871063,
          0.08661424746099171,
          0.10222768722436898,
          0.04156529478624723,
          0.06177512197913478,
          0.05351331471690782,
          0.06735539542392552,
          0.0946934313694154,
          0.11570261866915801,
          0.06139439593309918,
          0.08706933285235048,
          0.13083137384864743,
          0.044450171680772296,
          0.08742174891293907,
          0.055087701396620045,
          0.0712795999866843,
          0.06547974513613596,
          0.05567376331373169,
          0.10039754582207921,
          0.11284118585803882,
          0.08889808696545952
         ],
         "xaxis": "x",
         "y": [
          0.023461522160245774,
          -0.2312267900438848,
          -0.26837530760437,
          0.24012809370250987,
          0.26302174663774625,
          -0.18416002111631546,
          0.3815332954664671,
          -0.3544112095238344,
          -0.41390667005688375,
          0.008767568470264275,
          0.3806015936123278,
          0.03731553697845835,
          -0.30534219954099884,
          0.05390676314038434,
          0.13017022771566822,
          0.2539555949879395,
          0.26403055308990364,
          0.17256950363063095,
          -0.16204740983723898,
          0.17012335165400938,
          -0.287321093036634,
          0.07158930754281723,
          -0.9390753785045056,
          -0.14615066906641938,
          0.20826914714310396,
          -0.1432471741374981,
          -0.35911960457539416,
          0.08018930786794098,
          -0.6552486664455165,
          0.008565316603006634,
          0.2015841378958828,
          0.10249427482546702,
          -0.22528492867765404,
          -0.5822844392149344,
          -0.06758370261824143,
          -0.4070734718130625,
          0.06953623519465446,
          -0.3113376335937601,
          0.6985190229495721,
          0.10709051092454491,
          -0.07267362205591232,
          -0.4431608774172221,
          -0.3335397222360065,
          0.11658283038904704,
          0.17281163151115253,
          -0.3783243459520146,
          -0.07030528012412851,
          -0.08166267767415503,
          -0.1357727989076305,
          0.21868152278041342,
          -0.054180825424649526,
          0.23107185688531884,
          0.021372660562183565,
          -0.25791720503124604,
          -0.5011563542973454,
          -0.46941430093474923,
          -0.29999485254015834,
          -0.09555420466846298,
          0.07193404719809204,
          -0.1192551590497326,
          null,
          0.1404409228832184,
          0.23743536507565788,
          -0.47546986073339437,
          -0.17066601859607733,
          -0.1098994269530934,
          0.2919487683055467,
          -0.15737982653394944,
          0.20071502328529844,
          -0.23624231852118893,
          null,
          -0.12847836196249218,
          0.10728936539804723,
          -0.023926796809645268,
          -0.4828736838492337,
          -0.23967545638132515,
          0.19447845437861522,
          0.45913193789620144,
          -0.16913911961961048,
          0.22515470639572766,
          0.18399155065406336,
          0.008643129870186894,
          -0.2868617837013443,
          -0.3426593685680689,
          -0.6764510853982907,
          -0.3296776583254354,
          -0.04881237390711546,
          -0.07822371048204713,
          -0.38957835642150807,
          0.8725088705367061,
          0.32540660481908745,
          -0.12085504204046738,
          -0.1902212350044452,
          -0.0847613624036454,
          -0.5621912648355636,
          0.3980457069039105,
          -0.021827600072548026,
          -0.02685480256360384,
          -0.13691032717271479,
          -0.1784399940018374,
          -0.30142308939649,
          -0.21556070025599927,
          -0.11515826496866022,
          0.1648207424106355,
          0.033763301770587284,
          0.04494343025054559,
          0.13218269060750742,
          -0.35716981669030246,
          -0.18489937144757196,
          0.610696392241673,
          -0.15995275460174607,
          0.3211633539818963,
          -0.13060021073206307,
          -0.3921370573880886,
          -0.4053740862579134,
          -0.5445026748980974,
          -0.20758455731393777,
          0.07590091352246253,
          -0.12741044981523209,
          0.11018242580870674,
          -0.8666594004575437,
          0.42847495648172484,
          -0.3734821378909421,
          0.2756918174317413,
          -0.05366479071346797,
          0.498270652066114,
          -0.5650725340211853,
          -0.18137839217867335,
          -0.09869987307344208,
          -0.08777857850586201,
          0.27706273131340187,
          -0.09242681295298938,
          0.10767438289816345,
          0.001014765064236145,
          -0.05890830509935863,
          -0.11320968986583735,
          -0.5206616798045894,
          -0.4603330790498934,
          0.08613910705867545,
          -0.2202175802222215,
          -0.026153418202652046,
          -0.3973238156371002,
          0.020255638600724324,
          0.03969772805602578,
          0.05695190556664431,
          -0.32821265972569846,
          0.5229384240493608,
          -0.09225410389564248,
          0.007170190953038946,
          -0.059925220326093154,
          -0.3849758788393235,
          -0.3828818390406977,
          0.17157944338204556,
          -0.2958856175442922,
          0.2584885269899527,
          0.021037487407650435,
          -0.302162028983628,
          0.14668682785866727,
          -0.290279137614848,
          0.10479596474551989,
          0.6218198704465594,
          0.5249824096450986,
          -0.2750979247290487,
          -0.16266146041655838,
          -0.3621546673945695,
          0.6208106816118081,
          -0.002799460516604624,
          -0.44342012788746665,
          -0.011174487412907275,
          0.07604085579274178,
          -0.26630208937211486,
          -0.016589342115011063,
          -0.46240841989287595,
          0.12487647959323923,
          -0.16876466235979026,
          -0.610832908601338,
          -0.30740631872680146,
          -0.4747966647216534,
          0.37626419715733006,
          -0.20502816698065074,
          0.0730013919912762,
          -0.12003672371504703,
          -0.28622922488469915,
          0.0822700505121099,
          -0.45570752671612147,
          -0.016783336615131206,
          0.4207375775187988,
          -0.3852909835312225,
          -0.20814816134473124,
          -0.17021562575614935,
          0.1840884849200798,
          -0.14538993095268504,
          -0.15036495884730428,
          -0.22050712884678159,
          0.6573391840689414,
          -0.16178543269772006,
          -0.08720695091311648,
          0.22877674391693026,
          -0.07330179440601181,
          -0.6404653647057862,
          -0.12554161904166017,
          0.24384430766740472,
          0.27449311241248775,
          0.27712890876082463,
          -0.07165318308886137,
          -0.4970226203693517,
          -0.9891210100978232,
          -0.416604613406411,
          -0.42216041608949595,
          0.28369589796375627,
          -0.2671951135678353,
          -0.29133919488616355,
          -0.0719703188316857,
          0.13960128470833,
          0.6391443162570479,
          -0.4228865768861817,
          -0.012620119466634994,
          0.043482459285691055,
          -0.18379307644795506,
          0.7263045218184934,
          0.14249010865494238,
          0.2730881204112511,
          -0.13008635501549504,
          0.05926468339804836,
          0.08707321121693956,
          0.08008758967869734,
          -0.22813043350788553,
          -0.03173714940217098,
          0.06423052940139329,
          0.015338648438031122,
          0.2212914834938744,
          0.1573607360513396,
          0.25663428353703366,
          0.11146124904751853,
          -0.2128481137092615,
          -0.34495855633099926,
          0.034908832124235456,
          -0.2694505765067342,
          -0.4801682248407828,
          0.1173557620647816,
          -0.5877924643774384,
          -0.36329349258652255,
          -0.34813964261406205,
          -0.21476527258090883,
          -0.02787377997775775,
          -0.22160678647846177,
          -0.07127117197315003,
          0.07999653341908841,
          -0.20816286947151097,
          0.10707161139534704,
          -0.04133569760384037,
          -0.12429890545176815,
          -0.1009979222338051,
          -0.07848546857698191,
          -0.1377084974633308,
          0.06517327912996806,
          0.07027209943744572,
          -0.029124221100467973,
          -0.11209986260522509,
          0.15478864804374914,
          0.013943692762186433,
          -0.20153129508642542,
          -0.11441688294463859,
          0.19272285974944758,
          -0.0647907896934733,
          -0.012016905025704627,
          0.01122406052444791,
          0.19909995201651554,
          -0.5959137811723784,
          0.11865933736252576,
          0.06065390277412619,
          null,
          0.03533565773402547,
          0.19821827054528807,
          -0.09894976937620503,
          -0.18548732737949503,
          0.04811253776361646,
          0.021023438376397863,
          -0.013705138458342647,
          0.34765504107681544,
          0.37753493792671433,
          -0.6100392237019546,
          -0.037370420428278206,
          -0.17506265692714873,
          -0.3852125490793,
          -0.19752617232119185,
          0.37283920152845085,
          0.3916835080334683,
          0.03887810154547888,
          -0.4539870240473498,
          -0.007374543721786808,
          -0.30285766783046786,
          -0.021400886785800544,
          -0.3122827422754998,
          0.022569202120647502,
          -0.10136766256156637,
          0.4483498974093334,
          -0.2499417933823432,
          0.05525079350061535,
          -0.2491567219341759,
          0.1957388983554863,
          -0.8155594273550975,
          -0.18834466801373528,
          -0.47986218334899555,
          -0.09323477126548885,
          -0.2700874483938517,
          -0.20168696732789415,
          0.03581969198436863,
          -0.31459164360137015,
          0.09411210523775693,
          0.062004679614034997,
          0.08539020727738345,
          0.24410805635828103,
          0.663764509547659,
          -0.14212872441893298,
          0.418560483318127,
          -0.013693880412241954,
          0.6208376009763815,
          -0.07822615396539101,
          -0.15951817677177238,
          -0.2621258778048704,
          0.02249846901608188,
          0.0034883481666252436,
          -0.9728744556844698,
          -0.0791027929283028,
          -0.5306947209900797,
          -0.31623711690439915,
          -0.045365194937681874,
          -0.009094315416827481,
          -0.02306687049543399,
          -0.14311994984222864,
          -0.4399451657153032,
          0.06105514782354204,
          -0.24201049581537393,
          0.4110514890073679,
          -0.33049229980949946,
          -0.1979839356086024,
          -0.10935544970771183,
          -0.34670459979138957,
          -0.22194857375925903,
          0.2801174615012715,
          -0.5238690280288848,
          -0.1571957964372237,
          -0.3882106081639156,
          -0.13866925393869267,
          -0.14849986406986404,
          -0.25588991727520116,
          -0.04652524677377479,
          -0.10678155338158857,
          -0.0224382541879542,
          0.21079530633842802,
          0.1911998373736985,
          0.06774901957179402,
          -0.009545670320581734,
          0.2364209227212094,
          -0.03927970856458762,
          0.8638074095031484,
          -0.14647047055400464,
          -0.44758124290466916,
          -0.12491141596355726,
          -0.085875747364061,
          0.1886250480578553,
          0.34968146162313374,
          -0.2858687852686944,
          -0.015335906124227637,
          0.08871680698623519,
          -0.03324148635244306,
          0.2192763885392527,
          -0.023599354376237835,
          0.2767624864090409,
          -0.016829085970706426,
          -0.09909463414777164,
          0.029243420396800168,
          -0.2962047234730274,
          0.13940509649515498,
          -0.19772807359467404,
          -0.3845444695642031,
          0.16379260444356158,
          0.21983304849726937,
          -0.4946330199873523,
          -0.2244220256086792,
          0.028250503021445272,
          -0.012138946255376037,
          -0.15938051746643356,
          0.43463608898906814,
          0.05039013057150943,
          0.3160487482752964,
          0.38526723194495227,
          -0.8300333962252897,
          -0.3965657122465416,
          -0.45612150092724923,
          -0.2650226028327294,
          -0.11291733542422577,
          0.19457383860171595,
          0.04830439404337272,
          -0.3089632811385076,
          0.10974211339459083,
          -0.0044013755080470895,
          -0.15814703747164383,
          -0.18923441142474806,
          0.1392516837093899,
          -0.0556853189906642,
          0.1435528002930646,
          -0.009605708499343946,
          0.20544250783571905,
          -0.2421987642800283,
          -0.2414478723873369,
          -0.07544450788748414,
          0.04694832453694242,
          0.25006798514171524,
          -0.2181979175171357,
          -0.2852722375419491,
          0.20354335989550132,
          0.6590984300925951,
          0.12878812708288312,
          -0.03474435964207245,
          0.11092662272903908,
          -0.19744268824814304,
          -0.2645806420514045,
          0.2449537640888547,
          -0.20976792870276695,
          0.5794156706776796,
          -0.08282871070128894,
          -0.6335730240959287,
          -0.046597326893116686,
          -0.7805594508096949,
          -0.4472117622442048,
          -0.23819310540052285,
          -0.03197485086341645,
          0.032848058834025196,
          0.066371396897,
          0.15377350939301748,
          0.06818299925281968,
          -0.05640195889124122,
          -0.2986523476110722,
          -0.26632017958745446,
          -0.4967580124858034,
          -0.24780511992012674,
          -0.22705302778480818,
          -0.3086019825369384,
          0.12416150480431722,
          -0.10473308268296111,
          0.24443537511993862,
          0.07963345912993613,
          0.42817119854073216,
          -0.4498735599704188,
          -0.4489274364167951,
          0.232499164498573,
          0.034534879409416575,
          -0.9618745436236226,
          -0.28390197614485624,
          -0.08430599479386125,
          -0.44187840664760647,
          -0.06411643190579763,
          -0.018633943535614872,
          -0.3995895248174234,
          -0.0400392097709964,
          -0.36701372592485026,
          0.14966114118894724,
          0.19393527360047746,
          0.09621591822324926,
          -0.12286901190750987,
          -0.12351304839081334,
          0.1566339298804441,
          -0.18968510601744826,
          -0.009278388863568021,
          -0.8334599368046637,
          0.16293122535742732,
          0.6331376796559518,
          -0.11470503466811488,
          -0.18231674295894917,
          -0.14459536718923283,
          0.3106000493005785,
          -0.05704805686176828,
          -0.10833107433732891,
          -0.2069422111277307,
          0.13687448116364098,
          -0.006105190264487859,
          -0.26019587990122706,
          -0.7838744310473607,
          -0.6239063430924146,
          0.03201852201488309,
          -0.1960613069755005,
          -0.12695184798453463,
          -0.37969645512071426,
          0.002173593385077277,
          0.30770737062826603,
          0.03167198904771806,
          0.33694068755686324,
          -0.13884452187418828,
          -0.5471544756707413,
          0.08310046410594718,
          -0.16603348946055474,
          0.1046293606126274,
          0.08493816539312016,
          0.6517502235378672,
          -0.4987642410853332,
          0.018623024177210068,
          -0.01607815681614644,
          0.07124408409165572,
          -0.7133804064234708,
          -0.16848918647571276,
          -0.4097058522938387
         ],
         "yaxis": "y"
        },
        {
         "line": {
          "color": "gray",
          "dash": "dash",
          "width": 2
         },
         "mode": "lines",
         "name": "Zero Return Line",
         "type": "scatter",
         "x": [
          0.021390162716705702,
          0.2849116818942983
         ],
         "y": [
          0,
          0
         ]
        }
       ],
       "layout": {
        "hoverlabel": {
         "bgcolor": "white",
         "font": {
          "family": "Rockwell",
          "size": 16
         }
        },
        "legend": {
         "tracegroupgap": 0
        },
        "margin": {
         "t": 60
        },
        "template": {
         "data": {
          "bar": [
           {
            "error_x": {
             "color": "#2a3f5f"
            },
            "error_y": {
             "color": "#2a3f5f"
            },
            "marker": {
             "line": {
              "color": "#E5ECF6",
              "width": 0.5
             },
             "pattern": {
              "fillmode": "overlay",
              "size": 10,
              "solidity": 0.2
             }
            },
            "type": "bar"
           }
          ],
          "barpolar": [
           {
            "marker": {
             "line": {
              "color": "#E5ECF6",
              "width": 0.5
             },
             "pattern": {
              "fillmode": "overlay",
              "size": 10,
              "solidity": 0.2
             }
            },
            "type": "barpolar"
           }
          ],
          "carpet": [
           {
            "aaxis": {
             "endlinecolor": "#2a3f5f",
             "gridcolor": "white",
             "linecolor": "white",
             "minorgridcolor": "white",
             "startlinecolor": "#2a3f5f"
            },
            "baxis": {
             "endlinecolor": "#2a3f5f",
             "gridcolor": "white",
             "linecolor": "white",
             "minorgridcolor": "white",
             "startlinecolor": "#2a3f5f"
            },
            "type": "carpet"
           }
          ],
          "choropleth": [
           {
            "colorbar": {
             "outlinewidth": 0,
             "ticks": ""
            },
            "type": "choropleth"
           }
          ],
          "contour": [
           {
            "colorbar": {
             "outlinewidth": 0,
             "ticks": ""
            },
            "colorscale": [
             [
              0,
              "#0d0887"
             ],
             [
              0.1111111111111111,
              "#46039f"
             ],
             [
              0.2222222222222222,
              "#7201a8"
             ],
             [
              0.3333333333333333,
              "#9c179e"
             ],
             [
              0.4444444444444444,
              "#bd3786"
             ],
             [
              0.5555555555555556,
              "#d8576b"
             ],
             [
              0.6666666666666666,
              "#ed7953"
             ],
             [
              0.7777777777777778,
              "#fb9f3a"
             ],
             [
              0.8888888888888888,
              "#fdca26"
             ],
             [
              1,
              "#f0f921"
             ]
            ],
            "type": "contour"
           }
          ],
          "contourcarpet": [
           {
            "colorbar": {
             "outlinewidth": 0,
             "ticks": ""
            },
            "type": "contourcarpet"
           }
          ],
          "heatmap": [
           {
            "colorbar": {
             "outlinewidth": 0,
             "ticks": ""
            },
            "colorscale": [
             [
              0,
              "#0d0887"
             ],
             [
              0.1111111111111111,
              "#46039f"
             ],
             [
              0.2222222222222222,
              "#7201a8"
             ],
             [
              0.3333333333333333,
              "#9c179e"
             ],
             [
              0.4444444444444444,
              "#bd3786"
             ],
             [
              0.5555555555555556,
              "#d8576b"
             ],
             [
              0.6666666666666666,
              "#ed7953"
             ],
             [
              0.7777777777777778,
              "#fb9f3a"
             ],
             [
              0.8888888888888888,
              "#fdca26"
             ],
             [
              1,
              "#f0f921"
             ]
            ],
            "type": "heatmap"
           }
          ],
          "heatmapgl": [
           {
            "colorbar": {
             "outlinewidth": 0,
             "ticks": ""
            },
            "colorscale": [
             [
              0,
              "#0d0887"
             ],
             [
              0.1111111111111111,
              "#46039f"
             ],
             [
              0.2222222222222222,
              "#7201a8"
             ],
             [
              0.3333333333333333,
              "#9c179e"
             ],
             [
              0.4444444444444444,
              "#bd3786"
             ],
             [
              0.5555555555555556,
              "#d8576b"
             ],
             [
              0.6666666666666666,
              "#ed7953"
             ],
             [
              0.7777777777777778,
              "#fb9f3a"
             ],
             [
              0.8888888888888888,
              "#fdca26"
             ],
             [
              1,
              "#f0f921"
             ]
            ],
            "type": "heatmapgl"
           }
          ],
          "histogram": [
           {
            "marker": {
             "pattern": {
              "fillmode": "overlay",
              "size": 10,
              "solidity": 0.2
             }
            },
            "type": "histogram"
           }
          ],
          "histogram2d": [
           {
            "colorbar": {
             "outlinewidth": 0,
             "ticks": ""
            },
            "colorscale": [
             [
              0,
              "#0d0887"
             ],
             [
              0.1111111111111111,
              "#46039f"
             ],
             [
              0.2222222222222222,
              "#7201a8"
             ],
             [
              0.3333333333333333,
              "#9c179e"
             ],
             [
              0.4444444444444444,
              "#bd3786"
             ],
             [
              0.5555555555555556,
              "#d8576b"
             ],
             [
              0.6666666666666666,
              "#ed7953"
             ],
             [
              0.7777777777777778,
              "#fb9f3a"
             ],
             [
              0.8888888888888888,
              "#fdca26"
             ],
             [
              1,
              "#f0f921"
             ]
            ],
            "type": "histogram2d"
           }
          ],
          "histogram2dcontour": [
           {
            "colorbar": {
             "outlinewidth": 0,
             "ticks": ""
            },
            "colorscale": [
             [
              0,
              "#0d0887"
             ],
             [
              0.1111111111111111,
              "#46039f"
             ],
             [
              0.2222222222222222,
              "#7201a8"
             ],
             [
              0.3333333333333333,
              "#9c179e"
             ],
             [
              0.4444444444444444,
              "#bd3786"
             ],
             [
              0.5555555555555556,
              "#d8576b"
             ],
             [
              0.6666666666666666,
              "#ed7953"
             ],
             [
              0.7777777777777778,
              "#fb9f3a"
             ],
             [
              0.8888888888888888,
              "#fdca26"
             ],
             [
              1,
              "#f0f921"
             ]
            ],
            "type": "histogram2dcontour"
           }
          ],
          "mesh3d": [
           {
            "colorbar": {
             "outlinewidth": 0,
             "ticks": ""
            },
            "type": "mesh3d"
           }
          ],
          "parcoords": [
           {
            "line": {
             "colorbar": {
              "outlinewidth": 0,
              "ticks": ""
             }
            },
            "type": "parcoords"
           }
          ],
          "pie": [
           {
            "automargin": true,
            "type": "pie"
           }
          ],
          "scatter": [
           {
            "fillpattern": {
             "fillmode": "overlay",
             "size": 10,
             "solidity": 0.2
            },
            "type": "scatter"
           }
          ],
          "scatter3d": [
           {
            "line": {
             "colorbar": {
              "outlinewidth": 0,
              "ticks": ""
             }
            },
            "marker": {
             "colorbar": {
              "outlinewidth": 0,
              "ticks": ""
             }
            },
            "type": "scatter3d"
           }
          ],
          "scattercarpet": [
           {
            "marker": {
             "colorbar": {
              "outlinewidth": 0,
              "ticks": ""
             }
            },
            "type": "scattercarpet"
           }
          ],
          "scattergeo": [
           {
            "marker": {
             "colorbar": {
              "outlinewidth": 0,
              "ticks": ""
             }
            },
            "type": "scattergeo"
           }
          ],
          "scattergl": [
           {
            "marker": {
             "colorbar": {
              "outlinewidth": 0,
              "ticks": ""
             }
            },
            "type": "scattergl"
           }
          ],
          "scattermapbox": [
           {
            "marker": {
             "colorbar": {
              "outlinewidth": 0,
              "ticks": ""
             }
            },
            "type": "scattermapbox"
           }
          ],
          "scatterpolar": [
           {
            "marker": {
             "colorbar": {
              "outlinewidth": 0,
              "ticks": ""
             }
            },
            "type": "scatterpolar"
           }
          ],
          "scatterpolargl": [
           {
            "marker": {
             "colorbar": {
              "outlinewidth": 0,
              "ticks": ""
             }
            },
            "type": "scatterpolargl"
           }
          ],
          "scatterternary": [
           {
            "marker": {
             "colorbar": {
              "outlinewidth": 0,
              "ticks": ""
             }
            },
            "type": "scatterternary"
           }
          ],
          "surface": [
           {
            "colorbar": {
             "outlinewidth": 0,
             "ticks": ""
            },
            "colorscale": [
             [
              0,
              "#0d0887"
             ],
             [
              0.1111111111111111,
              "#46039f"
             ],
             [
              0.2222222222222222,
              "#7201a8"
             ],
             [
              0.3333333333333333,
              "#9c179e"
             ],
             [
              0.4444444444444444,
              "#bd3786"
             ],
             [
              0.5555555555555556,
              "#d8576b"
             ],
             [
              0.6666666666666666,
              "#ed7953"
             ],
             [
              0.7777777777777778,
              "#fb9f3a"
             ],
             [
              0.8888888888888888,
              "#fdca26"
             ],
             [
              1,
              "#f0f921"
             ]
            ],
            "type": "surface"
           }
          ],
          "table": [
           {
            "cells": {
             "fill": {
              "color": "#EBF0F8"
             },
             "line": {
              "color": "white"
             }
            },
            "header": {
             "fill": {
              "color": "#C8D4E3"
             },
             "line": {
              "color": "white"
             }
            },
            "type": "table"
           }
          ]
         },
         "layout": {
          "annotationdefaults": {
           "arrowcolor": "#2a3f5f",
           "arrowhead": 0,
           "arrowwidth": 1
          },
          "autotypenumbers": "strict",
          "coloraxis": {
           "colorbar": {
            "outlinewidth": 0,
            "ticks": ""
           }
          },
          "colorscale": {
           "diverging": [
            [
             0,
             "#8e0152"
            ],
            [
             0.1,
             "#c51b7d"
            ],
            [
             0.2,
             "#de77ae"
            ],
            [
             0.3,
             "#f1b6da"
            ],
            [
             0.4,
             "#fde0ef"
            ],
            [
             0.5,
             "#f7f7f7"
            ],
            [
             0.6,
             "#e6f5d0"
            ],
            [
             0.7,
             "#b8e186"
            ],
            [
             0.8,
             "#7fbc41"
            ],
            [
             0.9,
             "#4d9221"
            ],
            [
             1,
             "#276419"
            ]
           ],
           "sequential": [
            [
             0,
             "#0d0887"
            ],
            [
             0.1111111111111111,
             "#46039f"
            ],
            [
             0.2222222222222222,
             "#7201a8"
            ],
            [
             0.3333333333333333,
             "#9c179e"
            ],
            [
             0.4444444444444444,
             "#bd3786"
            ],
            [
             0.5555555555555556,
             "#d8576b"
            ],
            [
             0.6666666666666666,
             "#ed7953"
            ],
            [
             0.7777777777777778,
             "#fb9f3a"
            ],
            [
             0.8888888888888888,
             "#fdca26"
            ],
            [
             1,
             "#f0f921"
            ]
           ],
           "sequentialminus": [
            [
             0,
             "#0d0887"
            ],
            [
             0.1111111111111111,
             "#46039f"
            ],
            [
             0.2222222222222222,
             "#7201a8"
            ],
            [
             0.3333333333333333,
             "#9c179e"
            ],
            [
             0.4444444444444444,
             "#bd3786"
            ],
            [
             0.5555555555555556,
             "#d8576b"
            ],
            [
             0.6666666666666666,
             "#ed7953"
            ],
            [
             0.7777777777777778,
             "#fb9f3a"
            ],
            [
             0.8888888888888888,
             "#fdca26"
            ],
            [
             1,
             "#f0f921"
            ]
           ]
          },
          "colorway": [
           "#636efa",
           "#EF553B",
           "#00cc96",
           "#ab63fa",
           "#FFA15A",
           "#19d3f3",
           "#FF6692",
           "#B6E880",
           "#FF97FF",
           "#FECB52"
          ],
          "font": {
           "color": "#2a3f5f"
          },
          "geo": {
           "bgcolor": "white",
           "lakecolor": "white",
           "landcolor": "#E5ECF6",
           "showlakes": true,
           "showland": true,
           "subunitcolor": "white"
          },
          "hoverlabel": {
           "align": "left"
          },
          "hovermode": "closest",
          "mapbox": {
           "style": "light"
          },
          "paper_bgcolor": "white",
          "plot_bgcolor": "#E5ECF6",
          "polar": {
           "angularaxis": {
            "gridcolor": "white",
            "linecolor": "white",
            "ticks": ""
           },
           "bgcolor": "#E5ECF6",
           "radialaxis": {
            "gridcolor": "white",
            "linecolor": "white",
            "ticks": ""
           }
          },
          "scene": {
           "xaxis": {
            "backgroundcolor": "#E5ECF6",
            "gridcolor": "white",
            "gridwidth": 2,
            "linecolor": "white",
            "showbackground": true,
            "ticks": "",
            "zerolinecolor": "white"
           },
           "yaxis": {
            "backgroundcolor": "#E5ECF6",
            "gridcolor": "white",
            "gridwidth": 2,
            "linecolor": "white",
            "showbackground": true,
            "ticks": "",
            "zerolinecolor": "white"
           },
           "zaxis": {
            "backgroundcolor": "#E5ECF6",
            "gridcolor": "white",
            "gridwidth": 2,
            "linecolor": "white",
            "showbackground": true,
            "ticks": "",
            "zerolinecolor": "white"
           }
          },
          "shapedefaults": {
           "line": {
            "color": "#2a3f5f"
           }
          },
          "ternary": {
           "aaxis": {
            "gridcolor": "white",
            "linecolor": "white",
            "ticks": ""
           },
           "baxis": {
            "gridcolor": "white",
            "linecolor": "white",
            "ticks": ""
           },
           "bgcolor": "#E5ECF6",
           "caxis": {
            "gridcolor": "white",
            "linecolor": "white",
            "ticks": ""
           }
          },
          "title": {
           "x": 0.05
          },
          "xaxis": {
           "automargin": true,
           "gridcolor": "white",
           "linecolor": "white",
           "ticks": "",
           "title": {
            "standoff": 15
           },
           "zerolinecolor": "white",
           "zerolinewidth": 2
          },
          "yaxis": {
           "automargin": true,
           "gridcolor": "white",
           "linecolor": "white",
           "ticks": "",
           "title": {
            "standoff": 15
           },
           "zerolinecolor": "white",
           "zerolinewidth": 2
          }
         }
        },
        "title": {
         "text": "Risk vs Return"
        },
        "xaxis": {
         "anchor": "y",
         "domain": [
          0,
          1
         ],
         "gridcolor": "gray",
         "gridwidth": 0.5,
         "title": {
          "text": "Risk (Standard Deviation)"
         }
        },
        "yaxis": {
         "anchor": "x",
         "domain": [
          0,
          1
         ],
         "gridcolor": "gray",
         "gridwidth": 0.5,
         "title": {
          "text": "Expected Return"
         }
        }
       }
      }
     },
     "metadata": {},
     "output_type": "display_data"
    }
   ],
   "source": [
    "import plotly.express as px\n",
    "import plotly.graph_objects as go\n",
    "\n",
    "fig = px.scatter(stock_df, x='Risk', y='Return', hover_data=['Ticker'])\n",
    "\n",
    "fig.add_trace(\n",
    "    go.Scatter(\n",
    "        x=[min(stock_df['Risk']), max(stock_df['Risk'])],\n",
    "        y=[0, 0],\n",
    "        mode='lines',\n",
    "        line=dict(color='gray', width=2, dash='dash'),\n",
    "        name='Zero Return Line'\n",
    "    )\n",
    ")\n",
    "\n",
    "fig.update_layout(\n",
    "    title='Risk vs Return',\n",
    "    xaxis=dict(\n",
    "        title='Risk (Standard Deviation)',\n",
    "        gridcolor='gray',\n",
    "        gridwidth=0.5\n",
    "    ),\n",
    "    yaxis=dict(\n",
    "        title='Expected Return',\n",
    "        gridcolor='gray',\n",
    "        gridwidth=0.5\n",
    "    ),\n",
    "    hoverlabel=dict(\n",
    "        bgcolor='white',\n",
    "        font=dict(\n",
    "            size=16,\n",
    "            family='Rockwell'\n",
    "        )\n",
    "    )\n",
    ")\n",
    "fig.show()"
   ]
  },
  {
   "cell_type": "code",
   "execution_count": 130,
   "metadata": {},
   "outputs": [
    {
     "data": {
      "image/png": "[encoded data removed]",
      "text/plain": [
       "<Figure size 1200x600 with 1 Axes>"
      ]
     },
     "metadata": {},
     "output_type": "display_data"
    },
    {
     "data": {
      "text/plain": [
       "(115,\n",
       " array([0.44652246, 0.50378357, 0.54574326, 0.57900255, 0.59562092,\n",
       "        0.61104829, 0.62489345, 0.63740918, 0.6487441 , 0.65940837,\n",
       "        0.66859868, 0.67728989, 0.68543169, 0.69338334, 0.70066653,\n",
       "        0.70757522, 0.71429774, 0.72033336, 0.72628451, 0.73210321,\n",
       "        0.73761367, 0.74294945, 0.74792513, 0.75284176, 0.75765999,\n",
       "        0.7622495 , 0.76672487, 0.77116544, 0.77555997, 0.77977976,\n",
       "        0.78383965, 0.78781649, 0.79170224, 0.79554991, 0.79928111,\n",
       "        0.80296437, 0.80656034, 0.81005145, 0.81341122, 0.81669567,\n",
       "        0.81995319, 0.8231294 , 0.82623448, 0.82930594, 0.83226222,\n",
       "        0.83519841, 0.83803868, 0.84078901, 0.84351903, 0.84619092,\n",
       "        0.84882734, 0.85141468, 0.85397516, 0.85651034, 0.85898916,\n",
       "        0.86141266, 0.86376997, 0.86608062, 0.86836195, 0.87062987,\n",
       "        0.87284142, 0.87501725, 0.87717156, 0.8792931 , 0.88137565,\n",
       "        0.88340538, 0.88542209, 0.88738094, 0.88927115, 0.89113347,\n",
       "        0.89297612, 0.89478315, 0.89656399, 0.8983231 , 0.90003498,\n",
       "        0.90171315, 0.90337749, 0.90500048, 0.90659002, 0.90815493,\n",
       "        0.90968554, 0.91120282, 0.91270649, 0.91417319, 0.91561193,\n",
       "        0.91703498, 0.91842033, 0.91980273, 0.92116548, 0.9225132 ,\n",
       "        0.92383627, 0.92513487, 0.92640939, 0.92768148, 0.92894229,\n",
       "        0.93016547, 0.93136773, 0.93256158, 0.93372722, 0.93488368,\n",
       "        0.93601585, 0.93713765, 0.93824351, 0.93933305, 0.94039601,\n",
       "        0.94144923, 0.94247698, 0.94349343, 0.94450104, 0.94548746,\n",
       "        0.94646939, 0.94742146, 0.94836324, 0.94928853, 0.95020898]))"
      ]
     },
     "execution_count": 130,
     "metadata": {},
     "output_type": "execute_result"
    }
   ],
   "source": [
    "\n",
    "# Perform PCA on the reduced dataset\n",
    "pca = PCA()\n",
    "pca.fit(returns)\n",
    "\n",
    "explained_variance_ratio = pca.explained_variance_ratio_\n",
    "\n",
    "plt.figure(figsize=(12, 6))\n",
    "plt.bar(range(1, len(explained_variance_ratio) + 1), explained_variance_ratio, alpha=0.7, label='Individual explained variance')\n",
    "plt.step(range(1, len(explained_variance_ratio) + 1), np.cumsum(explained_variance_ratio), where='mid', label='Cumulative explained variance')\n",
    "plt.ylabel('Explained Variance Ratio')\n",
    "plt.xlabel('Principal Components')\n",
    "plt.title('Explained Variance Ratio vs Principal Components')\n",
    "plt.legend(loc='best')\n",
    "plt.show()\n",
    "\n",
    "#calculating the number of components to capture 95% variance\n",
    "cumulative_explained_variance = np.cumsum(explained_variance_ratio)\n",
    "n_components_95 = np.where(cumulative_explained_variance >= 0.95)[0][0] + 1  # Adding 1 as index starts from 0\n",
    "\n",
    "n_components_95, cumulative_explained_variance[:n_components_95]"
   ]
  },
  {
   "cell_type": "markdown",
   "metadata": {},
   "source": [
    "Nope, this is where we give up. \n",
    " So let's just move on to the Monte Carlo method and doing some basic risk analysis in the form of limiting exposure to different sectors"
   ]
  },
  {
   "cell_type": "code",
   "execution_count": 27,
   "metadata": {},
   "outputs": [
    {
     "data": {
      "text/html": [
       "<div>\n",
       "<style scoped>\n",
       "    .dataframe tbody tr th:only-of-type {\n",
       "        vertical-align: middle;\n",
       "    }\n",
       "\n",
       "    .dataframe tbody tr th {\n",
       "        vertical-align: top;\n",
       "    }\n",
       "\n",
       "    .dataframe thead th {\n",
       "        text-align: right;\n",
       "    }\n",
       "</style>\n",
       "<table border=\"1\" class=\"dataframe\">\n",
       "  <thead>\n",
       "    <tr style=\"text-align: right;\">\n",
       "      <th></th>\n",
       "      <th>Ticker</th>\n",
       "      <th>Sector</th>\n",
       "    </tr>\n",
       "  </thead>\n",
       "  <tbody>\n",
       "    <tr>\n",
       "      <th>0</th>\n",
       "      <td>MMM</td>\n",
       "      <td>Industrials</td>\n",
       "    </tr>\n",
       "    <tr>\n",
       "      <th>1</th>\n",
       "      <td>AOS</td>\n",
       "      <td>Industrials</td>\n",
       "    </tr>\n",
       "    <tr>\n",
       "      <th>2</th>\n",
       "      <td>ABT</td>\n",
       "      <td>Health Care</td>\n",
       "    </tr>\n",
       "    <tr>\n",
       "      <th>3</th>\n",
       "      <td>ABBV</td>\n",
       "      <td>Health Care</td>\n",
       "    </tr>\n",
       "    <tr>\n",
       "      <th>4</th>\n",
       "      <td>ACN</td>\n",
       "      <td>Information Technology</td>\n",
       "    </tr>\n",
       "    <tr>\n",
       "      <th>...</th>\n",
       "      <td>...</td>\n",
       "      <td>...</td>\n",
       "    </tr>\n",
       "    <tr>\n",
       "      <th>498</th>\n",
       "      <td>YUM</td>\n",
       "      <td>Consumer Discretionary</td>\n",
       "    </tr>\n",
       "    <tr>\n",
       "      <th>499</th>\n",
       "      <td>ZBRA</td>\n",
       "      <td>Information Technology</td>\n",
       "    </tr>\n",
       "    <tr>\n",
       "      <th>500</th>\n",
       "      <td>ZBH</td>\n",
       "      <td>Health Care</td>\n",
       "    </tr>\n",
       "    <tr>\n",
       "      <th>501</th>\n",
       "      <td>ZION</td>\n",
       "      <td>Financials</td>\n",
       "    </tr>\n",
       "    <tr>\n",
       "      <th>502</th>\n",
       "      <td>ZTS</td>\n",
       "      <td>Health Care</td>\n",
       "    </tr>\n",
       "  </tbody>\n",
       "</table>\n",
       "<p>503 rows × 2 columns</p>\n",
       "</div>"
      ],
      "text/plain": [
       "    Ticker                  Sector\n",
       "0      MMM             Industrials\n",
       "1      AOS             Industrials\n",
       "2      ABT             Health Care\n",
       "3     ABBV             Health Care\n",
       "4      ACN  Information Technology\n",
       "..     ...                     ...\n",
       "498    YUM  Consumer Discretionary\n",
       "499   ZBRA  Information Technology\n",
       "500    ZBH             Health Care\n",
       "501   ZION              Financials\n",
       "502    ZTS             Health Care\n",
       "\n",
       "[503 rows x 2 columns]"
      ]
     },
     "execution_count": 27,
     "metadata": {},
     "output_type": "execute_result"
    }
   ],
   "source": [
    "sector_df"
   ]
  },
  {
   "cell_type": "code",
   "execution_count": 117,
   "metadata": {},
   "outputs": [],
   "source": [
    "def portfolio_variance(weights, cov_matrix):\n",
    "    return weights.T @ cov_matrix @ weights\n",
    "\n",
    "# Constraints\n",
    "def sum_weights_constraint(weights):\n",
    "    return np.sum(weights) - 1\n",
    "\n",
    "def return_constraint(weights, target_return, expected_return):\n",
    "    return expected_return.T @ weights - target_return"
   ]
  },
  {
   "cell_type": "code",
   "execution_count": 247,
   "metadata": {},
   "outputs": [],
   "source": [
    "def efficient_frontier_no_constraints(returns, cov_matrix, num_points=100):\n",
    "    \"\"\"Calculate the efficient frontier without constraints with debug information.\"\"\"\n",
    "    Mu = returns.mean(axis=0) * returns.shape[0] # annualising\n",
    "    target_returns = np.linspace(-0.2, 0.3, num_points)\n",
    "    \n",
    "    num_assets = len(Mu)\n",
    "    portfolio_risks = []\n",
    "    portfolio_returns = []\n",
    "\n",
    "\n",
    "    for target in target_returns:\n",
    "        # Constraints\n",
    "        constraints = ({'type': 'eq', 'fun': sum_weights_constraint},\n",
    "                       {'type': 'eq', 'fun': lambda weights: return_constraint(weights, target, Mu)})\n",
    "\n",
    "        # Bounds: weights are bound between 0 and 1\n",
    "        bounds = [(0, 1) for asset in range(num_assets)]\n",
    "\n",
    "        # Initial guess: Equal distribution\n",
    "        init_guess = [1./num_assets for asset in range(num_assets)]\n",
    "        print(len(init_guess))\n",
    "\n",
    "        # Run the optimizer\n",
    "        result = minimize(portfolio_variance, init_guess, args=(cov_matrix), method='SLSQP', bounds=bounds, constraints=constraints)\n",
    "\n",
    "        # Print the optimization result for debugging\n",
    "        print(f\"Target Return: {target:.4f}, Success: {result.success}, Message: {result.message}\")\n",
    "        \n",
    "        if result.success:\n",
    "            portfolio_risks.append(np.sqrt(result.fun))\n",
    "            portfolio_returns.append(target)\n",
    "\n",
    "    return portfolio_risks, portfolio_returns\n",
    "\n",
    "\n"
   ]
  },
  {
   "cell_type": "code",
   "execution_count": 251,
   "metadata": {},
   "outputs": [
    {
     "data": {
      "image/png": "[encoded data removed]",
      "text/plain": [
       "<Figure size 1000x600 with 2 Axes>"
      ]
     },
     "metadata": {},
     "output_type": "display_data"
    }
   ],
   "source": [
    "# portfolio_risks, portfolio_returns = efficient_frontier_no_constraints(returns, cov_matrix)\n",
    "\n",
    "plt.figure(figsize=(10, 6))\n",
    "plt.scatter(portfolio_risks, portfolio_returns, c=portfolio_returns, cmap='YlGnBu', marker='o')\n",
    "plt.xlabel('Portfolio Risk (Standard Deviation)')\n",
    "plt.ylabel('Portfolio Expected Return')\n",
    "plt.title('Efficient Frontier (No Constraints)')\n",
    "plt.colorbar(label='Expected Return')\n",
    "plt.grid(True)\n",
    "plt.show()"
   ]
  },
  {
   "cell_type": "markdown",
   "metadata": {},
   "source": [
    "Now that is one nice efficient frontier! Although the Sharpe Ratio seems high? (Maybe the linear space of target_returns should be weighted more towards the actually relevant part of the efficient frontier)"
   ]
  },
  {
   "cell_type": "code",
   "execution_count": 248,
   "metadata": {},
   "outputs": [],
   "source": [
    "def efficient_frontier_with_constraints(returns, cov_matrix, sector_mapping, tech_max=0.1, finance_max=0.1, num_points=50):\n",
    "    Mu = returns.mean(axis=0) * returns.shape[0]\n",
    "    Nu = len(Mu)\n",
    "\n",
    "    target_returns = np.linspace(-0.2, 0.3, num_points)\n",
    "    \n",
    "    num_assets = len(Mu)\n",
    "    portfolio_risks = []\n",
    "    portfolio_returns = []\n",
    "    \n",
    "    # Defining the objective function\n",
    "    def objective(weights): \n",
    "        return weights @ cov_matrix @ weights\n",
    "    \n",
    "    # Constraints\n",
    "    def constraint1(weights):\n",
    "        return np.sum(weights) - 1\n",
    "    \n",
    "    def constraint2(weights, target_return):\n",
    "        return Mu @ weights - target_return\n",
    "    \n",
    "    def constraint_tech(weights):\n",
    "        tech_weights = np.array([weights[i] for i, ticker in enumerate(sector_mapping.keys()) if sector_mapping.get(ticker, '') == 'Information Technology'])\n",
    "        return tech_max - np.sum(tech_weights)\n",
    "    \n",
    "    def constraint_finance(weights):\n",
    "        finance_weights = np.array([weights[i] for i, ticker in enumerate(sector_mapping.keys()) if sector_mapping.get(ticker, '') == 'Financials'])\n",
    "        return finance_max - np.sum(finance_weights)\n",
    "    \n",
    "    \n",
    "    # Run optimization\n",
    "    for target in target_returns:\n",
    "        constraints = ({'type': 'eq', 'fun': constraint1},\n",
    "                {'type': 'eq', 'fun': lambda weights: constraint2(weights, target)},\n",
    "                {'type': 'ineq', 'fun': constraint_tech},   # Note the inequality condition instead of strict equality sign - this is why we're using Quadratic programmign!\n",
    "                {'type': 'ineq', 'fun': constraint_finance})\n",
    "        \n",
    "        bounds = [(0, 1) for asset in range(Nu)]\n",
    "        init_guess = [1./num_assets for asset in range(num_assets)]\n",
    "        \n",
    "        result = minimize(portfolio_variance, init_guess, args=(cov_matrix), method='SLSQP', bounds=bounds, constraints=constraints)\n",
    "\n",
    "        print(f\"Target Return: {target:.4f}, Success: {result.success}, Message: {result.message}\")\n",
    "\n",
    "        if result.success:\n",
    "            portfolio_risks.append(np.sqrt(result.fun))\n",
    "            portfolio_returns.append(target)\n",
    "\n",
    "    return portfolio_risks, portfolio_returns"
   ]
  },
  {
   "cell_type": "code",
   "execution_count": 250,
   "metadata": {},
   "outputs": [
    {
     "name": "stdout",
     "output_type": "stream",
     "text": [
      "Target Return: -0.2000, Success: True, Message: Optimization terminated successfully\n",
      "Target Return: -0.1898, Success: True, Message: Optimization terminated successfully\n",
      "Target Return: -0.1796, Success: True, Message: Optimization terminated successfully\n",
      "Target Return: -0.1694, Success: True, Message: Optimization terminated successfully\n",
      "Target Return: -0.1592, Success: True, Message: Optimization terminated successfully\n",
      "Target Return: -0.1490, Success: True, Message: Optimization terminated successfully\n",
      "Target Return: -0.1388, Success: True, Message: Optimization terminated successfully\n",
      "Target Return: -0.1286, Success: True, Message: Optimization terminated successfully\n",
      "Target Return: -0.1184, Success: True, Message: Optimization terminated successfully\n",
      "Target Return: -0.1082, Success: True, Message: Optimization terminated successfully\n",
      "Target Return: -0.0980, Success: True, Message: Optimization terminated successfully\n",
      "Target Return: -0.0878, Success: True, Message: Optimization terminated successfully\n",
      "Target Return: -0.0776, Success: True, Message: Optimization terminated successfully\n",
      "Target Return: -0.0673, Success: True, Message: Optimization terminated successfully\n",
      "Target Return: -0.0571, Success: True, Message: Optimization terminated successfully\n",
      "Target Return: -0.0469, Success: True, Message: Optimization terminated successfully\n",
      "Target Return: -0.0367, Success: True, Message: Optimization terminated successfully\n",
      "Target Return: -0.0265, Success: True, Message: Optimization terminated successfully\n",
      "Target Return: -0.0163, Success: True, Message: Optimization terminated successfully\n",
      "Target Return: -0.0061, Success: True, Message: Optimization terminated successfully\n",
      "Target Return: 0.0041, Success: True, Message: Optimization terminated successfully\n",
      "Target Return: 0.0143, Success: True, Message: Optimization terminated successfully\n",
      "Target Return: 0.0245, Success: True, Message: Optimization terminated successfully\n",
      "Target Return: 0.0347, Success: True, Message: Optimization terminated successfully\n",
      "Target Return: 0.0449, Success: True, Message: Optimization terminated successfully\n",
      "Target Return: 0.0551, Success: True, Message: Optimization terminated successfully\n",
      "Target Return: 0.0653, Success: True, Message: Optimization terminated successfully\n",
      "Target Return: 0.0755, Success: True, Message: Optimization terminated successfully\n",
      "Target Return: 0.0857, Success: True, Message: Optimization terminated successfully\n",
      "Target Return: 0.0959, Success: True, Message: Optimization terminated successfully\n",
      "Target Return: 0.1061, Success: True, Message: Optimization terminated successfully\n",
      "Target Return: 0.1163, Success: True, Message: Optimization terminated successfully\n",
      "Target Return: 0.1265, Success: True, Message: Optimization terminated successfully\n",
      "Target Return: 0.1367, Success: True, Message: Optimization terminated successfully\n",
      "Target Return: 0.1469, Success: True, Message: Optimization terminated successfully\n",
      "Target Return: 0.1571, Success: True, Message: Optimization terminated successfully\n",
      "Target Return: 0.1673, Success: True, Message: Optimization terminated successfully\n",
      "Target Return: 0.1776, Success: True, Message: Optimization terminated successfully\n",
      "Target Return: 0.1878, Success: True, Message: Optimization terminated successfully\n",
      "Target Return: 0.1980, Success: True, Message: Optimization terminated successfully\n",
      "Target Return: 0.2082, Success: True, Message: Optimization terminated successfully\n",
      "Target Return: 0.2184, Success: True, Message: Optimization terminated successfully\n",
      "Target Return: 0.2286, Success: True, Message: Optimization terminated successfully\n",
      "Target Return: 0.2388, Success: True, Message: Optimization terminated successfully\n",
      "Target Return: 0.2490, Success: True, Message: Optimization terminated successfully\n",
      "Target Return: 0.2592, Success: True, Message: Optimization terminated successfully\n",
      "Target Return: 0.2694, Success: True, Message: Optimization terminated successfully\n",
      "Target Return: 0.2796, Success: True, Message: Optimization terminated successfully\n",
      "Target Return: 0.2898, Success: True, Message: Optimization terminated successfully\n",
      "Target Return: 0.3000, Success: True, Message: Optimization terminated successfully\n",
      "498\n",
      "Target Return: -0.2000, Success: True, Message: Optimization terminated successfully\n",
      "498\n",
      "Target Return: -0.1949, Success: True, Message: Optimization terminated successfully\n",
      "498\n",
      "Target Return: -0.1899, Success: True, Message: Optimization terminated successfully\n",
      "498\n",
      "Target Return: -0.1848, Success: True, Message: Optimization terminated successfully\n",
      "498\n",
      "Target Return: -0.1798, Success: True, Message: Optimization terminated successfully\n",
      "498\n",
      "Target Return: -0.1747, Success: True, Message: Optimization terminated successfully\n",
      "498\n",
      "Target Return: -0.1697, Success: True, Message: Optimization terminated successfully\n",
      "498\n",
      "Target Return: -0.1646, Success: True, Message: Optimization terminated successfully\n",
      "498\n",
      "Target Return: -0.1596, Success: True, Message: Optimization terminated successfully\n",
      "498\n",
      "Target Return: -0.1545, Success: True, Message: Optimization terminated successfully\n",
      "498\n",
      "Target Return: -0.1495, Success: True, Message: Optimization terminated successfully\n",
      "498\n",
      "Target Return: -0.1444, Success: True, Message: Optimization terminated successfully\n",
      "498\n",
      "Target Return: -0.1394, Success: True, Message: Optimization terminated successfully\n",
      "498\n",
      "Target Return: -0.1343, Success: True, Message: Optimization terminated successfully\n",
      "498\n",
      "Target Return: -0.1293, Success: True, Message: Optimization terminated successfully\n",
      "498\n",
      "Target Return: -0.1242, Success: True, Message: Optimization terminated successfully\n",
      "498\n",
      "Target Return: -0.1192, Success: True, Message: Optimization terminated successfully\n",
      "498\n",
      "Target Return: -0.1141, Success: True, Message: Optimization terminated successfully\n",
      "498\n",
      "Target Return: -0.1091, Success: True, Message: Optimization terminated successfully\n",
      "498\n",
      "Target Return: -0.1040, Success: True, Message: Optimization terminated successfully\n",
      "498\n",
      "Target Return: -0.0990, Success: True, Message: Optimization terminated successfully\n",
      "498\n",
      "Target Return: -0.0939, Success: True, Message: Optimization terminated successfully\n",
      "498\n",
      "Target Return: -0.0889, Success: True, Message: Optimization terminated successfully\n",
      "498\n",
      "Target Return: -0.0838, Success: True, Message: Optimization terminated successfully\n",
      "498\n",
      "Target Return: -0.0788, Success: True, Message: Optimization terminated successfully\n",
      "498\n",
      "Target Return: -0.0737, Success: True, Message: Optimization terminated successfully\n",
      "498\n",
      "Target Return: -0.0687, Success: True, Message: Optimization terminated successfully\n",
      "498\n",
      "Target Return: -0.0636, Success: True, Message: Optimization terminated successfully\n",
      "498\n",
      "Target Return: -0.0586, Success: True, Message: Optimization terminated successfully\n",
      "498\n",
      "Target Return: -0.0535, Success: True, Message: Optimization terminated successfully\n",
      "498\n",
      "Target Return: -0.0485, Success: True, Message: Optimization terminated successfully\n",
      "498\n",
      "Target Return: -0.0434, Success: True, Message: Optimization terminated successfully\n",
      "498\n",
      "Target Return: -0.0384, Success: True, Message: Optimization terminated successfully\n",
      "498\n",
      "Target Return: -0.0333, Success: True, Message: Optimization terminated successfully\n",
      "498\n",
      "Target Return: -0.0283, Success: True, Message: Optimization terminated successfully\n",
      "498\n",
      "Target Return: -0.0232, Success: True, Message: Optimization terminated successfully\n",
      "498\n",
      "Target Return: -0.0182, Success: True, Message: Optimization terminated successfully\n",
      "498\n",
      "Target Return: -0.0131, Success: True, Message: Optimization terminated successfully\n",
      "498\n",
      "Target Return: -0.0081, Success: True, Message: Optimization terminated successfully\n",
      "498\n",
      "Target Return: -0.0030, Success: True, Message: Optimization terminated successfully\n",
      "498\n",
      "Target Return: 0.0020, Success: True, Message: Optimization terminated successfully\n",
      "498\n",
      "Target Return: 0.0071, Success: True, Message: Optimization terminated successfully\n",
      "498\n",
      "Target Return: 0.0121, Success: True, Message: Optimization terminated successfully\n",
      "498\n",
      "Target Return: 0.0172, Success: True, Message: Optimization terminated successfully\n",
      "498\n",
      "Target Return: 0.0222, Success: True, Message: Optimization terminated successfully\n",
      "498\n",
      "Target Return: 0.0273, Success: True, Message: Optimization terminated successfully\n",
      "498\n",
      "Target Return: 0.0323, Success: True, Message: Optimization terminated successfully\n",
      "498\n",
      "Target Return: 0.0374, Success: True, Message: Optimization terminated successfully\n",
      "498\n",
      "Target Return: 0.0424, Success: True, Message: Optimization terminated successfully\n",
      "498\n",
      "Target Return: 0.0475, Success: True, Message: Optimization terminated successfully\n",
      "498\n",
      "Target Return: 0.0525, Success: True, Message: Optimization terminated successfully\n",
      "498\n",
      "Target Return: 0.0576, Success: True, Message: Optimization terminated successfully\n",
      "498\n",
      "Target Return: 0.0626, Success: True, Message: Optimization terminated successfully\n",
      "498\n",
      "Target Return: 0.0677, Success: True, Message: Optimization terminated successfully\n",
      "498\n",
      "Target Return: 0.0727, Success: True, Message: Optimization terminated successfully\n",
      "498\n",
      "Target Return: 0.0778, Success: True, Message: Optimization terminated successfully\n",
      "498\n",
      "Target Return: 0.0828, Success: True, Message: Optimization terminated successfully\n",
      "498\n",
      "Target Return: 0.0879, Success: True, Message: Optimization terminated successfully\n",
      "498\n",
      "Target Return: 0.0929, Success: True, Message: Optimization terminated successfully\n",
      "498\n",
      "Target Return: 0.0980, Success: True, Message: Optimization terminated successfully\n",
      "498\n",
      "Target Return: 0.1030, Success: True, Message: Optimization terminated successfully\n",
      "498\n",
      "Target Return: 0.1081, Success: True, Message: Optimization terminated successfully\n",
      "498\n",
      "Target Return: 0.1131, Success: True, Message: Optimization terminated successfully\n",
      "498\n",
      "Target Return: 0.1182, Success: True, Message: Optimization terminated successfully\n",
      "498\n",
      "Target Return: 0.1232, Success: True, Message: Optimization terminated successfully\n",
      "498\n",
      "Target Return: 0.1283, Success: True, Message: Optimization terminated successfully\n",
      "498\n",
      "Target Return: 0.1333, Success: True, Message: Optimization terminated successfully\n",
      "498\n",
      "Target Return: 0.1384, Success: True, Message: Optimization terminated successfully\n",
      "498\n",
      "Target Return: 0.1434, Success: True, Message: Optimization terminated successfully\n",
      "498\n",
      "Target Return: 0.1485, Success: True, Message: Optimization terminated successfully\n",
      "498\n",
      "Target Return: 0.1535, Success: True, Message: Optimization terminated successfully\n",
      "498\n",
      "Target Return: 0.1586, Success: True, Message: Optimization terminated successfully\n",
      "498\n",
      "Target Return: 0.1636, Success: True, Message: Optimization terminated successfully\n",
      "498\n",
      "Target Return: 0.1687, Success: True, Message: Optimization terminated successfully\n",
      "498\n",
      "Target Return: 0.1737, Success: True, Message: Optimization terminated successfully\n",
      "498\n",
      "Target Return: 0.1788, Success: True, Message: Optimization terminated successfully\n",
      "498\n",
      "Target Return: 0.1838, Success: True, Message: Optimization terminated successfully\n",
      "498\n",
      "Target Return: 0.1889, Success: True, Message: Optimization terminated successfully\n",
      "498\n",
      "Target Return: 0.1939, Success: True, Message: Optimization terminated successfully\n",
      "498\n",
      "Target Return: 0.1990, Success: True, Message: Optimization terminated successfully\n",
      "498\n",
      "Target Return: 0.2040, Success: True, Message: Optimization terminated successfully\n",
      "498\n",
      "Target Return: 0.2091, Success: True, Message: Optimization terminated successfully\n",
      "498\n",
      "Target Return: 0.2141, Success: True, Message: Optimization terminated successfully\n",
      "498\n",
      "Target Return: 0.2192, Success: True, Message: Optimization terminated successfully\n",
      "498\n",
      "Target Return: 0.2242, Success: True, Message: Optimization terminated successfully\n",
      "498\n",
      "Target Return: 0.2293, Success: True, Message: Optimization terminated successfully\n",
      "498\n",
      "Target Return: 0.2343, Success: True, Message: Optimization terminated successfully\n",
      "498\n",
      "Target Return: 0.2394, Success: True, Message: Optimization terminated successfully\n",
      "498\n",
      "Target Return: 0.2444, Success: True, Message: Optimization terminated successfully\n",
      "498\n",
      "Target Return: 0.2495, Success: True, Message: Optimization terminated successfully\n",
      "498\n",
      "Target Return: 0.2545, Success: True, Message: Optimization terminated successfully\n",
      "498\n",
      "Target Return: 0.2596, Success: True, Message: Optimization terminated successfully\n",
      "498\n",
      "Target Return: 0.2646, Success: True, Message: Optimization terminated successfully\n",
      "498\n",
      "Target Return: 0.2697, Success: True, Message: Optimization terminated successfully\n",
      "498\n",
      "Target Return: 0.2747, Success: True, Message: Optimization terminated successfully\n",
      "498\n",
      "Target Return: 0.2798, Success: True, Message: Optimization terminated successfully\n",
      "498\n",
      "Target Return: 0.2848, Success: True, Message: Optimization terminated successfully\n",
      "498\n",
      "Target Return: 0.2899, Success: True, Message: Optimization terminated successfully\n",
      "498\n",
      "Target Return: 0.2949, Success: True, Message: Optimization terminated successfully\n",
      "498\n",
      "Target Return: 0.3000, Success: True, Message: Optimization terminated successfully\n"
     ]
    },
    {
     "data": {
      "image/png": "[encoded data removed]",
      "text/plain": [
       "<Figure size 1000x600 with 2 Axes>"
      ]
     },
     "metadata": {},
     "output_type": "display_data"
    }
   ],
   "source": [
    "sector_mapping = pd.Series(sector_df.Sector.values, index=sector_df.Ticker).to_dict()\n",
    "\n",
    "plt.figure(figsize=(10, 6))\n",
    "\n",
    "portfolio_risks, portfolio_returns = efficient_frontier_with_constraints(returns, cov_matrix, sector_mapping)\n",
    "plt.scatter(portfolio_risks, portfolio_returns, color=\"blue\", marker='x')\n",
    "\n",
    "portfolio_risks, portfolio_returns = efficient_frontier_no_constraints(returns, cov_matrix)\n",
    "plt.scatter(portfolio_risks, portfolio_returns, color=\"red\", marker='o')\n",
    "\n",
    "plt.xlabel('Portfolio Risk (Standard Deviation)')\n",
    "plt.ylabel('Portfolio Expected Return')\n",
    "plt.title('Efficient Frontier (Constrained vs. No Constraints)')\n",
    "plt.colorbar(label='Expected Return')\n",
    "plt.grid(True)\n",
    "plt.show()"
   ]
  },
  {
   "cell_type": "markdown",
   "metadata": {},
   "source": [
    "Apparent that constraining the set of possible portfolios lowers the efficient frontier that's accessible. Interestingly, this constraint of capping exposure to financial and tech sector to 10% of portfolio is not very significant"
   ]
  }
 ],
 "metadata": {
  "kernelspec": {
   "display_name": "Python 3.9.17 ('base')",
   "language": "python",
   "name": "python3"
  },
  "language_info": {
   "codemirror_mode": {
    "name": "ipython",
    "version": 3
   },
   "file_extension": ".py",
   "mimetype": "text/x-python",
   "name": "python",
   "nbconvert_exporter": "python",
   "pygments_lexer": "ipython3",
   "version": "3.9.17"
  },
  "orig_nbformat": 4,
  "vscode": {
   "interpreter": {
    "hash": "42322db88e3c2f02255451d64a951c0a78537fc6172e7daad3a10b518b5be8f3"
   }
  }
 },
 "nbformat": 4,
 "nbformat_minor": 2
}
